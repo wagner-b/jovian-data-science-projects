{
 "cells": [
  {
   "cell_type": "markdown",
   "id": "39d482ef",
   "metadata": {},
   "source": [
    "    Efficient Python Program to Calculate X to the Power of N\n",
    "    Copyright (C) 2021 Wagner Bertholdo Burghausen\n",
    "    <https://github.com/wagner-b>, <wagb2b2@gmail.com>\n",
    "\n",
    "    This program is free software: you can redistribute it and/or modify\n",
    "    it under the terms of the GNU General Public License as published by\n",
    "    the Free Software Foundation, either version 3 of the License, or\n",
    "    (at your option) any later version.\n",
    "\n",
    "    This program is distributed in the hope that it will be useful,\n",
    "    but WITHOUT ANY WARRANTY; without even the implied warranty of\n",
    "    MERCHANTABILITY or FITNESS FOR A PARTICULAR PURPOSE.  See the\n",
    "    GNU General Public License for more details.\n",
    "\n",
    "    You should have received a copy of the GNU General Public License\n",
    "    along with this program.  If not, see <https://www.gnu.org/licenses/>."
   ]
  },
  {
   "cell_type": "markdown",
   "id": "aboriginal-bikini",
   "metadata": {},
   "source": [
    "# Efficient program to calculate x to the power of n\n",
    "## Personal project - Data Structures and Algorithms in Python\n",
    "\n",
    "This my personal project for the online course [\"Data Structures and Algorithms in Python\"](https://jovian.ai/learn/data-structures-and-algorithms-in-python).\n"
   ]
  },
  {
   "cell_type": "code",
   "execution_count": 1,
   "id": "generic-terry",
   "metadata": {},
   "outputs": [],
   "source": [
    "project_name = 'python-dsa-course-project'"
   ]
  },
  {
   "cell_type": "code",
   "execution_count": null,
   "id": "considerable-carter",
   "metadata": {},
   "outputs": [],
   "source": [
    "!pip install jovian --upgrade --quiet"
   ]
  },
  {
   "cell_type": "code",
   "execution_count": 2,
   "id": "muslim-migration",
   "metadata": {},
   "outputs": [],
   "source": [
    "import jovian"
   ]
  },
  {
   "cell_type": "code",
   "execution_count": 3,
   "id": "invalid-algeria",
   "metadata": {},
   "outputs": [
    {
     "data": {
      "application/javascript": [
       "window.require && require([\"base/js/namespace\"],function(Jupyter){Jupyter.notebook.save_checkpoint()})"
      ],
      "text/plain": [
       "<IPython.core.display.Javascript object>"
      ]
     },
     "metadata": {},
     "output_type": "display_data"
    },
    {
     "name": "stdout",
     "output_type": "stream",
     "text": [
      "[jovian] Attempting to save notebook..\u001b[0m\n",
      "[jovian] Creating a new project \"wagb2b2/python-dsa-course-project\"\u001b[0m\n",
      "[jovian] Uploading notebook..\u001b[0m\n",
      "[jovian] Committed successfully! https://jovian.ai/wagb2b2/python-dsa-course-project\u001b[0m\n"
     ]
    },
    {
     "data": {
      "text/plain": [
       "'https://jovian.ai/wagb2b2/python-dsa-course-project'"
      ]
     },
     "execution_count": 3,
     "metadata": {},
     "output_type": "execute_result"
    }
   ],
   "source": [
    "jovian.commit(project=project_name, environment=None)"
   ]
  },
  {
   "cell_type": "markdown",
   "id": "several-florence",
   "metadata": {},
   "source": [
    "## Problem Statement\n",
    "\n",
    "\n",
    "> Given two integers \"$x$\" and \"$n$\", write a efficient Python program to calculate $x^n$. You should not use the Python's exponent operator __**__. You can assume that $x$ and $n$ are small and overflow doesn't happen.\n",
    "\n",
    "\n",
    "Source: <https://www.geeksforgeeks.org/write-a-c-program-to-calculate-powxn/>"
   ]
  },
  {
   "cell_type": "markdown",
   "id": "fuzzy-charlotte",
   "metadata": {},
   "source": [
    "## The Method\n",
    "\n",
    "Here's the systematic strategy we'll apply for solving problems:\n",
    "\n",
    "1. State the problem clearly. Identify the input & output formats.\n",
    "2. Come up with some example inputs & outputs. Try to cover all edge cases.\n",
    "3. Come up with a correct solution for the problem. State it in plain English.\n",
    "4. Implement the solution and test it using example inputs. Fix bugs, if any.\n",
    "5. Analyze the algorithm's complexity and identify inefficiencies, if any.\n",
    "6. Apply the right technique to overcome the inefficiency. Repeat steps 3 to 6.\n",
    "\n",
    "This approach is explained in detail in [Lesson 1](https://jovian.ai/learn/data-structures-and-algorithms-in-python/lesson/lesson-1-binary-search-linked-lists-and-complexity) of the course. Let's apply this approach step-by-step."
   ]
  },
  {
   "cell_type": "markdown",
   "id": "cordless-pittsburgh",
   "metadata": {},
   "source": [
    "## Solution\n",
    "\n",
    "\n",
    "### 1. State the problem clearly. Identify the input & output formats.\n",
    "\n",
    "While this problem is stated clearly enough, it's always useful to try and express in your own words, in a way that makes it most clear for you. \n",
    "\n",
    "\n",
    "**Problem**\n",
    "\n",
    "> **We need to build a efficient function to calculate x to the power of n, without using the power operator**\n",
    "\n",
    "<br/>\n",
    "\n",
    "\n",
    "**Input**\n",
    "\n",
    "1. `x` **: The base integer**\n",
    "2. `n` **: The exponent integer**\n",
    "\n",
    "\n",
    "**Output**\n",
    "\n",
    "1. **`result`: The result computed by raising `x` to the power of `n`**\n",
    "\n",
    "<br/>\n",
    "\n",
    "Based on the above, we can now create a signature of our function:"
   ]
  },
  {
   "cell_type": "code",
   "execution_count": 4,
   "id": "above-stuff",
   "metadata": {},
   "outputs": [],
   "source": [
    "def exponentiate(x, n):\n",
    "    pass"
   ]
  },
  {
   "cell_type": "markdown",
   "id": "solar-basis",
   "metadata": {},
   "source": [
    "Save and upload your work before continuing."
   ]
  },
  {
   "cell_type": "code",
   "execution_count": 5,
   "id": "precious-buddy",
   "metadata": {},
   "outputs": [],
   "source": [
    "import jovian"
   ]
  },
  {
   "cell_type": "code",
   "execution_count": 6,
   "id": "prompt-kruger",
   "metadata": {},
   "outputs": [
    {
     "data": {
      "application/javascript": [
       "window.require && require([\"base/js/namespace\"],function(Jupyter){Jupyter.notebook.save_checkpoint()})"
      ],
      "text/plain": [
       "<IPython.core.display.Javascript object>"
      ]
     },
     "metadata": {},
     "output_type": "display_data"
    },
    {
     "name": "stdout",
     "output_type": "stream",
     "text": [
      "[jovian] Attempting to save notebook..\u001b[0m\n",
      "[jovian] Updating notebook \"wagb2b2/python-dsa-course-project\" on https://jovian.ai/\u001b[0m\n",
      "[jovian] Uploading notebook..\u001b[0m\n",
      "[jovian] Committed successfully! https://jovian.ai/wagb2b2/python-dsa-course-project\u001b[0m\n"
     ]
    },
    {
     "data": {
      "text/plain": [
       "'https://jovian.ai/wagb2b2/python-dsa-course-project'"
      ]
     },
     "execution_count": 6,
     "metadata": {},
     "output_type": "execute_result"
    }
   ],
   "source": [
    "jovian.commit(project=project_name, environment=None)"
   ]
  },
  {
   "cell_type": "markdown",
   "id": "resident-desperate",
   "metadata": {},
   "source": [
    "### 2. Come up with some example inputs & outputs. Try to cover all edge cases.\n",
    "\n",
    "Our function should be able to handle any set of valid inputs we pass into it. Here's a list of some possible variations we might encounter:\n",
    "\n",
    "1. **5 to the power of 3**\n",
    "2. **1 to the power of 10**\n",
    "3. **120 to the power of 1**\n",
    "4. **240 to the power of 0**\n",
    "5. **64 to the power of 8**\n",
    "6. **1 to the power of 0**\n",
    "7. **5 to the power of -5**\n",
    "8. **-8 to the power of -2**\n",
    "9. **-20 to the power of -3**\n",
    "10. **-512 to the power of 4**\n",
    "\n",
    "We'll express our test cases as dictionaries, to test them easily. Each dictionary will contain 2 keys: `input` (a dictionary itself containing one key for each argument to the function and `output` (the expected result from the function). "
   ]
  },
  {
   "cell_type": "code",
   "execution_count": 8,
   "id": "satellite-sandwich",
   "metadata": {},
   "outputs": [],
   "source": [
    "test0 = {\n",
    "    'input': {\n",
    "        'x': 5, \n",
    "        'n': 3\n",
    "    },\n",
    "    'output': 125\n",
    "}"
   ]
  },
  {
   "cell_type": "code",
   "execution_count": 9,
   "id": "occupied-times",
   "metadata": {},
   "outputs": [],
   "source": [
    "test1 = {\n",
    "    'input': {\n",
    "        'x': 1, \n",
    "        'n': 10\n",
    "    },\n",
    "    'output': 1\n",
    "}"
   ]
  },
  {
   "cell_type": "code",
   "execution_count": 10,
   "id": "gentle-dodge",
   "metadata": {},
   "outputs": [],
   "source": [
    "test2 = {\n",
    "    'input': {\n",
    "        'x': 120, \n",
    "        'n': 1\n",
    "    },\n",
    "    'output': 120\n",
    "}"
   ]
  },
  {
   "cell_type": "code",
   "execution_count": 11,
   "id": "figured-holly",
   "metadata": {},
   "outputs": [],
   "source": [
    "test3 = {\n",
    "    'input': {\n",
    "        'x': 240, \n",
    "        'n': 0\n",
    "    },\n",
    "    'output': 1\n",
    "}"
   ]
  },
  {
   "cell_type": "code",
   "execution_count": 12,
   "id": "provincial-entry",
   "metadata": {},
   "outputs": [],
   "source": [
    "test4 = {\n",
    "    'input': {\n",
    "        'x': 64, \n",
    "        'n': 8\n",
    "    },\n",
    "    'output': 281474976710656\n",
    "}"
   ]
  },
  {
   "cell_type": "code",
   "execution_count": 13,
   "id": "equipped-nebraska",
   "metadata": {},
   "outputs": [],
   "source": [
    "test5 = {\n",
    "    'input': {\n",
    "        'x': 1, \n",
    "        'n': 0\n",
    "    },\n",
    "    'output': 1\n",
    "}"
   ]
  },
  {
   "cell_type": "code",
   "execution_count": 14,
   "id": "liberal-breast",
   "metadata": {},
   "outputs": [],
   "source": [
    "test6 = {\n",
    "    'input': {\n",
    "        'x': 5, \n",
    "        'n': -5\n",
    "    },\n",
    "    'output': 0.00032\n",
    "}"
   ]
  },
  {
   "cell_type": "code",
   "execution_count": 15,
   "id": "biblical-architecture",
   "metadata": {},
   "outputs": [],
   "source": [
    "test7 = {\n",
    "    'input': {\n",
    "        'x': -8, \n",
    "        'n': -2\n",
    "    },\n",
    "    'output': 0.015625\n",
    "}"
   ]
  },
  {
   "cell_type": "code",
   "execution_count": 16,
   "id": "committed-aquarium",
   "metadata": {},
   "outputs": [],
   "source": [
    "test8 = {\n",
    "    'input': {\n",
    "        'x': -20, \n",
    "        'n': -3\n",
    "    },\n",
    "    'output': -0.000125\n",
    "}"
   ]
  },
  {
   "cell_type": "code",
   "execution_count": 17,
   "id": "close-islam",
   "metadata": {},
   "outputs": [],
   "source": [
    "test9 = {\n",
    "    'input': {\n",
    "        'x': -512, \n",
    "        'n': 4\n",
    "    },\n",
    "    'output': 68719476736\n",
    "}"
   ]
  },
  {
   "cell_type": "markdown",
   "id": "brazilian-sleeve",
   "metadata": {},
   "source": [
    "We'll store our test cases in a list called `tests`."
   ]
  },
  {
   "cell_type": "code",
   "execution_count": 18,
   "id": "extensive-transition",
   "metadata": {},
   "outputs": [],
   "source": [
    "tests = [test0, test1, test2, test3, test4, test5, test6, test7, test8, test9]"
   ]
  },
  {
   "cell_type": "code",
   "execution_count": 19,
   "id": "dated-mercy",
   "metadata": {},
   "outputs": [
    {
     "data": {
      "application/javascript": [
       "window.require && require([\"base/js/namespace\"],function(Jupyter){Jupyter.notebook.save_checkpoint()})"
      ],
      "text/plain": [
       "<IPython.core.display.Javascript object>"
      ]
     },
     "metadata": {},
     "output_type": "display_data"
    },
    {
     "name": "stdout",
     "output_type": "stream",
     "text": [
      "[jovian] Attempting to save notebook..\u001b[0m\n",
      "[jovian] Updating notebook \"wagb2b2/python-dsa-course-project\" on https://jovian.ai/\u001b[0m\n",
      "[jovian] Uploading notebook..\u001b[0m\n",
      "[jovian] Committed successfully! https://jovian.ai/wagb2b2/python-dsa-course-project\u001b[0m\n"
     ]
    },
    {
     "data": {
      "text/plain": [
       "'https://jovian.ai/wagb2b2/python-dsa-course-project'"
      ]
     },
     "execution_count": 19,
     "metadata": {},
     "output_type": "execute_result"
    }
   ],
   "source": [
    "jovian.commit(project=project_name, environment=None)"
   ]
  },
  {
   "cell_type": "markdown",
   "id": "compact-valve",
   "metadata": {},
   "source": [
    "### 3. Come up with a correct solution for the problem. State it in plain English.\n",
    "\n",
    "Our first goal should always be to come up with a _correct_ solution to the problem, which may not necessarily be the most _efficient_ solution. Come with a correct solution and explain it in simple words below:\n",
    "\n",
    "1. **Based on the values of `x` and `n`, iterate `n` times;**\n",
    "2. **For each iteration `x` will be equal to `x * x` (`x` times `x`);**\n",
    "3. **Return the resulting value of `x` after all iterations end.**\n",
    "\n",
    "Let's save and upload our work before continuing."
   ]
  },
  {
   "cell_type": "code",
   "execution_count": 20,
   "id": "specified-stream",
   "metadata": {},
   "outputs": [
    {
     "data": {
      "application/javascript": [
       "window.require && require([\"base/js/namespace\"],function(Jupyter){Jupyter.notebook.save_checkpoint()})"
      ],
      "text/plain": [
       "<IPython.core.display.Javascript object>"
      ]
     },
     "metadata": {},
     "output_type": "display_data"
    },
    {
     "name": "stdout",
     "output_type": "stream",
     "text": [
      "[jovian] Attempting to save notebook..\u001b[0m\n",
      "[jovian] Updating notebook \"wagb2b2/python-dsa-course-project\" on https://jovian.ai/\u001b[0m\n",
      "[jovian] Uploading notebook..\u001b[0m\n",
      "[jovian] Committed successfully! https://jovian.ai/wagb2b2/python-dsa-course-project\u001b[0m\n"
     ]
    },
    {
     "data": {
      "text/plain": [
       "'https://jovian.ai/wagb2b2/python-dsa-course-project'"
      ]
     },
     "execution_count": 20,
     "metadata": {},
     "output_type": "execute_result"
    }
   ],
   "source": [
    "jovian.commit(project=project_name, environment=None)"
   ]
  },
  {
   "cell_type": "markdown",
   "id": "celtic-costs",
   "metadata": {},
   "source": [
    "###  4. Implement the solution and test it using example inputs. Fix bugs, if any."
   ]
  },
  {
   "cell_type": "code",
   "execution_count": 23,
   "id": "demographic-projector",
   "metadata": {},
   "outputs": [],
   "source": [
    "def exponentiate(x, n):\n",
    "    result = 1\n",
    "    \n",
    "    # Iterate n times and multiply x for result\n",
    "    for _ in range(n):\n",
    "        result = result * x\n",
    "    \n",
    "    # return the result\n",
    "    return result"
   ]
  },
  {
   "cell_type": "code",
   "execution_count": 25,
   "id": "impressive-elements",
   "metadata": {},
   "outputs": [
    {
     "name": "stdout",
     "output_type": "stream",
     "text": [
      "125 125\n",
      "True\n"
     ]
    }
   ],
   "source": [
    "print(test0['output'], exponentiate(**test0['input']))\n",
    "print(test0['output'] == exponentiate(**test0['input']))"
   ]
  },
  {
   "cell_type": "code",
   "execution_count": 26,
   "id": "accessory-biology",
   "metadata": {},
   "outputs": [
    {
     "name": "stdout",
     "output_type": "stream",
     "text": [
      "1 1\n",
      "True\n"
     ]
    }
   ],
   "source": [
    "print(test1['output'], exponentiate(**test1['input']))\n",
    "print(test1['output'] == exponentiate(**test1['input']))"
   ]
  },
  {
   "cell_type": "code",
   "execution_count": 27,
   "id": "electric-bouquet",
   "metadata": {},
   "outputs": [
    {
     "name": "stdout",
     "output_type": "stream",
     "text": [
      "120 120\n",
      "True\n"
     ]
    }
   ],
   "source": [
    "print(test2['output'], exponentiate(**test2['input']))\n",
    "print(test2['output'] == exponentiate(**test2['input']))"
   ]
  },
  {
   "cell_type": "markdown",
   "id": "legal-brazilian",
   "metadata": {},
   "source": [
    "Now I will evaluate this function against all the test cases together using the `evaluate_test_cases` function from `jovian`."
   ]
  },
  {
   "cell_type": "code",
   "execution_count": 28,
   "id": "plain-bahrain",
   "metadata": {},
   "outputs": [],
   "source": [
    "from jovian.pythondsa import evaluate_test_cases"
   ]
  },
  {
   "cell_type": "code",
   "execution_count": 29,
   "id": "friendly-therapist",
   "metadata": {},
   "outputs": [
    {
     "name": "stdout",
     "output_type": "stream",
     "text": [
      "\n",
      "\u001b[1mTEST CASE #0\u001b[0m\n",
      "\n",
      "Input:\n",
      "{'x': 5, 'n': 3}\n",
      "\n",
      "Expected Output:\n",
      "125\n",
      "\n",
      "\n",
      "Actual Output:\n",
      "125\n",
      "\n",
      "Execution Time:\n",
      "0.006 ms\n",
      "\n",
      "Test Result:\n",
      "\u001b[92mPASSED\u001b[0m\n",
      "\n",
      "\n",
      "\u001b[1mTEST CASE #1\u001b[0m\n",
      "\n",
      "Input:\n",
      "{'x': 1, 'n': 10}\n",
      "\n",
      "Expected Output:\n",
      "1\n",
      "\n",
      "\n",
      "Actual Output:\n",
      "1\n",
      "\n",
      "Execution Time:\n",
      "0.006 ms\n",
      "\n",
      "Test Result:\n",
      "\u001b[92mPASSED\u001b[0m\n",
      "\n",
      "\n",
      "\u001b[1mTEST CASE #2\u001b[0m\n",
      "\n",
      "Input:\n",
      "{'x': 120, 'n': 1}\n",
      "\n",
      "Expected Output:\n",
      "120\n",
      "\n",
      "\n",
      "Actual Output:\n",
      "120\n",
      "\n",
      "Execution Time:\n",
      "0.004 ms\n",
      "\n",
      "Test Result:\n",
      "\u001b[92mPASSED\u001b[0m\n",
      "\n",
      "\n",
      "\u001b[1mTEST CASE #3\u001b[0m\n",
      "\n",
      "Input:\n",
      "{'x': 240, 'n': 0}\n",
      "\n",
      "Expected Output:\n",
      "1\n",
      "\n",
      "\n",
      "Actual Output:\n",
      "1\n",
      "\n",
      "Execution Time:\n",
      "0.004 ms\n",
      "\n",
      "Test Result:\n",
      "\u001b[92mPASSED\u001b[0m\n",
      "\n",
      "\n",
      "\u001b[1mTEST CASE #4\u001b[0m\n",
      "\n",
      "Input:\n",
      "{'x': 64, 'n': 8}\n",
      "\n",
      "Expected Output:\n",
      "281474976710656\n",
      "\n",
      "\n",
      "Actual Output:\n",
      "281474976710656\n",
      "\n",
      "Execution Time:\n",
      "0.006 ms\n",
      "\n",
      "Test Result:\n",
      "\u001b[92mPASSED\u001b[0m\n",
      "\n",
      "\n",
      "\u001b[1mTEST CASE #5\u001b[0m\n",
      "\n",
      "Input:\n",
      "{'x': 1, 'n': 0}\n",
      "\n",
      "Expected Output:\n",
      "1\n",
      "\n",
      "\n",
      "Actual Output:\n",
      "1\n",
      "\n",
      "Execution Time:\n",
      "0.003 ms\n",
      "\n",
      "Test Result:\n",
      "\u001b[92mPASSED\u001b[0m\n",
      "\n",
      "\n",
      "\u001b[1mTEST CASE #6\u001b[0m\n",
      "\n",
      "Input:\n",
      "{'x': 5, 'n': -5}\n",
      "\n",
      "Expected Output:\n",
      "0.00032\n",
      "\n",
      "\n",
      "Actual Output:\n",
      "1\n",
      "\n",
      "Execution Time:\n",
      "0.004 ms\n",
      "\n",
      "Test Result:\n",
      "\u001b[91mFAILED\u001b[0m\n",
      "\n",
      "\n",
      "\u001b[1mTEST CASE #7\u001b[0m\n",
      "\n",
      "Input:\n",
      "{'x': -8, 'n': -2}\n",
      "\n",
      "Expected Output:\n",
      "0.015625\n",
      "\n",
      "\n",
      "Actual Output:\n",
      "1\n",
      "\n",
      "Execution Time:\n",
      "0.004 ms\n",
      "\n",
      "Test Result:\n",
      "\u001b[91mFAILED\u001b[0m\n",
      "\n",
      "\n",
      "\u001b[1mTEST CASE #8\u001b[0m\n",
      "\n",
      "Input:\n",
      "{'x': -20, 'n': -3}\n",
      "\n",
      "Expected Output:\n",
      "-0.000125\n",
      "\n",
      "\n",
      "Actual Output:\n",
      "1\n",
      "\n",
      "Execution Time:\n",
      "0.004 ms\n",
      "\n",
      "Test Result:\n",
      "\u001b[91mFAILED\u001b[0m\n",
      "\n",
      "\n",
      "\u001b[1mTEST CASE #9\u001b[0m\n",
      "\n",
      "Input:\n",
      "{'x': -512, 'n': 4}\n",
      "\n",
      "Expected Output:\n",
      "68719476736\n",
      "\n",
      "\n",
      "Actual Output:\n",
      "68719476736\n",
      "\n",
      "Execution Time:\n",
      "0.005 ms\n",
      "\n",
      "Test Result:\n",
      "\u001b[92mPASSED\u001b[0m\n",
      "\n",
      "\n",
      "\u001b[1mSUMMARY\u001b[0m\n",
      "\n",
      "TOTAL: 10, \u001b[92mPASSED\u001b[0m: 7, \u001b[91mFAILED\u001b[0m: 3\n"
     ]
    },
    {
     "data": {
      "text/plain": [
       "[(125, True, 0.006),\n",
       " (1, True, 0.006),\n",
       " (120, True, 0.004),\n",
       " (1, True, 0.004),\n",
       " (281474976710656, True, 0.006),\n",
       " (1, True, 0.003),\n",
       " (1, False, 0.004),\n",
       " (1, False, 0.004),\n",
       " (1, False, 0.004),\n",
       " (68719476736, True, 0.005)]"
      ]
     },
     "execution_count": 29,
     "metadata": {},
     "output_type": "execute_result"
    }
   ],
   "source": [
    "evaluate_test_cases(exponentiate, tests)"
   ]
  },
  {
   "cell_type": "markdown",
   "id": "bearing-alcohol",
   "metadata": {},
   "source": [
    "Verify that all the test cases were evaluated. Of the 10 test cases, 7 passed and 3 failed. The ones that failed had negative exponents. Next, I will fix this function so that it can work with negative exponents as well."
   ]
  },
  {
   "cell_type": "code",
   "execution_count": 30,
   "id": "enormous-salon",
   "metadata": {},
   "outputs": [
    {
     "data": {
      "application/javascript": [
       "window.require && require([\"base/js/namespace\"],function(Jupyter){Jupyter.notebook.save_checkpoint()})"
      ],
      "text/plain": [
       "<IPython.core.display.Javascript object>"
      ]
     },
     "metadata": {},
     "output_type": "display_data"
    },
    {
     "name": "stdout",
     "output_type": "stream",
     "text": [
      "[jovian] Attempting to save notebook..\u001b[0m\n",
      "[jovian] Updating notebook \"wagb2b2/python-dsa-course-project\" on https://jovian.ai/\u001b[0m\n",
      "[jovian] Uploading notebook..\u001b[0m\n",
      "[jovian] Committed successfully! https://jovian.ai/wagb2b2/python-dsa-course-project\u001b[0m\n"
     ]
    },
    {
     "data": {
      "text/plain": [
       "'https://jovian.ai/wagb2b2/python-dsa-course-project'"
      ]
     },
     "execution_count": 30,
     "metadata": {},
     "output_type": "execute_result"
    }
   ],
   "source": [
    "jovian.commit(project=project_name, environment=None)"
   ]
  },
  {
   "cell_type": "markdown",
   "id": "civic-timber",
   "metadata": {},
   "source": [
    "**Corrected function to work with both positive and negative exponents**"
   ]
  },
  {
   "cell_type": "code",
   "execution_count": 33,
   "id": "persistent-horizon",
   "metadata": {},
   "outputs": [],
   "source": [
    "def exponentiate(x, n):\n",
    "    result = 1\n",
    "    \n",
    "    # Iterate n times and multiply x for result\n",
    "    # We need to use the absolute value of n, in case it is negative\n",
    "    for _ in range(abs(n)):\n",
    "        result = result * x\n",
    "    \n",
    "    # In case we are dealing with a negative exponent\n",
    "    if n < 0:\n",
    "        result = 1 / result\n",
    "    \n",
    "    # return the result\n",
    "    return result"
   ]
  },
  {
   "cell_type": "code",
   "execution_count": 34,
   "id": "champion-kennedy",
   "metadata": {},
   "outputs": [
    {
     "name": "stdout",
     "output_type": "stream",
     "text": [
      "\n",
      "\u001b[1mTEST CASE #0\u001b[0m\n",
      "\n",
      "Input:\n",
      "{'x': 5, 'n': 3}\n",
      "\n",
      "Expected Output:\n",
      "125\n",
      "\n",
      "\n",
      "Actual Output:\n",
      "125\n",
      "\n",
      "Execution Time:\n",
      "0.007 ms\n",
      "\n",
      "Test Result:\n",
      "\u001b[92mPASSED\u001b[0m\n",
      "\n",
      "\n",
      "\u001b[1mTEST CASE #1\u001b[0m\n",
      "\n",
      "Input:\n",
      "{'x': 1, 'n': 10}\n",
      "\n",
      "Expected Output:\n",
      "1\n",
      "\n",
      "\n",
      "Actual Output:\n",
      "1\n",
      "\n",
      "Execution Time:\n",
      "0.005 ms\n",
      "\n",
      "Test Result:\n",
      "\u001b[92mPASSED\u001b[0m\n",
      "\n",
      "\n",
      "\u001b[1mTEST CASE #2\u001b[0m\n",
      "\n",
      "Input:\n",
      "{'x': 120, 'n': 1}\n",
      "\n",
      "Expected Output:\n",
      "120\n",
      "\n",
      "\n",
      "Actual Output:\n",
      "120\n",
      "\n",
      "Execution Time:\n",
      "0.005 ms\n",
      "\n",
      "Test Result:\n",
      "\u001b[92mPASSED\u001b[0m\n",
      "\n",
      "\n",
      "\u001b[1mTEST CASE #3\u001b[0m\n",
      "\n",
      "Input:\n",
      "{'x': 240, 'n': 0}\n",
      "\n",
      "Expected Output:\n",
      "1\n",
      "\n",
      "\n",
      "Actual Output:\n",
      "1\n",
      "\n",
      "Execution Time:\n",
      "0.005 ms\n",
      "\n",
      "Test Result:\n",
      "\u001b[92mPASSED\u001b[0m\n",
      "\n",
      "\n",
      "\u001b[1mTEST CASE #4\u001b[0m\n",
      "\n",
      "Input:\n",
      "{'x': 64, 'n': 8}\n",
      "\n",
      "Expected Output:\n",
      "281474976710656\n",
      "\n",
      "\n",
      "Actual Output:\n",
      "281474976710656\n",
      "\n",
      "Execution Time:\n",
      "0.006 ms\n",
      "\n",
      "Test Result:\n",
      "\u001b[92mPASSED\u001b[0m\n",
      "\n",
      "\n",
      "\u001b[1mTEST CASE #5\u001b[0m\n",
      "\n",
      "Input:\n",
      "{'x': 1, 'n': 0}\n",
      "\n",
      "Expected Output:\n",
      "1\n",
      "\n",
      "\n",
      "Actual Output:\n",
      "1\n",
      "\n",
      "Execution Time:\n",
      "0.003 ms\n",
      "\n",
      "Test Result:\n",
      "\u001b[92mPASSED\u001b[0m\n",
      "\n",
      "\n",
      "\u001b[1mTEST CASE #6\u001b[0m\n",
      "\n",
      "Input:\n",
      "{'x': 5, 'n': -5}\n",
      "\n",
      "Expected Output:\n",
      "0.00032\n",
      "\n",
      "\n",
      "Actual Output:\n",
      "0.00032\n",
      "\n",
      "Execution Time:\n",
      "0.005 ms\n",
      "\n",
      "Test Result:\n",
      "\u001b[92mPASSED\u001b[0m\n",
      "\n",
      "\n",
      "\u001b[1mTEST CASE #7\u001b[0m\n",
      "\n",
      "Input:\n",
      "{'x': -8, 'n': -2}\n",
      "\n",
      "Expected Output:\n",
      "0.015625\n",
      "\n",
      "\n",
      "Actual Output:\n",
      "0.015625\n",
      "\n",
      "Execution Time:\n",
      "0.004 ms\n",
      "\n",
      "Test Result:\n",
      "\u001b[92mPASSED\u001b[0m\n",
      "\n",
      "\n",
      "\u001b[1mTEST CASE #8\u001b[0m\n",
      "\n",
      "Input:\n",
      "{'x': -20, 'n': -3}\n",
      "\n",
      "Expected Output:\n",
      "-0.000125\n",
      "\n",
      "\n",
      "Actual Output:\n",
      "-0.000125\n",
      "\n",
      "Execution Time:\n",
      "0.004 ms\n",
      "\n",
      "Test Result:\n",
      "\u001b[92mPASSED\u001b[0m\n",
      "\n",
      "\n",
      "\u001b[1mTEST CASE #9\u001b[0m\n",
      "\n",
      "Input:\n",
      "{'x': -512, 'n': 4}\n",
      "\n",
      "Expected Output:\n",
      "68719476736\n",
      "\n",
      "\n",
      "Actual Output:\n",
      "68719476736\n",
      "\n",
      "Execution Time:\n",
      "0.004 ms\n",
      "\n",
      "Test Result:\n",
      "\u001b[92mPASSED\u001b[0m\n",
      "\n",
      "\n",
      "\u001b[1mSUMMARY\u001b[0m\n",
      "\n",
      "TOTAL: 10, \u001b[92mPASSED\u001b[0m: 10, \u001b[91mFAILED\u001b[0m: 0\n"
     ]
    },
    {
     "data": {
      "text/plain": [
       "[(125, True, 0.007),\n",
       " (1, True, 0.005),\n",
       " (120, True, 0.005),\n",
       " (1, True, 0.005),\n",
       " (281474976710656, True, 0.006),\n",
       " (1, True, 0.003),\n",
       " (0.00032, True, 0.005),\n",
       " (0.015625, True, 0.004),\n",
       " (-0.000125, True, 0.004),\n",
       " (68719476736, True, 0.004)]"
      ]
     },
     "execution_count": 34,
     "metadata": {},
     "output_type": "execute_result"
    }
   ],
   "source": [
    "evaluate_test_cases(exponentiate, tests)"
   ]
  },
  {
   "cell_type": "markdown",
   "id": "fancy-burst",
   "metadata": {},
   "source": [
    "Now, all the test cases passed, so our function is working properly with both positive and negative integers as exponents."
   ]
  },
  {
   "cell_type": "markdown",
   "id": "active-department",
   "metadata": {},
   "source": [
    "### 5. Analyze the algorithm's complexity and identify inefficiencies, if any."
   ]
  },
  {
   "cell_type": "markdown",
   "id": "ahead-league",
   "metadata": {},
   "source": [
    "The brute force solution (algorithm) has a time complexity of $O(|n|)$ and a space complexity of $O(1)$. While the space complexity is good, it could take a long time to compute the result when `|n|` is a really big number, because the function will need to execute `|n|` iterations."
   ]
  },
  {
   "cell_type": "code",
   "execution_count": 35,
   "id": "super-reward",
   "metadata": {},
   "outputs": [],
   "source": [
    "time_complexity_brute_force_solution = 'O(|n|)'"
   ]
  },
  {
   "cell_type": "code",
   "execution_count": 36,
   "id": "demanding-necessity",
   "metadata": {},
   "outputs": [],
   "source": [
    "space_complexity_brute_force_solution = 'O(1)'"
   ]
  },
  {
   "cell_type": "code",
   "execution_count": 37,
   "id": "senior-queen",
   "metadata": {},
   "outputs": [
    {
     "data": {
      "application/javascript": [
       "window.require && require([\"base/js/namespace\"],function(Jupyter){Jupyter.notebook.save_checkpoint()})"
      ],
      "text/plain": [
       "<IPython.core.display.Javascript object>"
      ]
     },
     "metadata": {},
     "output_type": "display_data"
    },
    {
     "name": "stdout",
     "output_type": "stream",
     "text": [
      "[jovian] Attempting to save notebook..\u001b[0m\n",
      "[jovian] Updating notebook \"wagb2b2/python-dsa-course-project\" on https://jovian.ai/\u001b[0m\n",
      "[jovian] Uploading notebook..\u001b[0m\n",
      "[jovian] Committed successfully! https://jovian.ai/wagb2b2/python-dsa-course-project\u001b[0m\n"
     ]
    },
    {
     "data": {
      "text/plain": [
       "'https://jovian.ai/wagb2b2/python-dsa-course-project'"
      ]
     },
     "execution_count": 37,
     "metadata": {},
     "output_type": "execute_result"
    }
   ],
   "source": [
    "jovian.commit(project=project_name, environment=None)"
   ]
  },
  {
   "cell_type": "markdown",
   "id": "incorporate-approach",
   "metadata": {},
   "source": [
    "### 6. Apply the right technique to overcome the inefficiency. Repeat steps 3 to 6."
   ]
  },
  {
   "cell_type": "markdown",
   "id": "ideal-morrison",
   "metadata": {},
   "source": [
    "In order to optimize the algorithm for a better time complexity, I will use recursion with the divide-and-conquer method. This splits the big problem in two subproblems, and each of these gets split in other two subproblems, and so on. When it's no longer possible to split the subproblems, they get individually solved and then merged back together. In the end, the big problem will be solved."
   ]
  },
  {
   "cell_type": "code",
   "execution_count": 38,
   "id": "postal-optics",
   "metadata": {},
   "outputs": [
    {
     "data": {
      "application/javascript": [
       "window.require && require([\"base/js/namespace\"],function(Jupyter){Jupyter.notebook.save_checkpoint()})"
      ],
      "text/plain": [
       "<IPython.core.display.Javascript object>"
      ]
     },
     "metadata": {},
     "output_type": "display_data"
    },
    {
     "name": "stdout",
     "output_type": "stream",
     "text": [
      "[jovian] Attempting to save notebook..\u001b[0m\n",
      "[jovian] Updating notebook \"wagb2b2/python-dsa-course-project\" on https://jovian.ai/\u001b[0m\n",
      "[jovian] Uploading notebook..\u001b[0m\n",
      "[jovian] Committed successfully! https://jovian.ai/wagb2b2/python-dsa-course-project\u001b[0m\n"
     ]
    },
    {
     "data": {
      "text/plain": [
       "'https://jovian.ai/wagb2b2/python-dsa-course-project'"
      ]
     },
     "execution_count": 38,
     "metadata": {},
     "output_type": "execute_result"
    }
   ],
   "source": [
    "jovian.commit(project=project_name, environment=None)"
   ]
  },
  {
   "cell_type": "markdown",
   "id": "tamil-cedar",
   "metadata": {},
   "source": [
    "### 7. Come up with a correct solution for the problem. State it in plain English.\n",
    "\n",
    "Come with the optimized correct solution and explain it in simple words below:\n",
    "\n",
    "1. **The implementation is similar to the brute force solution;**\n",
    "2. **Except this time I will break the big problem into smaller subproblems;**\n",
    "3. **Those subproblems can be recursively solved and then merged together;**\n",
    "4. **In this algorithm, I will divide the exponent `n` in halves;**\n",
    "5. **Each subproblem will compute `x` to the power of a fraction of `n`;**\n",
    "6. **The subproblems will be \"merged\" (multiplied), and the function will return `x` to the power of `n`.**\n",
    "\n",
    "Let's save and upload our work before continuing.\n"
   ]
  },
  {
   "cell_type": "code",
   "execution_count": 39,
   "id": "everyday-color",
   "metadata": {},
   "outputs": [
    {
     "data": {
      "application/javascript": [
       "window.require && require([\"base/js/namespace\"],function(Jupyter){Jupyter.notebook.save_checkpoint()})"
      ],
      "text/plain": [
       "<IPython.core.display.Javascript object>"
      ]
     },
     "metadata": {},
     "output_type": "display_data"
    },
    {
     "name": "stdout",
     "output_type": "stream",
     "text": [
      "[jovian] Attempting to save notebook..\u001b[0m\n",
      "[jovian] Updating notebook \"wagb2b2/python-dsa-course-project\" on https://jovian.ai/\u001b[0m\n",
      "[jovian] Uploading notebook..\u001b[0m\n",
      "[jovian] Committed successfully! https://jovian.ai/wagb2b2/python-dsa-course-project\u001b[0m\n"
     ]
    },
    {
     "data": {
      "text/plain": [
       "'https://jovian.ai/wagb2b2/python-dsa-course-project'"
      ]
     },
     "execution_count": 39,
     "metadata": {},
     "output_type": "execute_result"
    }
   ],
   "source": [
    "jovian.commit(project=project_name, environment=None)"
   ]
  },
  {
   "cell_type": "markdown",
   "id": "necessary-cabinet",
   "metadata": {},
   "source": [
    "### 8. Implement the solution and test it using example inputs. Fix bugs, if any."
   ]
  },
  {
   "cell_type": "code",
   "execution_count": 56,
   "id": "simple-charm",
   "metadata": {},
   "outputs": [],
   "source": [
    "def exp_optimized(x, n):\n",
    "    result = 1\n",
    "    \n",
    "    # Condition to stop recursion\n",
    "    if n == 0:\n",
    "        return 1\n",
    "    \n",
    "    # Recursion with divide-and-conquer method\n",
    "    result = exp_optimized(x, int(abs(n) / 2))\n",
    "    \n",
    "    # if n is positive\n",
    "    if n > 0 and n % 2 == 0:\n",
    "        return result * result\n",
    "    \n",
    "    # If n is negative\n",
    "    elif n < 0 and n % 2 == 0:\n",
    "        return 1 / (result * result)\n",
    "    \n",
    "    # If the remainder of n divided by 2 is not zero\n",
    "    else:\n",
    "        # If n is positive\n",
    "        if n > 0:\n",
    "            return x * result * result\n",
    "        \n",
    "        # If n is negative\n",
    "        elif n < 0:\n",
    "            return 1 / (x * result * result)"
   ]
  },
  {
   "cell_type": "markdown",
   "id": "consistent-server",
   "metadata": {},
   "source": [
    "Now, testing the new optimized function against all test cases"
   ]
  },
  {
   "cell_type": "code",
   "execution_count": 57,
   "id": "supported-directory",
   "metadata": {},
   "outputs": [
    {
     "name": "stdout",
     "output_type": "stream",
     "text": [
      "\n",
      "\u001b[1mTEST CASE #0\u001b[0m\n",
      "\n",
      "Input:\n",
      "{'x': 5, 'n': 3}\n",
      "\n",
      "Expected Output:\n",
      "125\n",
      "\n",
      "\n",
      "Actual Output:\n",
      "125\n",
      "\n",
      "Execution Time:\n",
      "0.008 ms\n",
      "\n",
      "Test Result:\n",
      "\u001b[92mPASSED\u001b[0m\n",
      "\n",
      "\n",
      "\u001b[1mTEST CASE #1\u001b[0m\n",
      "\n",
      "Input:\n",
      "{'x': 1, 'n': 10}\n",
      "\n",
      "Expected Output:\n",
      "1\n",
      "\n",
      "\n",
      "Actual Output:\n",
      "1\n",
      "\n",
      "Execution Time:\n",
      "0.007 ms\n",
      "\n",
      "Test Result:\n",
      "\u001b[92mPASSED\u001b[0m\n",
      "\n",
      "\n",
      "\u001b[1mTEST CASE #2\u001b[0m\n",
      "\n",
      "Input:\n",
      "{'x': 120, 'n': 1}\n",
      "\n",
      "Expected Output:\n",
      "120\n",
      "\n",
      "\n",
      "Actual Output:\n",
      "120\n",
      "\n",
      "Execution Time:\n",
      "0.006 ms\n",
      "\n",
      "Test Result:\n",
      "\u001b[92mPASSED\u001b[0m\n",
      "\n",
      "\n",
      "\u001b[1mTEST CASE #3\u001b[0m\n",
      "\n",
      "Input:\n",
      "{'x': 240, 'n': 0}\n",
      "\n",
      "Expected Output:\n",
      "1\n",
      "\n",
      "\n",
      "Actual Output:\n",
      "1\n",
      "\n",
      "Execution Time:\n",
      "0.002 ms\n",
      "\n",
      "Test Result:\n",
      "\u001b[92mPASSED\u001b[0m\n",
      "\n",
      "\n",
      "\u001b[1mTEST CASE #4\u001b[0m\n",
      "\n",
      "Input:\n",
      "{'x': 64, 'n': 8}\n",
      "\n",
      "Expected Output:\n",
      "281474976710656\n",
      "\n",
      "\n",
      "Actual Output:\n",
      "281474976710656\n",
      "\n",
      "Execution Time:\n",
      "0.007 ms\n",
      "\n",
      "Test Result:\n",
      "\u001b[92mPASSED\u001b[0m\n",
      "\n",
      "\n",
      "\u001b[1mTEST CASE #5\u001b[0m\n",
      "\n",
      "Input:\n",
      "{'x': 1, 'n': 0}\n",
      "\n",
      "Expected Output:\n",
      "1\n",
      "\n",
      "\n",
      "Actual Output:\n",
      "1\n",
      "\n",
      "Execution Time:\n",
      "0.002 ms\n",
      "\n",
      "Test Result:\n",
      "\u001b[92mPASSED\u001b[0m\n",
      "\n",
      "\n",
      "\u001b[1mTEST CASE #6\u001b[0m\n",
      "\n",
      "Input:\n",
      "{'x': 5, 'n': -5}\n",
      "\n",
      "Expected Output:\n",
      "0.00032\n",
      "\n",
      "\n",
      "Actual Output:\n",
      "0.00032\n",
      "\n",
      "Execution Time:\n",
      "0.006 ms\n",
      "\n",
      "Test Result:\n",
      "\u001b[92mPASSED\u001b[0m\n",
      "\n",
      "\n",
      "\u001b[1mTEST CASE #7\u001b[0m\n",
      "\n",
      "Input:\n",
      "{'x': -8, 'n': -2}\n",
      "\n",
      "Expected Output:\n",
      "0.015625\n",
      "\n",
      "\n",
      "Actual Output:\n",
      "0.015625\n",
      "\n",
      "Execution Time:\n",
      "0.005 ms\n",
      "\n",
      "Test Result:\n",
      "\u001b[92mPASSED\u001b[0m\n",
      "\n",
      "\n",
      "\u001b[1mTEST CASE #8\u001b[0m\n",
      "\n",
      "Input:\n",
      "{'x': -20, 'n': -3}\n",
      "\n",
      "Expected Output:\n",
      "-0.000125\n",
      "\n",
      "\n",
      "Actual Output:\n",
      "-0.000125\n",
      "\n",
      "Execution Time:\n",
      "0.005 ms\n",
      "\n",
      "Test Result:\n",
      "\u001b[92mPASSED\u001b[0m\n",
      "\n",
      "\n",
      "\u001b[1mTEST CASE #9\u001b[0m\n",
      "\n",
      "Input:\n",
      "{'x': -512, 'n': 4}\n",
      "\n",
      "Expected Output:\n",
      "68719476736\n",
      "\n",
      "\n",
      "Actual Output:\n",
      "68719476736\n",
      "\n",
      "Execution Time:\n",
      "0.005 ms\n",
      "\n",
      "Test Result:\n",
      "\u001b[92mPASSED\u001b[0m\n",
      "\n",
      "\n",
      "\u001b[1mSUMMARY\u001b[0m\n",
      "\n",
      "TOTAL: 10, \u001b[92mPASSED\u001b[0m: 10, \u001b[91mFAILED\u001b[0m: 0\n"
     ]
    },
    {
     "data": {
      "text/plain": [
       "[(125, True, 0.008),\n",
       " (1, True, 0.007),\n",
       " (120, True, 0.006),\n",
       " (1, True, 0.002),\n",
       " (281474976710656, True, 0.007),\n",
       " (1, True, 0.002),\n",
       " (0.00032, True, 0.006),\n",
       " (0.015625, True, 0.005),\n",
       " (-0.000125, True, 0.005),\n",
       " (68719476736, True, 0.005)]"
      ]
     },
     "execution_count": 57,
     "metadata": {},
     "output_type": "execute_result"
    }
   ],
   "source": [
    "evaluate_test_cases(exp_optimized, tests)"
   ]
  },
  {
   "cell_type": "markdown",
   "id": "selective-rubber",
   "metadata": {},
   "source": [
    "All the test cases passed, so the optimized exponentiate function is working properly"
   ]
  },
  {
   "cell_type": "markdown",
   "id": "floral-table",
   "metadata": {},
   "source": [
    "### 9. Analyze the algorithm's complexity and identify inefficiencies, if any."
   ]
  },
  {
   "cell_type": "markdown",
   "id": "intermediate-advertising",
   "metadata": {},
   "source": [
    "The time complexity of the optimized exponentiation algorithm is $O(log|n|)$, which is much better when `|n|` is a really big number, compared to the time complexity of the brute force solution (which is $O(|n|)$). The auxiliary space needed for the optimized solution is only $O(1)$."
   ]
  },
  {
   "cell_type": "code",
   "execution_count": 60,
   "id": "continental-unemployment",
   "metadata": {},
   "outputs": [],
   "source": [
    "time_complexity_optimized_solution = 'O(log(|n|))'"
   ]
  },
  {
   "cell_type": "code",
   "execution_count": 61,
   "id": "dominican-activity",
   "metadata": {},
   "outputs": [],
   "source": [
    "auxiliary_space_optimized_solution = 'O(1)'"
   ]
  },
  {
   "cell_type": "code",
   "execution_count": 64,
   "id": "nuclear-puppy",
   "metadata": {},
   "outputs": [
    {
     "data": {
      "application/javascript": [
       "window.require && require([\"base/js/namespace\"],function(Jupyter){Jupyter.notebook.save_checkpoint()})"
      ],
      "text/plain": [
       "<IPython.core.display.Javascript object>"
      ]
     },
     "metadata": {},
     "output_type": "display_data"
    },
    {
     "name": "stdout",
     "output_type": "stream",
     "text": [
      "[jovian] Attempting to save notebook..\u001b[0m\n",
      "[jovian] Updating notebook \"wagb2b2/python-dsa-course-project\" on https://jovian.ai/\u001b[0m\n",
      "[jovian] Uploading notebook..\u001b[0m\n",
      "[jovian] Committed successfully! https://jovian.ai/wagb2b2/python-dsa-course-project\u001b[0m\n"
     ]
    },
    {
     "data": {
      "text/plain": [
       "'https://jovian.ai/wagb2b2/python-dsa-course-project'"
      ]
     },
     "execution_count": 64,
     "metadata": {},
     "output_type": "execute_result"
    }
   ],
   "source": [
    "jovian.commit(project=project_name, environment=None)"
   ]
  },
  {
   "cell_type": "code",
   "execution_count": 65,
   "id": "thirty-intranet",
   "metadata": {},
   "outputs": [
    {
     "data": {
      "application/javascript": [
       "window.require && require([\"base/js/namespace\"],function(Jupyter){Jupyter.notebook.save_checkpoint()})"
      ],
      "text/plain": [
       "<IPython.core.display.Javascript object>"
      ]
     },
     "metadata": {},
     "output_type": "display_data"
    },
    {
     "name": "stdout",
     "output_type": "stream",
     "text": [
      "[jovian] Attempting to save notebook..\u001b[0m\n",
      "[jovian] Updating notebook \"wagb2b2/python-dsa-course-project\" on https://jovian.ai/\u001b[0m\n",
      "[jovian] Uploading notebook..\u001b[0m\n",
      "[jovian] Capturing environment..\u001b[0m\n",
      "[jovian] Committed successfully! https://jovian.ai/wagb2b2/python-dsa-course-project\u001b[0m\n",
      "[jovian] Submitting assignment..\u001b[0m\n",
      "[jovian] Verify your submission at https://jovian.ai/learn/data-structures-and-algorithms-in-python/assignment/project-step-by-step-solution-to-a-programming-problem\u001b[0m\n"
     ]
    }
   ],
   "source": [
    "jovian.submit(assignment=\"pythondsa-project\")"
   ]
  },
  {
   "cell_type": "code",
   "execution_count": null,
   "id": "played-investigator",
   "metadata": {},
   "outputs": [],
   "source": []
  }
 ],
 "metadata": {
  "kernelspec": {
   "display_name": "Python 3",
   "language": "python",
   "name": "python3"
  },
  "language_info": {
   "codemirror_mode": {
    "name": "ipython",
    "version": 3
   },
   "file_extension": ".py",
   "mimetype": "text/x-python",
   "name": "python",
   "nbconvert_exporter": "python",
   "pygments_lexer": "ipython3",
   "version": "3.8.5"
  }
 },
 "nbformat": 4,
 "nbformat_minor": 5
}
