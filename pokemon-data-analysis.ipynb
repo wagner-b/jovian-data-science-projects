{
 "cells": [
  {
   "cell_type": "markdown",
   "metadata": {},
   "source": [
    "Pokémon Data Analysis as my Project on Zero to Pandas Course <br>",
    "Copyright (C) 2020 Wagner Bertholdo Burghausen <br>",
    "<https://github.com/wagner-b>, <wagb2b2@gmail.com> <br>",
    " <br>",
    "This program is free software: you can redistribute it and/or modify <br>",
    "it under the terms of the GNU General Public License as published by <br>",
    "the Free Software Foundation, either version 3 of the License, or <br>",
    "(at your option) any later version. <br>",
    " <br>",
    "This program is distributed in the hope that it will be useful, <br>",
    "but WITHOUT ANY WARRANTY; without even the implied warranty of <br>",
    "MERCHANTABILITY or FITNESS FOR A PARTICULAR PURPOSE.  See the <br>",
    "GNU General Public License for more details. <br>",
    " <br>",
    "You should have received a copy of the GNU General Public License <br>",
    "along with this program.  If not, see <https://www.gnu.org/licenses/>. <br>"
   ]
  },
  {
   "cell_type": "markdown",
   "metadata": {},
   "source": [
    "# Pokémon data analysis\n",
    "\n",
    "In this project I will analyze Pokémon data from [The Complete Pokemon Dataset](https://www.kaggle.com/rounakbanik/pokemon), hosted on [Kaggle](https://www.kaggle.com). Pokémon is a very popular franchise of video games, anime and manga. Aside from playing the video games, watching the anime, and reading the manga, you can learn more about Pokémon on [Pokémon's Wikipedia website](https://en.wikipedia.org/wiki/Pok%c3%a9mon), on [Pokémon's official website](https://www.pokemon.com/us/) and on [Bulbapedia's website](https://bulbapedia.bulbagarden.net/wiki/Pok%C3%A9mon)."
   ]
  },
  {
   "cell_type": "markdown",
   "metadata": {},
   "source": [
    "> I chose to analyze this dataset because it contains a lot of information about 801 Pokémon (which includes base stats, classification, type, performance against other types of Pokémon, height, weight, abilities, whether the Pokémon is legendary or not, etc.). Although some people may not like the idea of spending time analyzing fictional data from a video game/anime series, the analysis of this dataset can be a good exercise to practice and learn skills related to data cleaning, data analysis and data visualization. In this project I will first perform data manipulation and exploratory data analysis, then I will ask 5 interesting questions and answer them using data analysis and visualization. At the end I will summarize what I have learned and I will share some ideas for future work on this topic.\n",
    "\n",
    "> This project is part of the requirements to get the certification on the course [Data Analysis with Python: Zero to Pandas](http://zerotopandas.com), a 100% free and online course hosted on [Jovian.ml](https://jovian.ml), in collaboration with [freeCodeCamp](https://www.freecodecamp.org).\n",
    "\n",
    "Thus, I will save periodically this Jupyter Notebook to my [Jovian.ml](https://jovian.ml) profile ([Jovian.ml/wagb2b2](https://jovian.ml/wagb2b2)) using the ``commit`` function from the ``jovian`` package."
   ]
  },
  {
   "cell_type": "code",
   "execution_count": 1,
   "metadata": {},
   "outputs": [],
   "source": [
    "project_name = \"course-project-pokemon-data-analysis\""
   ]
  },
  {
   "cell_type": "code",
   "execution_count": 2,
   "metadata": {},
   "outputs": [],
   "source": [
    "# !pip install jovian --upgrade"
   ]
  },
  {
   "cell_type": "code",
   "execution_count": 3,
   "metadata": {},
   "outputs": [],
   "source": [
    "# import jovian"
   ]
  },
  {
   "cell_type": "code",
   "execution_count": 4,
   "metadata": {},
   "outputs": [],
   "source": [
    "# jovian.commit(project=project_name, environment=None)"
   ]
  },
  {
   "cell_type": "markdown",
   "metadata": {},
   "source": [
    "# Data Preparation and Cleaning\n",
    "\n",
    "As stated above, this dataset is available on [Kaggle](https://www.kaggle.com) (on this link: [The Complete Pokemon Dataset](https://www.kaggle.com/rounakbanik/pokemon)). In the code cell below, I will use the `opendatasets` library to download the csv file with the Pokémon data. To download the dataset from Kaggle using the `opendatasets` library you will need to inform your username and API token from [Kaggle](https://www.kaggle.com)."
   ]
  },
  {
   "cell_type": "code",
   "execution_count": 5,
   "metadata": {},
   "outputs": [],
   "source": [
    "# Defining the variable with the dataset url:\n",
    "dataset_url = 'https://www.kaggle.com/rounakbanik/pokemon'"
   ]
  },
  {
   "cell_type": "code",
   "execution_count": 6,
   "metadata": {},
   "outputs": [],
   "source": [
    "# Downloading the dataset using the opendatasets library:\n",
    "# !pip install opendatasets --upgrade"
   ]
  },
  {
   "cell_type": "code",
   "execution_count": 7,
   "metadata": {},
   "outputs": [],
   "source": [
    "# import opendatasets as od"
   ]
  },
  {
   "cell_type": "code",
   "execution_count": 8,
   "metadata": {},
   "outputs": [],
   "source": [
    "# od.download(dataset_url)"
   ]
  },
  {
   "cell_type": "markdown",
   "metadata": {},
   "source": [
    "The data was downloaded to the current directory, inside a folder named 'pokemon'. It was downloaded as a csv file named 'pokemon.csv'. Now, I will import the libraries I am going to use during this analysis, and then read the csv file using the ``pandas`` library."
   ]
  },
  {
   "cell_type": "code",
   "execution_count": 9,
   "metadata": {},
   "outputs": [],
   "source": [
    "import numpy as np\n",
    "import pandas as pd\n",
    "import matplotlib\n",
    "import matplotlib.pyplot as plt\n",
    "import seaborn as sns\n",
    "\n",
    "%matplotlib inline\n",
    "matplotlib.rcParams['font.size'] = 14\n",
    "sns.set_style('whitegrid')"
   ]
  },
  {
   "cell_type": "code",
   "execution_count": 10,
   "metadata": {},
   "outputs": [
    {
     "data": {
      "text/html": [
       "<div>\n",
       "<style scoped>\n",
       "    .dataframe tbody tr th:only-of-type {\n",
       "        vertical-align: middle;\n",
       "    }\n",
       "\n",
       "    .dataframe tbody tr th {\n",
       "        vertical-align: top;\n",
       "    }\n",
       "\n",
       "    .dataframe thead th {\n",
       "        text-align: right;\n",
       "    }\n",
       "</style>\n",
       "<table border=\"1\" class=\"dataframe\">\n",
       "  <thead>\n",
       "    <tr style=\"text-align: right;\">\n",
       "      <th></th>\n",
       "      <th>abilities</th>\n",
       "      <th>against_bug</th>\n",
       "      <th>against_dark</th>\n",
       "      <th>against_dragon</th>\n",
       "      <th>against_electric</th>\n",
       "      <th>against_fairy</th>\n",
       "      <th>against_fight</th>\n",
       "      <th>against_fire</th>\n",
       "      <th>against_flying</th>\n",
       "      <th>against_ghost</th>\n",
       "      <th>...</th>\n",
       "      <th>percentage_male</th>\n",
       "      <th>pokedex_number</th>\n",
       "      <th>sp_attack</th>\n",
       "      <th>sp_defense</th>\n",
       "      <th>speed</th>\n",
       "      <th>type1</th>\n",
       "      <th>type2</th>\n",
       "      <th>weight_kg</th>\n",
       "      <th>generation</th>\n",
       "      <th>is_legendary</th>\n",
       "    </tr>\n",
       "  </thead>\n",
       "  <tbody>\n",
       "    <tr>\n",
       "      <th>0</th>\n",
       "      <td>['Overgrow', 'Chlorophyll']</td>\n",
       "      <td>1.00</td>\n",
       "      <td>1.0</td>\n",
       "      <td>1.0</td>\n",
       "      <td>0.5</td>\n",
       "      <td>0.5</td>\n",
       "      <td>0.5</td>\n",
       "      <td>2.0</td>\n",
       "      <td>2.0</td>\n",
       "      <td>1.0</td>\n",
       "      <td>...</td>\n",
       "      <td>88.1</td>\n",
       "      <td>1</td>\n",
       "      <td>65</td>\n",
       "      <td>65</td>\n",
       "      <td>45</td>\n",
       "      <td>grass</td>\n",
       "      <td>poison</td>\n",
       "      <td>6.9</td>\n",
       "      <td>1</td>\n",
       "      <td>0</td>\n",
       "    </tr>\n",
       "    <tr>\n",
       "      <th>1</th>\n",
       "      <td>['Overgrow', 'Chlorophyll']</td>\n",
       "      <td>1.00</td>\n",
       "      <td>1.0</td>\n",
       "      <td>1.0</td>\n",
       "      <td>0.5</td>\n",
       "      <td>0.5</td>\n",
       "      <td>0.5</td>\n",
       "      <td>2.0</td>\n",
       "      <td>2.0</td>\n",
       "      <td>1.0</td>\n",
       "      <td>...</td>\n",
       "      <td>88.1</td>\n",
       "      <td>2</td>\n",
       "      <td>80</td>\n",
       "      <td>80</td>\n",
       "      <td>60</td>\n",
       "      <td>grass</td>\n",
       "      <td>poison</td>\n",
       "      <td>13.0</td>\n",
       "      <td>1</td>\n",
       "      <td>0</td>\n",
       "    </tr>\n",
       "    <tr>\n",
       "      <th>2</th>\n",
       "      <td>['Overgrow', 'Chlorophyll']</td>\n",
       "      <td>1.00</td>\n",
       "      <td>1.0</td>\n",
       "      <td>1.0</td>\n",
       "      <td>0.5</td>\n",
       "      <td>0.5</td>\n",
       "      <td>0.5</td>\n",
       "      <td>2.0</td>\n",
       "      <td>2.0</td>\n",
       "      <td>1.0</td>\n",
       "      <td>...</td>\n",
       "      <td>88.1</td>\n",
       "      <td>3</td>\n",
       "      <td>122</td>\n",
       "      <td>120</td>\n",
       "      <td>80</td>\n",
       "      <td>grass</td>\n",
       "      <td>poison</td>\n",
       "      <td>100.0</td>\n",
       "      <td>1</td>\n",
       "      <td>0</td>\n",
       "    </tr>\n",
       "    <tr>\n",
       "      <th>3</th>\n",
       "      <td>['Blaze', 'Solar Power']</td>\n",
       "      <td>0.50</td>\n",
       "      <td>1.0</td>\n",
       "      <td>1.0</td>\n",
       "      <td>1.0</td>\n",
       "      <td>0.5</td>\n",
       "      <td>1.0</td>\n",
       "      <td>0.5</td>\n",
       "      <td>1.0</td>\n",
       "      <td>1.0</td>\n",
       "      <td>...</td>\n",
       "      <td>88.1</td>\n",
       "      <td>4</td>\n",
       "      <td>60</td>\n",
       "      <td>50</td>\n",
       "      <td>65</td>\n",
       "      <td>fire</td>\n",
       "      <td>NaN</td>\n",
       "      <td>8.5</td>\n",
       "      <td>1</td>\n",
       "      <td>0</td>\n",
       "    </tr>\n",
       "    <tr>\n",
       "      <th>4</th>\n",
       "      <td>['Blaze', 'Solar Power']</td>\n",
       "      <td>0.50</td>\n",
       "      <td>1.0</td>\n",
       "      <td>1.0</td>\n",
       "      <td>1.0</td>\n",
       "      <td>0.5</td>\n",
       "      <td>1.0</td>\n",
       "      <td>0.5</td>\n",
       "      <td>1.0</td>\n",
       "      <td>1.0</td>\n",
       "      <td>...</td>\n",
       "      <td>88.1</td>\n",
       "      <td>5</td>\n",
       "      <td>80</td>\n",
       "      <td>65</td>\n",
       "      <td>80</td>\n",
       "      <td>fire</td>\n",
       "      <td>NaN</td>\n",
       "      <td>19.0</td>\n",
       "      <td>1</td>\n",
       "      <td>0</td>\n",
       "    </tr>\n",
       "    <tr>\n",
       "      <th>...</th>\n",
       "      <td>...</td>\n",
       "      <td>...</td>\n",
       "      <td>...</td>\n",
       "      <td>...</td>\n",
       "      <td>...</td>\n",
       "      <td>...</td>\n",
       "      <td>...</td>\n",
       "      <td>...</td>\n",
       "      <td>...</td>\n",
       "      <td>...</td>\n",
       "      <td>...</td>\n",
       "      <td>...</td>\n",
       "      <td>...</td>\n",
       "      <td>...</td>\n",
       "      <td>...</td>\n",
       "      <td>...</td>\n",
       "      <td>...</td>\n",
       "      <td>...</td>\n",
       "      <td>...</td>\n",
       "      <td>...</td>\n",
       "      <td>...</td>\n",
       "    </tr>\n",
       "    <tr>\n",
       "      <th>796</th>\n",
       "      <td>['Beast Boost']</td>\n",
       "      <td>0.25</td>\n",
       "      <td>1.0</td>\n",
       "      <td>0.5</td>\n",
       "      <td>2.0</td>\n",
       "      <td>0.5</td>\n",
       "      <td>1.0</td>\n",
       "      <td>2.0</td>\n",
       "      <td>0.5</td>\n",
       "      <td>1.0</td>\n",
       "      <td>...</td>\n",
       "      <td>NaN</td>\n",
       "      <td>797</td>\n",
       "      <td>107</td>\n",
       "      <td>101</td>\n",
       "      <td>61</td>\n",
       "      <td>steel</td>\n",
       "      <td>flying</td>\n",
       "      <td>999.9</td>\n",
       "      <td>7</td>\n",
       "      <td>1</td>\n",
       "    </tr>\n",
       "    <tr>\n",
       "      <th>797</th>\n",
       "      <td>['Beast Boost']</td>\n",
       "      <td>1.00</td>\n",
       "      <td>1.0</td>\n",
       "      <td>0.5</td>\n",
       "      <td>0.5</td>\n",
       "      <td>0.5</td>\n",
       "      <td>2.0</td>\n",
       "      <td>4.0</td>\n",
       "      <td>1.0</td>\n",
       "      <td>1.0</td>\n",
       "      <td>...</td>\n",
       "      <td>NaN</td>\n",
       "      <td>798</td>\n",
       "      <td>59</td>\n",
       "      <td>31</td>\n",
       "      <td>109</td>\n",
       "      <td>grass</td>\n",
       "      <td>steel</td>\n",
       "      <td>0.1</td>\n",
       "      <td>7</td>\n",
       "      <td>1</td>\n",
       "    </tr>\n",
       "    <tr>\n",
       "      <th>798</th>\n",
       "      <td>['Beast Boost']</td>\n",
       "      <td>2.00</td>\n",
       "      <td>0.5</td>\n",
       "      <td>2.0</td>\n",
       "      <td>0.5</td>\n",
       "      <td>4.0</td>\n",
       "      <td>2.0</td>\n",
       "      <td>0.5</td>\n",
       "      <td>1.0</td>\n",
       "      <td>0.5</td>\n",
       "      <td>...</td>\n",
       "      <td>NaN</td>\n",
       "      <td>799</td>\n",
       "      <td>97</td>\n",
       "      <td>53</td>\n",
       "      <td>43</td>\n",
       "      <td>dark</td>\n",
       "      <td>dragon</td>\n",
       "      <td>888.0</td>\n",
       "      <td>7</td>\n",
       "      <td>1</td>\n",
       "    </tr>\n",
       "    <tr>\n",
       "      <th>799</th>\n",
       "      <td>['Prism Armor']</td>\n",
       "      <td>2.00</td>\n",
       "      <td>2.0</td>\n",
       "      <td>1.0</td>\n",
       "      <td>1.0</td>\n",
       "      <td>1.0</td>\n",
       "      <td>0.5</td>\n",
       "      <td>1.0</td>\n",
       "      <td>1.0</td>\n",
       "      <td>2.0</td>\n",
       "      <td>...</td>\n",
       "      <td>NaN</td>\n",
       "      <td>800</td>\n",
       "      <td>127</td>\n",
       "      <td>89</td>\n",
       "      <td>79</td>\n",
       "      <td>psychic</td>\n",
       "      <td>NaN</td>\n",
       "      <td>230.0</td>\n",
       "      <td>7</td>\n",
       "      <td>1</td>\n",
       "    </tr>\n",
       "    <tr>\n",
       "      <th>800</th>\n",
       "      <td>['Soul-Heart']</td>\n",
       "      <td>0.25</td>\n",
       "      <td>0.5</td>\n",
       "      <td>0.0</td>\n",
       "      <td>1.0</td>\n",
       "      <td>0.5</td>\n",
       "      <td>1.0</td>\n",
       "      <td>2.0</td>\n",
       "      <td>0.5</td>\n",
       "      <td>1.0</td>\n",
       "      <td>...</td>\n",
       "      <td>NaN</td>\n",
       "      <td>801</td>\n",
       "      <td>130</td>\n",
       "      <td>115</td>\n",
       "      <td>65</td>\n",
       "      <td>steel</td>\n",
       "      <td>fairy</td>\n",
       "      <td>80.5</td>\n",
       "      <td>7</td>\n",
       "      <td>1</td>\n",
       "    </tr>\n",
       "  </tbody>\n",
       "</table>\n",
       "<p>801 rows × 41 columns</p>\n",
       "</div>"
      ],
      "text/plain": [
       "                       abilities  against_bug  against_dark  against_dragon  \\\n",
       "0    ['Overgrow', 'Chlorophyll']         1.00           1.0             1.0   \n",
       "1    ['Overgrow', 'Chlorophyll']         1.00           1.0             1.0   \n",
       "2    ['Overgrow', 'Chlorophyll']         1.00           1.0             1.0   \n",
       "3       ['Blaze', 'Solar Power']         0.50           1.0             1.0   \n",
       "4       ['Blaze', 'Solar Power']         0.50           1.0             1.0   \n",
       "..                           ...          ...           ...             ...   \n",
       "796              ['Beast Boost']         0.25           1.0             0.5   \n",
       "797              ['Beast Boost']         1.00           1.0             0.5   \n",
       "798              ['Beast Boost']         2.00           0.5             2.0   \n",
       "799              ['Prism Armor']         2.00           2.0             1.0   \n",
       "800               ['Soul-Heart']         0.25           0.5             0.0   \n",
       "\n",
       "     against_electric  against_fairy  against_fight  against_fire  \\\n",
       "0                 0.5            0.5            0.5           2.0   \n",
       "1                 0.5            0.5            0.5           2.0   \n",
       "2                 0.5            0.5            0.5           2.0   \n",
       "3                 1.0            0.5            1.0           0.5   \n",
       "4                 1.0            0.5            1.0           0.5   \n",
       "..                ...            ...            ...           ...   \n",
       "796               2.0            0.5            1.0           2.0   \n",
       "797               0.5            0.5            2.0           4.0   \n",
       "798               0.5            4.0            2.0           0.5   \n",
       "799               1.0            1.0            0.5           1.0   \n",
       "800               1.0            0.5            1.0           2.0   \n",
       "\n",
       "     against_flying  against_ghost  ...  percentage_male  pokedex_number  \\\n",
       "0               2.0            1.0  ...             88.1               1   \n",
       "1               2.0            1.0  ...             88.1               2   \n",
       "2               2.0            1.0  ...             88.1               3   \n",
       "3               1.0            1.0  ...             88.1               4   \n",
       "4               1.0            1.0  ...             88.1               5   \n",
       "..              ...            ...  ...              ...             ...   \n",
       "796             0.5            1.0  ...              NaN             797   \n",
       "797             1.0            1.0  ...              NaN             798   \n",
       "798             1.0            0.5  ...              NaN             799   \n",
       "799             1.0            2.0  ...              NaN             800   \n",
       "800             0.5            1.0  ...              NaN             801   \n",
       "\n",
       "     sp_attack  sp_defense  speed    type1   type2  weight_kg  generation  \\\n",
       "0           65          65     45    grass  poison        6.9           1   \n",
       "1           80          80     60    grass  poison       13.0           1   \n",
       "2          122         120     80    grass  poison      100.0           1   \n",
       "3           60          50     65     fire     NaN        8.5           1   \n",
       "4           80          65     80     fire     NaN       19.0           1   \n",
       "..         ...         ...    ...      ...     ...        ...         ...   \n",
       "796        107         101     61    steel  flying      999.9           7   \n",
       "797         59          31    109    grass   steel        0.1           7   \n",
       "798         97          53     43     dark  dragon      888.0           7   \n",
       "799        127          89     79  psychic     NaN      230.0           7   \n",
       "800        130         115     65    steel   fairy       80.5           7   \n",
       "\n",
       "     is_legendary  \n",
       "0               0  \n",
       "1               0  \n",
       "2               0  \n",
       "3               0  \n",
       "4               0  \n",
       "..            ...  \n",
       "796             1  \n",
       "797             1  \n",
       "798             1  \n",
       "799             1  \n",
       "800             1  \n",
       "\n",
       "[801 rows x 41 columns]"
      ]
     },
     "execution_count": 10,
     "metadata": {},
     "output_type": "execute_result"
    }
   ],
   "source": [
    "# Reading the csv file\n",
    "pokemon_df = pd.read_csv('pokemon/pokemon.csv')\n",
    "pokemon_df"
   ]
  },
  {
   "cell_type": "code",
   "execution_count": 11,
   "metadata": {},
   "outputs": [
    {
     "data": {
      "text/plain": [
       "(801, 41)"
      ]
     },
     "execution_count": 11,
     "metadata": {},
     "output_type": "execute_result"
    }
   ],
   "source": [
    "pokemon_df.shape"
   ]
  },
  {
   "cell_type": "markdown",
   "metadata": {},
   "source": [
    " This Pokémon dataset contains 801 rows (801 \"species\" of pokemon) and 41 columns. "
   ]
  },
  {
   "cell_type": "code",
   "execution_count": 12,
   "metadata": {},
   "outputs": [
    {
     "data": {
      "text/plain": [
       "Index(['abilities', 'against_bug', 'against_dark', 'against_dragon',\n",
       "       'against_electric', 'against_fairy', 'against_fight', 'against_fire',\n",
       "       'against_flying', 'against_ghost', 'against_grass', 'against_ground',\n",
       "       'against_ice', 'against_normal', 'against_poison', 'against_psychic',\n",
       "       'against_rock', 'against_steel', 'against_water', 'attack',\n",
       "       'base_egg_steps', 'base_happiness', 'base_total', 'capture_rate',\n",
       "       'classfication', 'defense', 'experience_growth', 'height_m', 'hp',\n",
       "       'japanese_name', 'name', 'percentage_male', 'pokedex_number',\n",
       "       'sp_attack', 'sp_defense', 'speed', 'type1', 'type2', 'weight_kg',\n",
       "       'generation', 'is_legendary'],\n",
       "      dtype='object')"
      ]
     },
     "execution_count": 12,
     "metadata": {},
     "output_type": "execute_result"
    }
   ],
   "source": [
    "pokemon_df.columns"
   ]
  },
  {
   "cell_type": "code",
   "execution_count": 13,
   "metadata": {},
   "outputs": [
    {
     "data": {
      "text/plain": [
       "Index(['abilities', 'against_bug', 'against_dark', 'against_dragon',\n",
       "       'against_electric', 'against_fairy', 'against_fight', 'against_fire',\n",
       "       'against_flying', 'against_ghost', 'against_grass', 'against_ground',\n",
       "       'against_ice', 'against_normal', 'against_poison', 'against_psychic',\n",
       "       'against_rock', 'against_steel', 'against_water', 'attack',\n",
       "       'base_egg_steps', 'base_happiness', 'base_total', 'capture_rate',\n",
       "       'classification', 'defense', 'experience_growth', 'height_m', 'hp',\n",
       "       'japanese_name', 'name', 'percentage_male', 'pokedex_number',\n",
       "       'sp_attack', 'sp_defense', 'speed', 'type1', 'type2', 'weight_kg',\n",
       "       'generation', 'is_legendary'],\n",
       "      dtype='object')"
      ]
     },
     "execution_count": 13,
     "metadata": {},
     "output_type": "execute_result"
    }
   ],
   "source": [
    "# This code below is just to fix a typo in one of the column names\n",
    "pokemon_df.rename(columns={'classfication': 'classification'}, inplace=True)\n",
    "pokemon_df.columns"
   ]
  },
  {
   "cell_type": "markdown",
   "metadata": {},
   "source": [
    " In the cell below, there is a brief explanation of what those column names mean (credits to *Rounak Banik*. Link: <https://www.kaggle.com/rounakbanik/pokemon>)"
   ]
  },
  {
   "cell_type": "markdown",
   "metadata": {},
   "source": [
    "(Column name: explanation)\n",
    "- name: The English name of the Pokemon\n",
    "- japanese_name: The Original Japanese name of the Pokemon\n",
    "- pokedex_number: The entry number of the Pokemon in the National Pokedex\n",
    "- percentage_male: The percentage of the species that are male. Blank if the Pokemon is genderless.\n",
    "- type1: The Primary Type of the Pokemon\n",
    "- type2: The Secondary Type of the Pokemon\n",
    "- classification: The Classification of the Pokemon as described by the Sun and Moon Pokedex\n",
    "- height_m: Height of the Pokemon in metres\n",
    "- weight_kg: The Weight of the Pokemon in kilograms\n",
    "- capture_rate: Capture Rate of the Pokemon\n",
    "- base_egg_steps: The number of steps required to hatch an egg of the Pokemon\n",
    "- abilities: A stringified list of abilities that the Pokemon is capable of having\n",
    "- experience_growth: The Experience Growth of the Pokemon\n",
    "- base_happiness: Base Happiness of the Pokemon\n",
    "- against_?: Eighteen features that denote the amount of damage taken against an attack of a particular type\n",
    "- hp: The Base HP (Hit Points) of the Pokemon\n",
    "- attack: The Base Attack of the Pokemon\n",
    "- defense: The Base Defense of the Pokemon\n",
    "- sp_attack: The Base Special Attack of the Pokemon\n",
    "- sp_defense: The Base Special Defense of the Pokemon\n",
    "- speed: The Base Speed of the Pokemon\n",
    "- base_total: The sum of hp, attack, defense, sp_attack, sp_defense, and speed. A general guide to how strong a Pokemon is\n",
    "- generation: The numbered generation which the Pokemon was first introduced\n",
    "- is_legendary: Denotes if the Pokemon is legendary.\n",
    "\n",
    "---\n",
    "(credits to *Rounak Banik*. Link: <https://www.kaggle.com/rounakbanik/pokemon>)"
   ]
  },
  {
   "cell_type": "code",
   "execution_count": 14,
   "metadata": {},
   "outputs": [],
   "source": [
    "# import jovian"
   ]
  },
  {
   "cell_type": "code",
   "execution_count": 15,
   "metadata": {},
   "outputs": [],
   "source": [
    "# jovian.commit(project=project_name, environment=None)"
   ]
  },
  {
   "cell_type": "markdown",
   "metadata": {},
   "source": [
    "Now, let's start looking at the general structure of the data"
   ]
  },
  {
   "cell_type": "code",
   "execution_count": 16,
   "metadata": {},
   "outputs": [
    {
     "name": "stdout",
     "output_type": "stream",
     "text": [
      "<class 'pandas.core.frame.DataFrame'>\n",
      "RangeIndex: 801 entries, 0 to 800\n",
      "Data columns (total 41 columns):\n",
      " #   Column             Non-Null Count  Dtype  \n",
      "---  ------             --------------  -----  \n",
      " 0   abilities          801 non-null    object \n",
      " 1   against_bug        801 non-null    float64\n",
      " 2   against_dark       801 non-null    float64\n",
      " 3   against_dragon     801 non-null    float64\n",
      " 4   against_electric   801 non-null    float64\n",
      " 5   against_fairy      801 non-null    float64\n",
      " 6   against_fight      801 non-null    float64\n",
      " 7   against_fire       801 non-null    float64\n",
      " 8   against_flying     801 non-null    float64\n",
      " 9   against_ghost      801 non-null    float64\n",
      " 10  against_grass      801 non-null    float64\n",
      " 11  against_ground     801 non-null    float64\n",
      " 12  against_ice        801 non-null    float64\n",
      " 13  against_normal     801 non-null    float64\n",
      " 14  against_poison     801 non-null    float64\n",
      " 15  against_psychic    801 non-null    float64\n",
      " 16  against_rock       801 non-null    float64\n",
      " 17  against_steel      801 non-null    float64\n",
      " 18  against_water      801 non-null    float64\n",
      " 19  attack             801 non-null    int64  \n",
      " 20  base_egg_steps     801 non-null    int64  \n",
      " 21  base_happiness     801 non-null    int64  \n",
      " 22  base_total         801 non-null    int64  \n",
      " 23  capture_rate       801 non-null    object \n",
      " 24  classification     801 non-null    object \n",
      " 25  defense            801 non-null    int64  \n",
      " 26  experience_growth  801 non-null    int64  \n",
      " 27  height_m           781 non-null    float64\n",
      " 28  hp                 801 non-null    int64  \n",
      " 29  japanese_name      801 non-null    object \n",
      " 30  name               801 non-null    object \n",
      " 31  percentage_male    703 non-null    float64\n",
      " 32  pokedex_number     801 non-null    int64  \n",
      " 33  sp_attack          801 non-null    int64  \n",
      " 34  sp_defense         801 non-null    int64  \n",
      " 35  speed              801 non-null    int64  \n",
      " 36  type1              801 non-null    object \n",
      " 37  type2              417 non-null    object \n",
      " 38  weight_kg          781 non-null    float64\n",
      " 39  generation         801 non-null    int64  \n",
      " 40  is_legendary       801 non-null    int64  \n",
      "dtypes: float64(21), int64(13), object(7)\n",
      "memory usage: 256.7+ KB\n"
     ]
    }
   ],
   "source": [
    "pokemon_df.info()"
   ]
  },
  {
   "cell_type": "markdown",
   "metadata": {},
   "source": [
    "Most columns do not have any null values (`NaN`). This is good. The only columns in which null values are present are: `type2`, `percentage_male`, `height_m`, `weight_kg`."
   ]
  },
  {
   "cell_type": "code",
   "execution_count": 17,
   "metadata": {},
   "outputs": [
    {
     "data": {
      "text/plain": [
       "False    417\n",
       "True     384\n",
       "Name: type2, dtype: int64"
      ]
     },
     "execution_count": 17,
     "metadata": {},
     "output_type": "execute_result"
    }
   ],
   "source": [
    "pokemon_df.type2.isnull().value_counts()"
   ]
  },
  {
   "cell_type": "code",
   "execution_count": 18,
   "metadata": {},
   "outputs": [
    {
     "data": {
      "text/plain": [
       "False    703\n",
       "True      98\n",
       "Name: percentage_male, dtype: int64"
      ]
     },
     "execution_count": 18,
     "metadata": {},
     "output_type": "execute_result"
    }
   ],
   "source": [
    "pokemon_df.percentage_male.isnull().value_counts()"
   ]
  },
  {
   "cell_type": "code",
   "execution_count": 19,
   "metadata": {},
   "outputs": [
    {
     "data": {
      "text/plain": [
       "False    781\n",
       "True      20\n",
       "Name: height_m, dtype: int64"
      ]
     },
     "execution_count": 19,
     "metadata": {},
     "output_type": "execute_result"
    }
   ],
   "source": [
    "pokemon_df.height_m.isnull().value_counts()"
   ]
  },
  {
   "cell_type": "code",
   "execution_count": 20,
   "metadata": {},
   "outputs": [
    {
     "data": {
      "text/plain": [
       "False    781\n",
       "True      20\n",
       "Name: weight_kg, dtype: int64"
      ]
     },
     "execution_count": 20,
     "metadata": {},
     "output_type": "execute_result"
    }
   ],
   "source": [
    "pokemon_df.weight_kg.isnull().value_counts()"
   ]
  },
  {
   "cell_type": "markdown",
   "metadata": {},
   "source": [
    "The column `type2` contains a lot of null values (almost half of the values), but that is to be expected, because not all Pokémon have a secondary type (many of them only have one type - the primary type - column `type1`). Apart from `type2` the only other columns where there are null values are `height_m`, `weight_kg` and `percentage_male`, with few null values in them. I will take a look in the names, types and classification of some of the Pokémon which have null values (`NaN`) on the `percentage_male` column:"
   ]
  },
  {
   "cell_type": "code",
   "execution_count": 21,
   "metadata": {},
   "outputs": [
    {
     "data": {
      "text/html": [
       "<div>\n",
       "<style scoped>\n",
       "    .dataframe tbody tr th:only-of-type {\n",
       "        vertical-align: middle;\n",
       "    }\n",
       "\n",
       "    .dataframe tbody tr th {\n",
       "        vertical-align: top;\n",
       "    }\n",
       "\n",
       "    .dataframe thead th {\n",
       "        text-align: right;\n",
       "    }\n",
       "</style>\n",
       "<table border=\"1\" class=\"dataframe\">\n",
       "  <thead>\n",
       "    <tr style=\"text-align: right;\">\n",
       "      <th></th>\n",
       "      <th>name</th>\n",
       "      <th>type1</th>\n",
       "      <th>type2</th>\n",
       "      <th>classification</th>\n",
       "      <th>is_legendary</th>\n",
       "    </tr>\n",
       "  </thead>\n",
       "  <tbody>\n",
       "    <tr>\n",
       "      <th>80</th>\n",
       "      <td>Magnemite</td>\n",
       "      <td>electric</td>\n",
       "      <td>steel</td>\n",
       "      <td>Magnet Pokémon</td>\n",
       "      <td>0</td>\n",
       "    </tr>\n",
       "    <tr>\n",
       "      <th>81</th>\n",
       "      <td>Magneton</td>\n",
       "      <td>electric</td>\n",
       "      <td>steel</td>\n",
       "      <td>Magnet Pokémon</td>\n",
       "      <td>0</td>\n",
       "    </tr>\n",
       "    <tr>\n",
       "      <th>99</th>\n",
       "      <td>Voltorb</td>\n",
       "      <td>electric</td>\n",
       "      <td>NaN</td>\n",
       "      <td>Ball Pokémon</td>\n",
       "      <td>0</td>\n",
       "    </tr>\n",
       "    <tr>\n",
       "      <th>100</th>\n",
       "      <td>Electrode</td>\n",
       "      <td>electric</td>\n",
       "      <td>NaN</td>\n",
       "      <td>Ball Pokémon</td>\n",
       "      <td>0</td>\n",
       "    </tr>\n",
       "    <tr>\n",
       "      <th>119</th>\n",
       "      <td>Staryu</td>\n",
       "      <td>water</td>\n",
       "      <td>NaN</td>\n",
       "      <td>Starshape Pokémon</td>\n",
       "      <td>0</td>\n",
       "    </tr>\n",
       "    <tr>\n",
       "      <th>120</th>\n",
       "      <td>Starmie</td>\n",
       "      <td>water</td>\n",
       "      <td>psychic</td>\n",
       "      <td>Mysterious Pokémon</td>\n",
       "      <td>0</td>\n",
       "    </tr>\n",
       "    <tr>\n",
       "      <th>131</th>\n",
       "      <td>Ditto</td>\n",
       "      <td>normal</td>\n",
       "      <td>NaN</td>\n",
       "      <td>Transform Pokémon</td>\n",
       "      <td>0</td>\n",
       "    </tr>\n",
       "    <tr>\n",
       "      <th>136</th>\n",
       "      <td>Porygon</td>\n",
       "      <td>normal</td>\n",
       "      <td>NaN</td>\n",
       "      <td>Virtual Pokémon</td>\n",
       "      <td>0</td>\n",
       "    </tr>\n",
       "    <tr>\n",
       "      <th>143</th>\n",
       "      <td>Articuno</td>\n",
       "      <td>ice</td>\n",
       "      <td>flying</td>\n",
       "      <td>Freeze Pokémon</td>\n",
       "      <td>1</td>\n",
       "    </tr>\n",
       "    <tr>\n",
       "      <th>144</th>\n",
       "      <td>Zapdos</td>\n",
       "      <td>electric</td>\n",
       "      <td>flying</td>\n",
       "      <td>Electric Pokémon</td>\n",
       "      <td>1</td>\n",
       "    </tr>\n",
       "    <tr>\n",
       "      <th>145</th>\n",
       "      <td>Moltres</td>\n",
       "      <td>fire</td>\n",
       "      <td>flying</td>\n",
       "      <td>Flame Pokémon</td>\n",
       "      <td>1</td>\n",
       "    </tr>\n",
       "    <tr>\n",
       "      <th>149</th>\n",
       "      <td>Mewtwo</td>\n",
       "      <td>psychic</td>\n",
       "      <td>NaN</td>\n",
       "      <td>Genetic Pokémon</td>\n",
       "      <td>1</td>\n",
       "    </tr>\n",
       "    <tr>\n",
       "      <th>150</th>\n",
       "      <td>Mew</td>\n",
       "      <td>psychic</td>\n",
       "      <td>NaN</td>\n",
       "      <td>New Species Pokémon</td>\n",
       "      <td>1</td>\n",
       "    </tr>\n",
       "    <tr>\n",
       "      <th>200</th>\n",
       "      <td>Unown</td>\n",
       "      <td>psychic</td>\n",
       "      <td>NaN</td>\n",
       "      <td>Symbol Pokémon</td>\n",
       "      <td>0</td>\n",
       "    </tr>\n",
       "    <tr>\n",
       "      <th>232</th>\n",
       "      <td>Porygon2</td>\n",
       "      <td>normal</td>\n",
       "      <td>NaN</td>\n",
       "      <td>Virtual Pokémon</td>\n",
       "      <td>0</td>\n",
       "    </tr>\n",
       "    <tr>\n",
       "      <th>242</th>\n",
       "      <td>Raikou</td>\n",
       "      <td>electric</td>\n",
       "      <td>NaN</td>\n",
       "      <td>Thunder Pokémon</td>\n",
       "      <td>1</td>\n",
       "    </tr>\n",
       "    <tr>\n",
       "      <th>243</th>\n",
       "      <td>Entei</td>\n",
       "      <td>fire</td>\n",
       "      <td>NaN</td>\n",
       "      <td>Volcano Pokémon</td>\n",
       "      <td>1</td>\n",
       "    </tr>\n",
       "    <tr>\n",
       "      <th>244</th>\n",
       "      <td>Suicune</td>\n",
       "      <td>water</td>\n",
       "      <td>NaN</td>\n",
       "      <td>Aurora Pokémon</td>\n",
       "      <td>1</td>\n",
       "    </tr>\n",
       "    <tr>\n",
       "      <th>248</th>\n",
       "      <td>Lugia</td>\n",
       "      <td>psychic</td>\n",
       "      <td>flying</td>\n",
       "      <td>Diving Pokémon</td>\n",
       "      <td>1</td>\n",
       "    </tr>\n",
       "    <tr>\n",
       "      <th>249</th>\n",
       "      <td>Ho-Oh</td>\n",
       "      <td>fire</td>\n",
       "      <td>flying</td>\n",
       "      <td>Rainbow Pokémon</td>\n",
       "      <td>1</td>\n",
       "    </tr>\n",
       "    <tr>\n",
       "      <th>250</th>\n",
       "      <td>Celebi</td>\n",
       "      <td>psychic</td>\n",
       "      <td>grass</td>\n",
       "      <td>Time Travel Pokémon</td>\n",
       "      <td>1</td>\n",
       "    </tr>\n",
       "    <tr>\n",
       "      <th>291</th>\n",
       "      <td>Shedinja</td>\n",
       "      <td>bug</td>\n",
       "      <td>ghost</td>\n",
       "      <td>Shed Pokémon</td>\n",
       "      <td>0</td>\n",
       "    </tr>\n",
       "    <tr>\n",
       "      <th>336</th>\n",
       "      <td>Lunatone</td>\n",
       "      <td>rock</td>\n",
       "      <td>psychic</td>\n",
       "      <td>Meteorite Pokémon</td>\n",
       "      <td>0</td>\n",
       "    </tr>\n",
       "    <tr>\n",
       "      <th>337</th>\n",
       "      <td>Solrock</td>\n",
       "      <td>rock</td>\n",
       "      <td>psychic</td>\n",
       "      <td>Meteorite Pokémon</td>\n",
       "      <td>0</td>\n",
       "    </tr>\n",
       "    <tr>\n",
       "      <th>342</th>\n",
       "      <td>Baltoy</td>\n",
       "      <td>ground</td>\n",
       "      <td>psychic</td>\n",
       "      <td>Clay Doll Pokémon</td>\n",
       "      <td>0</td>\n",
       "    </tr>\n",
       "    <tr>\n",
       "      <th>343</th>\n",
       "      <td>Claydol</td>\n",
       "      <td>ground</td>\n",
       "      <td>psychic</td>\n",
       "      <td>Clay Doll Pokémon</td>\n",
       "      <td>0</td>\n",
       "    </tr>\n",
       "    <tr>\n",
       "      <th>373</th>\n",
       "      <td>Beldum</td>\n",
       "      <td>steel</td>\n",
       "      <td>psychic</td>\n",
       "      <td>Iron Ball Pokémon</td>\n",
       "      <td>0</td>\n",
       "    </tr>\n",
       "    <tr>\n",
       "      <th>374</th>\n",
       "      <td>Metang</td>\n",
       "      <td>steel</td>\n",
       "      <td>psychic</td>\n",
       "      <td>Iron Claw Pokémon</td>\n",
       "      <td>0</td>\n",
       "    </tr>\n",
       "    <tr>\n",
       "      <th>375</th>\n",
       "      <td>Metagross</td>\n",
       "      <td>steel</td>\n",
       "      <td>psychic</td>\n",
       "      <td>Iron Leg Pokémon</td>\n",
       "      <td>0</td>\n",
       "    </tr>\n",
       "    <tr>\n",
       "      <th>376</th>\n",
       "      <td>Regirock</td>\n",
       "      <td>rock</td>\n",
       "      <td>NaN</td>\n",
       "      <td>Rock Peak Pokémon</td>\n",
       "      <td>1</td>\n",
       "    </tr>\n",
       "  </tbody>\n",
       "</table>\n",
       "</div>"
      ],
      "text/plain": [
       "          name     type1    type2       classification  is_legendary\n",
       "80   Magnemite  electric    steel       Magnet Pokémon             0\n",
       "81    Magneton  electric    steel       Magnet Pokémon             0\n",
       "99     Voltorb  electric      NaN         Ball Pokémon             0\n",
       "100  Electrode  electric      NaN         Ball Pokémon             0\n",
       "119     Staryu     water      NaN    Starshape Pokémon             0\n",
       "120    Starmie     water  psychic   Mysterious Pokémon             0\n",
       "131      Ditto    normal      NaN    Transform Pokémon             0\n",
       "136    Porygon    normal      NaN      Virtual Pokémon             0\n",
       "143   Articuno       ice   flying       Freeze Pokémon             1\n",
       "144     Zapdos  electric   flying     Electric Pokémon             1\n",
       "145    Moltres      fire   flying        Flame Pokémon             1\n",
       "149     Mewtwo   psychic      NaN      Genetic Pokémon             1\n",
       "150        Mew   psychic      NaN  New Species Pokémon             1\n",
       "200      Unown   psychic      NaN       Symbol Pokémon             0\n",
       "232   Porygon2    normal      NaN      Virtual Pokémon             0\n",
       "242     Raikou  electric      NaN      Thunder Pokémon             1\n",
       "243      Entei      fire      NaN      Volcano Pokémon             1\n",
       "244    Suicune     water      NaN       Aurora Pokémon             1\n",
       "248      Lugia   psychic   flying       Diving Pokémon             1\n",
       "249      Ho-Oh      fire   flying      Rainbow Pokémon             1\n",
       "250     Celebi   psychic    grass  Time Travel Pokémon             1\n",
       "291   Shedinja       bug    ghost         Shed Pokémon             0\n",
       "336   Lunatone      rock  psychic    Meteorite Pokémon             0\n",
       "337    Solrock      rock  psychic    Meteorite Pokémon             0\n",
       "342     Baltoy    ground  psychic    Clay Doll Pokémon             0\n",
       "343    Claydol    ground  psychic    Clay Doll Pokémon             0\n",
       "373     Beldum     steel  psychic    Iron Ball Pokémon             0\n",
       "374     Metang     steel  psychic    Iron Claw Pokémon             0\n",
       "375  Metagross     steel  psychic     Iron Leg Pokémon             0\n",
       "376   Regirock      rock      NaN    Rock Peak Pokémon             1"
      ]
     },
     "execution_count": 21,
     "metadata": {},
     "output_type": "execute_result"
    }
   ],
   "source": [
    "pokemon_df[['name', 'type1', 'type2', 'classification', 'is_legendary']][pokemon_df.percentage_male.isnull()].head(30)"
   ]
  },
  {
   "cell_type": "markdown",
   "metadata": {},
   "source": [
    "As seen above, many of those Pokémon which have null values in the column `percentage_male` are Legendary Pokémon, which are very rare, and very little information is known about them. According to [Bulbapedia](https://bulbapedia.bulbagarden.net/wiki/Main_Page), \"_the Legendary Pokémon are a group of incredibly rare and often very powerful Pokémon, generally featured prominently in the legends and myths of the Pokémon world_\" (Source: [Bulbapedia - Legendary Pokémon](https://bulbapedia.bulbagarden.net/wiki/Legendary_Pok%C3%A9mon#Trivia)). Many of the Legendary Pokémon have unknown or undetermined sex. There are also Pokémon for which the determination of the sex is difficult or even impossible (for example, Pokémon with the classification of magnet, ball, mysterious and virtual, and some Pokémon of the types rock and steel), so this also explains why they have null values on the `percentage_male` column. I have decided it would not be a good ideia to try to estimate or replace these missing values by other values, so I have decided to keep these null values as they are. Most of the analysis with Pandas and plots with Matplotlib and Seaborn will ignore null values anyway. Having incorrect data is much worse than having a few missing data, in my opinion."
   ]
  },
  {
   "cell_type": "code",
   "execution_count": 22,
   "metadata": {},
   "outputs": [],
   "source": [
    "# jovian.commit(project=project_name, environment=None)"
   ]
  },
  {
   "cell_type": "markdown",
   "metadata": {},
   "source": [
    "This dataset has 41 columns, and 18 of them are related to the amount of damage (a multiplier) taken from an attack of a particular type of Pokémon (the columns which start with `against_`). Some types of Pokémon have advantages/disadvantages to other types of Pokémon. For example, a grass-type Pokémon takes twice the damage of an attack coming from a fire-type Pokémon, but only takes half of the damage from an attack coming from a water-type Pokémon. This is useful to know when you need to decide which type of Pokémon you should use against another Pokémon, but I will not focus on this aspect during this analysis, so I will not use those columns for now. The next step is to create a new dataframe containing only the columns that will be used during this analysis."
   ]
  },
  {
   "cell_type": "code",
   "execution_count": 23,
   "metadata": {},
   "outputs": [
    {
     "data": {
      "text/html": [
       "<div>\n",
       "<style scoped>\n",
       "    .dataframe tbody tr th:only-of-type {\n",
       "        vertical-align: middle;\n",
       "    }\n",
       "\n",
       "    .dataframe tbody tr th {\n",
       "        vertical-align: top;\n",
       "    }\n",
       "\n",
       "    .dataframe thead th {\n",
       "        text-align: right;\n",
       "    }\n",
       "</style>\n",
       "<table border=\"1\" class=\"dataframe\">\n",
       "  <thead>\n",
       "    <tr style=\"text-align: right;\">\n",
       "      <th></th>\n",
       "      <th>attack</th>\n",
       "      <th>base_egg_steps</th>\n",
       "      <th>base_happiness</th>\n",
       "      <th>base_total</th>\n",
       "      <th>capture_rate</th>\n",
       "      <th>classification</th>\n",
       "      <th>defense</th>\n",
       "      <th>experience_growth</th>\n",
       "      <th>height_m</th>\n",
       "      <th>hp</th>\n",
       "      <th>...</th>\n",
       "      <th>percentage_male</th>\n",
       "      <th>pokedex_number</th>\n",
       "      <th>sp_attack</th>\n",
       "      <th>sp_defense</th>\n",
       "      <th>speed</th>\n",
       "      <th>type1</th>\n",
       "      <th>type2</th>\n",
       "      <th>weight_kg</th>\n",
       "      <th>generation</th>\n",
       "      <th>is_legendary</th>\n",
       "    </tr>\n",
       "  </thead>\n",
       "  <tbody>\n",
       "    <tr>\n",
       "      <th>0</th>\n",
       "      <td>49</td>\n",
       "      <td>5120</td>\n",
       "      <td>70</td>\n",
       "      <td>318</td>\n",
       "      <td>45</td>\n",
       "      <td>Seed Pokémon</td>\n",
       "      <td>49</td>\n",
       "      <td>1059860</td>\n",
       "      <td>0.7</td>\n",
       "      <td>45</td>\n",
       "      <td>...</td>\n",
       "      <td>88.1</td>\n",
       "      <td>1</td>\n",
       "      <td>65</td>\n",
       "      <td>65</td>\n",
       "      <td>45</td>\n",
       "      <td>grass</td>\n",
       "      <td>poison</td>\n",
       "      <td>6.9</td>\n",
       "      <td>1</td>\n",
       "      <td>0</td>\n",
       "    </tr>\n",
       "    <tr>\n",
       "      <th>1</th>\n",
       "      <td>62</td>\n",
       "      <td>5120</td>\n",
       "      <td>70</td>\n",
       "      <td>405</td>\n",
       "      <td>45</td>\n",
       "      <td>Seed Pokémon</td>\n",
       "      <td>63</td>\n",
       "      <td>1059860</td>\n",
       "      <td>1.0</td>\n",
       "      <td>60</td>\n",
       "      <td>...</td>\n",
       "      <td>88.1</td>\n",
       "      <td>2</td>\n",
       "      <td>80</td>\n",
       "      <td>80</td>\n",
       "      <td>60</td>\n",
       "      <td>grass</td>\n",
       "      <td>poison</td>\n",
       "      <td>13.0</td>\n",
       "      <td>1</td>\n",
       "      <td>0</td>\n",
       "    </tr>\n",
       "    <tr>\n",
       "      <th>2</th>\n",
       "      <td>100</td>\n",
       "      <td>5120</td>\n",
       "      <td>70</td>\n",
       "      <td>625</td>\n",
       "      <td>45</td>\n",
       "      <td>Seed Pokémon</td>\n",
       "      <td>123</td>\n",
       "      <td>1059860</td>\n",
       "      <td>2.0</td>\n",
       "      <td>80</td>\n",
       "      <td>...</td>\n",
       "      <td>88.1</td>\n",
       "      <td>3</td>\n",
       "      <td>122</td>\n",
       "      <td>120</td>\n",
       "      <td>80</td>\n",
       "      <td>grass</td>\n",
       "      <td>poison</td>\n",
       "      <td>100.0</td>\n",
       "      <td>1</td>\n",
       "      <td>0</td>\n",
       "    </tr>\n",
       "    <tr>\n",
       "      <th>3</th>\n",
       "      <td>52</td>\n",
       "      <td>5120</td>\n",
       "      <td>70</td>\n",
       "      <td>309</td>\n",
       "      <td>45</td>\n",
       "      <td>Lizard Pokémon</td>\n",
       "      <td>43</td>\n",
       "      <td>1059860</td>\n",
       "      <td>0.6</td>\n",
       "      <td>39</td>\n",
       "      <td>...</td>\n",
       "      <td>88.1</td>\n",
       "      <td>4</td>\n",
       "      <td>60</td>\n",
       "      <td>50</td>\n",
       "      <td>65</td>\n",
       "      <td>fire</td>\n",
       "      <td>NaN</td>\n",
       "      <td>8.5</td>\n",
       "      <td>1</td>\n",
       "      <td>0</td>\n",
       "    </tr>\n",
       "    <tr>\n",
       "      <th>4</th>\n",
       "      <td>64</td>\n",
       "      <td>5120</td>\n",
       "      <td>70</td>\n",
       "      <td>405</td>\n",
       "      <td>45</td>\n",
       "      <td>Flame Pokémon</td>\n",
       "      <td>58</td>\n",
       "      <td>1059860</td>\n",
       "      <td>1.1</td>\n",
       "      <td>58</td>\n",
       "      <td>...</td>\n",
       "      <td>88.1</td>\n",
       "      <td>5</td>\n",
       "      <td>80</td>\n",
       "      <td>65</td>\n",
       "      <td>80</td>\n",
       "      <td>fire</td>\n",
       "      <td>NaN</td>\n",
       "      <td>19.0</td>\n",
       "      <td>1</td>\n",
       "      <td>0</td>\n",
       "    </tr>\n",
       "    <tr>\n",
       "      <th>...</th>\n",
       "      <td>...</td>\n",
       "      <td>...</td>\n",
       "      <td>...</td>\n",
       "      <td>...</td>\n",
       "      <td>...</td>\n",
       "      <td>...</td>\n",
       "      <td>...</td>\n",
       "      <td>...</td>\n",
       "      <td>...</td>\n",
       "      <td>...</td>\n",
       "      <td>...</td>\n",
       "      <td>...</td>\n",
       "      <td>...</td>\n",
       "      <td>...</td>\n",
       "      <td>...</td>\n",
       "      <td>...</td>\n",
       "      <td>...</td>\n",
       "      <td>...</td>\n",
       "      <td>...</td>\n",
       "      <td>...</td>\n",
       "      <td>...</td>\n",
       "    </tr>\n",
       "    <tr>\n",
       "      <th>796</th>\n",
       "      <td>101</td>\n",
       "      <td>30720</td>\n",
       "      <td>0</td>\n",
       "      <td>570</td>\n",
       "      <td>25</td>\n",
       "      <td>Launch Pokémon</td>\n",
       "      <td>103</td>\n",
       "      <td>1250000</td>\n",
       "      <td>9.2</td>\n",
       "      <td>97</td>\n",
       "      <td>...</td>\n",
       "      <td>NaN</td>\n",
       "      <td>797</td>\n",
       "      <td>107</td>\n",
       "      <td>101</td>\n",
       "      <td>61</td>\n",
       "      <td>steel</td>\n",
       "      <td>flying</td>\n",
       "      <td>999.9</td>\n",
       "      <td>7</td>\n",
       "      <td>1</td>\n",
       "    </tr>\n",
       "    <tr>\n",
       "      <th>797</th>\n",
       "      <td>181</td>\n",
       "      <td>30720</td>\n",
       "      <td>0</td>\n",
       "      <td>570</td>\n",
       "      <td>255</td>\n",
       "      <td>Drawn Sword Pokémon</td>\n",
       "      <td>131</td>\n",
       "      <td>1250000</td>\n",
       "      <td>0.3</td>\n",
       "      <td>59</td>\n",
       "      <td>...</td>\n",
       "      <td>NaN</td>\n",
       "      <td>798</td>\n",
       "      <td>59</td>\n",
       "      <td>31</td>\n",
       "      <td>109</td>\n",
       "      <td>grass</td>\n",
       "      <td>steel</td>\n",
       "      <td>0.1</td>\n",
       "      <td>7</td>\n",
       "      <td>1</td>\n",
       "    </tr>\n",
       "    <tr>\n",
       "      <th>798</th>\n",
       "      <td>101</td>\n",
       "      <td>30720</td>\n",
       "      <td>0</td>\n",
       "      <td>570</td>\n",
       "      <td>15</td>\n",
       "      <td>Junkivore Pokémon</td>\n",
       "      <td>53</td>\n",
       "      <td>1250000</td>\n",
       "      <td>5.5</td>\n",
       "      <td>223</td>\n",
       "      <td>...</td>\n",
       "      <td>NaN</td>\n",
       "      <td>799</td>\n",
       "      <td>97</td>\n",
       "      <td>53</td>\n",
       "      <td>43</td>\n",
       "      <td>dark</td>\n",
       "      <td>dragon</td>\n",
       "      <td>888.0</td>\n",
       "      <td>7</td>\n",
       "      <td>1</td>\n",
       "    </tr>\n",
       "    <tr>\n",
       "      <th>799</th>\n",
       "      <td>107</td>\n",
       "      <td>30720</td>\n",
       "      <td>0</td>\n",
       "      <td>600</td>\n",
       "      <td>3</td>\n",
       "      <td>Prism Pokémon</td>\n",
       "      <td>101</td>\n",
       "      <td>1250000</td>\n",
       "      <td>2.4</td>\n",
       "      <td>97</td>\n",
       "      <td>...</td>\n",
       "      <td>NaN</td>\n",
       "      <td>800</td>\n",
       "      <td>127</td>\n",
       "      <td>89</td>\n",
       "      <td>79</td>\n",
       "      <td>psychic</td>\n",
       "      <td>NaN</td>\n",
       "      <td>230.0</td>\n",
       "      <td>7</td>\n",
       "      <td>1</td>\n",
       "    </tr>\n",
       "    <tr>\n",
       "      <th>800</th>\n",
       "      <td>95</td>\n",
       "      <td>30720</td>\n",
       "      <td>0</td>\n",
       "      <td>600</td>\n",
       "      <td>3</td>\n",
       "      <td>Artificial Pokémon</td>\n",
       "      <td>115</td>\n",
       "      <td>1250000</td>\n",
       "      <td>1.0</td>\n",
       "      <td>80</td>\n",
       "      <td>...</td>\n",
       "      <td>NaN</td>\n",
       "      <td>801</td>\n",
       "      <td>130</td>\n",
       "      <td>115</td>\n",
       "      <td>65</td>\n",
       "      <td>steel</td>\n",
       "      <td>fairy</td>\n",
       "      <td>80.5</td>\n",
       "      <td>7</td>\n",
       "      <td>1</td>\n",
       "    </tr>\n",
       "  </tbody>\n",
       "</table>\n",
       "<p>801 rows × 21 columns</p>\n",
       "</div>"
      ],
      "text/plain": [
       "     attack  base_egg_steps  base_happiness  base_total capture_rate  \\\n",
       "0        49            5120              70         318           45   \n",
       "1        62            5120              70         405           45   \n",
       "2       100            5120              70         625           45   \n",
       "3        52            5120              70         309           45   \n",
       "4        64            5120              70         405           45   \n",
       "..      ...             ...             ...         ...          ...   \n",
       "796     101           30720               0         570           25   \n",
       "797     181           30720               0         570          255   \n",
       "798     101           30720               0         570           15   \n",
       "799     107           30720               0         600            3   \n",
       "800      95           30720               0         600            3   \n",
       "\n",
       "          classification  defense  experience_growth  height_m   hp  ...  \\\n",
       "0           Seed Pokémon       49            1059860       0.7   45  ...   \n",
       "1           Seed Pokémon       63            1059860       1.0   60  ...   \n",
       "2           Seed Pokémon      123            1059860       2.0   80  ...   \n",
       "3         Lizard Pokémon       43            1059860       0.6   39  ...   \n",
       "4          Flame Pokémon       58            1059860       1.1   58  ...   \n",
       "..                   ...      ...                ...       ...  ...  ...   \n",
       "796       Launch Pokémon      103            1250000       9.2   97  ...   \n",
       "797  Drawn Sword Pokémon      131            1250000       0.3   59  ...   \n",
       "798    Junkivore Pokémon       53            1250000       5.5  223  ...   \n",
       "799        Prism Pokémon      101            1250000       2.4   97  ...   \n",
       "800   Artificial Pokémon      115            1250000       1.0   80  ...   \n",
       "\n",
       "    percentage_male  pokedex_number  sp_attack  sp_defense  speed    type1  \\\n",
       "0              88.1               1         65          65     45    grass   \n",
       "1              88.1               2         80          80     60    grass   \n",
       "2              88.1               3        122         120     80    grass   \n",
       "3              88.1               4         60          50     65     fire   \n",
       "4              88.1               5         80          65     80     fire   \n",
       "..              ...             ...        ...         ...    ...      ...   \n",
       "796             NaN             797        107         101     61    steel   \n",
       "797             NaN             798         59          31    109    grass   \n",
       "798             NaN             799         97          53     43     dark   \n",
       "799             NaN             800        127          89     79  psychic   \n",
       "800             NaN             801        130         115     65    steel   \n",
       "\n",
       "      type2 weight_kg  generation  is_legendary  \n",
       "0    poison       6.9           1             0  \n",
       "1    poison      13.0           1             0  \n",
       "2    poison     100.0           1             0  \n",
       "3       NaN       8.5           1             0  \n",
       "4       NaN      19.0           1             0  \n",
       "..      ...       ...         ...           ...  \n",
       "796  flying     999.9           7             1  \n",
       "797   steel       0.1           7             1  \n",
       "798  dragon     888.0           7             1  \n",
       "799     NaN     230.0           7             1  \n",
       "800   fairy      80.5           7             1  \n",
       "\n",
       "[801 rows x 21 columns]"
      ]
     },
     "execution_count": 23,
     "metadata": {},
     "output_type": "execute_result"
    }
   ],
   "source": [
    "# List of columns I will use in this analysis\n",
    "list_of_columns = [\n",
    "    'attack', 'base_egg_steps', 'base_happiness', 'base_total', 'capture_rate',\n",
    "    'classification', 'defense', 'experience_growth', 'height_m', 'hp', 'name',\n",
    "    'percentage_male', 'pokedex_number', 'sp_attack','sp_defense','speed', 'type1',\n",
    "    'type2', 'weight_kg', 'generation', 'is_legendary'\n",
    "]\n",
    "\n",
    "# Creating a new variable with the copy of only the selected columns in the full dataset\n",
    "pok_df = pokemon_df[list_of_columns].copy()\n",
    "pok_df"
   ]
  },
  {
   "cell_type": "code",
   "execution_count": 24,
   "metadata": {},
   "outputs": [
    {
     "data": {
      "text/plain": [
       "(801, 21)"
      ]
     },
     "execution_count": 24,
     "metadata": {},
     "output_type": "execute_result"
    }
   ],
   "source": [
    "pok_df.shape"
   ]
  },
  {
   "cell_type": "markdown",
   "metadata": {},
   "source": [
    "From now on, I will use the `pok_df` dataframe for the analysis and visualizations. It has 801 rows and 21 columns"
   ]
  },
  {
   "cell_type": "code",
   "execution_count": 25,
   "metadata": {},
   "outputs": [],
   "source": [
    "# This code is only for converting the zeros to False and the ones to True\n",
    "pok_df['is_legendary'] = pok_df['is_legendary'].astype(bool)"
   ]
  },
  {
   "cell_type": "code",
   "execution_count": 26,
   "metadata": {},
   "outputs": [
    {
     "data": {
      "text/html": [
       "<div>\n",
       "<style scoped>\n",
       "    .dataframe tbody tr th:only-of-type {\n",
       "        vertical-align: middle;\n",
       "    }\n",
       "\n",
       "    .dataframe tbody tr th {\n",
       "        vertical-align: top;\n",
       "    }\n",
       "\n",
       "    .dataframe thead th {\n",
       "        text-align: right;\n",
       "    }\n",
       "</style>\n",
       "<table border=\"1\" class=\"dataframe\">\n",
       "  <thead>\n",
       "    <tr style=\"text-align: right;\">\n",
       "      <th></th>\n",
       "      <th>attack</th>\n",
       "      <th>base_egg_steps</th>\n",
       "      <th>base_happiness</th>\n",
       "      <th>base_total</th>\n",
       "      <th>capture_rate</th>\n",
       "      <th>classification</th>\n",
       "      <th>defense</th>\n",
       "      <th>experience_growth</th>\n",
       "      <th>height_m</th>\n",
       "      <th>hp</th>\n",
       "      <th>...</th>\n",
       "      <th>percentage_male</th>\n",
       "      <th>pokedex_number</th>\n",
       "      <th>sp_attack</th>\n",
       "      <th>sp_defense</th>\n",
       "      <th>speed</th>\n",
       "      <th>type1</th>\n",
       "      <th>type2</th>\n",
       "      <th>weight_kg</th>\n",
       "      <th>generation</th>\n",
       "      <th>is_legendary</th>\n",
       "    </tr>\n",
       "  </thead>\n",
       "  <tbody>\n",
       "    <tr>\n",
       "      <th>0</th>\n",
       "      <td>49</td>\n",
       "      <td>5120</td>\n",
       "      <td>70</td>\n",
       "      <td>318</td>\n",
       "      <td>45</td>\n",
       "      <td>Seed Pokémon</td>\n",
       "      <td>49</td>\n",
       "      <td>1059860</td>\n",
       "      <td>0.7</td>\n",
       "      <td>45</td>\n",
       "      <td>...</td>\n",
       "      <td>88.1</td>\n",
       "      <td>1</td>\n",
       "      <td>65</td>\n",
       "      <td>65</td>\n",
       "      <td>45</td>\n",
       "      <td>grass</td>\n",
       "      <td>poison</td>\n",
       "      <td>6.9</td>\n",
       "      <td>1</td>\n",
       "      <td>False</td>\n",
       "    </tr>\n",
       "    <tr>\n",
       "      <th>1</th>\n",
       "      <td>62</td>\n",
       "      <td>5120</td>\n",
       "      <td>70</td>\n",
       "      <td>405</td>\n",
       "      <td>45</td>\n",
       "      <td>Seed Pokémon</td>\n",
       "      <td>63</td>\n",
       "      <td>1059860</td>\n",
       "      <td>1.0</td>\n",
       "      <td>60</td>\n",
       "      <td>...</td>\n",
       "      <td>88.1</td>\n",
       "      <td>2</td>\n",
       "      <td>80</td>\n",
       "      <td>80</td>\n",
       "      <td>60</td>\n",
       "      <td>grass</td>\n",
       "      <td>poison</td>\n",
       "      <td>13.0</td>\n",
       "      <td>1</td>\n",
       "      <td>False</td>\n",
       "    </tr>\n",
       "    <tr>\n",
       "      <th>2</th>\n",
       "      <td>100</td>\n",
       "      <td>5120</td>\n",
       "      <td>70</td>\n",
       "      <td>625</td>\n",
       "      <td>45</td>\n",
       "      <td>Seed Pokémon</td>\n",
       "      <td>123</td>\n",
       "      <td>1059860</td>\n",
       "      <td>2.0</td>\n",
       "      <td>80</td>\n",
       "      <td>...</td>\n",
       "      <td>88.1</td>\n",
       "      <td>3</td>\n",
       "      <td>122</td>\n",
       "      <td>120</td>\n",
       "      <td>80</td>\n",
       "      <td>grass</td>\n",
       "      <td>poison</td>\n",
       "      <td>100.0</td>\n",
       "      <td>1</td>\n",
       "      <td>False</td>\n",
       "    </tr>\n",
       "    <tr>\n",
       "      <th>3</th>\n",
       "      <td>52</td>\n",
       "      <td>5120</td>\n",
       "      <td>70</td>\n",
       "      <td>309</td>\n",
       "      <td>45</td>\n",
       "      <td>Lizard Pokémon</td>\n",
       "      <td>43</td>\n",
       "      <td>1059860</td>\n",
       "      <td>0.6</td>\n",
       "      <td>39</td>\n",
       "      <td>...</td>\n",
       "      <td>88.1</td>\n",
       "      <td>4</td>\n",
       "      <td>60</td>\n",
       "      <td>50</td>\n",
       "      <td>65</td>\n",
       "      <td>fire</td>\n",
       "      <td>NaN</td>\n",
       "      <td>8.5</td>\n",
       "      <td>1</td>\n",
       "      <td>False</td>\n",
       "    </tr>\n",
       "    <tr>\n",
       "      <th>4</th>\n",
       "      <td>64</td>\n",
       "      <td>5120</td>\n",
       "      <td>70</td>\n",
       "      <td>405</td>\n",
       "      <td>45</td>\n",
       "      <td>Flame Pokémon</td>\n",
       "      <td>58</td>\n",
       "      <td>1059860</td>\n",
       "      <td>1.1</td>\n",
       "      <td>58</td>\n",
       "      <td>...</td>\n",
       "      <td>88.1</td>\n",
       "      <td>5</td>\n",
       "      <td>80</td>\n",
       "      <td>65</td>\n",
       "      <td>80</td>\n",
       "      <td>fire</td>\n",
       "      <td>NaN</td>\n",
       "      <td>19.0</td>\n",
       "      <td>1</td>\n",
       "      <td>False</td>\n",
       "    </tr>\n",
       "    <tr>\n",
       "      <th>...</th>\n",
       "      <td>...</td>\n",
       "      <td>...</td>\n",
       "      <td>...</td>\n",
       "      <td>...</td>\n",
       "      <td>...</td>\n",
       "      <td>...</td>\n",
       "      <td>...</td>\n",
       "      <td>...</td>\n",
       "      <td>...</td>\n",
       "      <td>...</td>\n",
       "      <td>...</td>\n",
       "      <td>...</td>\n",
       "      <td>...</td>\n",
       "      <td>...</td>\n",
       "      <td>...</td>\n",
       "      <td>...</td>\n",
       "      <td>...</td>\n",
       "      <td>...</td>\n",
       "      <td>...</td>\n",
       "      <td>...</td>\n",
       "      <td>...</td>\n",
       "    </tr>\n",
       "    <tr>\n",
       "      <th>796</th>\n",
       "      <td>101</td>\n",
       "      <td>30720</td>\n",
       "      <td>0</td>\n",
       "      <td>570</td>\n",
       "      <td>25</td>\n",
       "      <td>Launch Pokémon</td>\n",
       "      <td>103</td>\n",
       "      <td>1250000</td>\n",
       "      <td>9.2</td>\n",
       "      <td>97</td>\n",
       "      <td>...</td>\n",
       "      <td>NaN</td>\n",
       "      <td>797</td>\n",
       "      <td>107</td>\n",
       "      <td>101</td>\n",
       "      <td>61</td>\n",
       "      <td>steel</td>\n",
       "      <td>flying</td>\n",
       "      <td>999.9</td>\n",
       "      <td>7</td>\n",
       "      <td>True</td>\n",
       "    </tr>\n",
       "    <tr>\n",
       "      <th>797</th>\n",
       "      <td>181</td>\n",
       "      <td>30720</td>\n",
       "      <td>0</td>\n",
       "      <td>570</td>\n",
       "      <td>255</td>\n",
       "      <td>Drawn Sword Pokémon</td>\n",
       "      <td>131</td>\n",
       "      <td>1250000</td>\n",
       "      <td>0.3</td>\n",
       "      <td>59</td>\n",
       "      <td>...</td>\n",
       "      <td>NaN</td>\n",
       "      <td>798</td>\n",
       "      <td>59</td>\n",
       "      <td>31</td>\n",
       "      <td>109</td>\n",
       "      <td>grass</td>\n",
       "      <td>steel</td>\n",
       "      <td>0.1</td>\n",
       "      <td>7</td>\n",
       "      <td>True</td>\n",
       "    </tr>\n",
       "    <tr>\n",
       "      <th>798</th>\n",
       "      <td>101</td>\n",
       "      <td>30720</td>\n",
       "      <td>0</td>\n",
       "      <td>570</td>\n",
       "      <td>15</td>\n",
       "      <td>Junkivore Pokémon</td>\n",
       "      <td>53</td>\n",
       "      <td>1250000</td>\n",
       "      <td>5.5</td>\n",
       "      <td>223</td>\n",
       "      <td>...</td>\n",
       "      <td>NaN</td>\n",
       "      <td>799</td>\n",
       "      <td>97</td>\n",
       "      <td>53</td>\n",
       "      <td>43</td>\n",
       "      <td>dark</td>\n",
       "      <td>dragon</td>\n",
       "      <td>888.0</td>\n",
       "      <td>7</td>\n",
       "      <td>True</td>\n",
       "    </tr>\n",
       "    <tr>\n",
       "      <th>799</th>\n",
       "      <td>107</td>\n",
       "      <td>30720</td>\n",
       "      <td>0</td>\n",
       "      <td>600</td>\n",
       "      <td>3</td>\n",
       "      <td>Prism Pokémon</td>\n",
       "      <td>101</td>\n",
       "      <td>1250000</td>\n",
       "      <td>2.4</td>\n",
       "      <td>97</td>\n",
       "      <td>...</td>\n",
       "      <td>NaN</td>\n",
       "      <td>800</td>\n",
       "      <td>127</td>\n",
       "      <td>89</td>\n",
       "      <td>79</td>\n",
       "      <td>psychic</td>\n",
       "      <td>NaN</td>\n",
       "      <td>230.0</td>\n",
       "      <td>7</td>\n",
       "      <td>True</td>\n",
       "    </tr>\n",
       "    <tr>\n",
       "      <th>800</th>\n",
       "      <td>95</td>\n",
       "      <td>30720</td>\n",
       "      <td>0</td>\n",
       "      <td>600</td>\n",
       "      <td>3</td>\n",
       "      <td>Artificial Pokémon</td>\n",
       "      <td>115</td>\n",
       "      <td>1250000</td>\n",
       "      <td>1.0</td>\n",
       "      <td>80</td>\n",
       "      <td>...</td>\n",
       "      <td>NaN</td>\n",
       "      <td>801</td>\n",
       "      <td>130</td>\n",
       "      <td>115</td>\n",
       "      <td>65</td>\n",
       "      <td>steel</td>\n",
       "      <td>fairy</td>\n",
       "      <td>80.5</td>\n",
       "      <td>7</td>\n",
       "      <td>True</td>\n",
       "    </tr>\n",
       "  </tbody>\n",
       "</table>\n",
       "<p>801 rows × 21 columns</p>\n",
       "</div>"
      ],
      "text/plain": [
       "     attack  base_egg_steps  base_happiness  base_total capture_rate  \\\n",
       "0        49            5120              70         318           45   \n",
       "1        62            5120              70         405           45   \n",
       "2       100            5120              70         625           45   \n",
       "3        52            5120              70         309           45   \n",
       "4        64            5120              70         405           45   \n",
       "..      ...             ...             ...         ...          ...   \n",
       "796     101           30720               0         570           25   \n",
       "797     181           30720               0         570          255   \n",
       "798     101           30720               0         570           15   \n",
       "799     107           30720               0         600            3   \n",
       "800      95           30720               0         600            3   \n",
       "\n",
       "          classification  defense  experience_growth  height_m   hp  ...  \\\n",
       "0           Seed Pokémon       49            1059860       0.7   45  ...   \n",
       "1           Seed Pokémon       63            1059860       1.0   60  ...   \n",
       "2           Seed Pokémon      123            1059860       2.0   80  ...   \n",
       "3         Lizard Pokémon       43            1059860       0.6   39  ...   \n",
       "4          Flame Pokémon       58            1059860       1.1   58  ...   \n",
       "..                   ...      ...                ...       ...  ...  ...   \n",
       "796       Launch Pokémon      103            1250000       9.2   97  ...   \n",
       "797  Drawn Sword Pokémon      131            1250000       0.3   59  ...   \n",
       "798    Junkivore Pokémon       53            1250000       5.5  223  ...   \n",
       "799        Prism Pokémon      101            1250000       2.4   97  ...   \n",
       "800   Artificial Pokémon      115            1250000       1.0   80  ...   \n",
       "\n",
       "    percentage_male  pokedex_number  sp_attack  sp_defense  speed    type1  \\\n",
       "0              88.1               1         65          65     45    grass   \n",
       "1              88.1               2         80          80     60    grass   \n",
       "2              88.1               3        122         120     80    grass   \n",
       "3              88.1               4         60          50     65     fire   \n",
       "4              88.1               5         80          65     80     fire   \n",
       "..              ...             ...        ...         ...    ...      ...   \n",
       "796             NaN             797        107         101     61    steel   \n",
       "797             NaN             798         59          31    109    grass   \n",
       "798             NaN             799         97          53     43     dark   \n",
       "799             NaN             800        127          89     79  psychic   \n",
       "800             NaN             801        130         115     65    steel   \n",
       "\n",
       "      type2 weight_kg  generation  is_legendary  \n",
       "0    poison       6.9           1         False  \n",
       "1    poison      13.0           1         False  \n",
       "2    poison     100.0           1         False  \n",
       "3       NaN       8.5           1         False  \n",
       "4       NaN      19.0           1         False  \n",
       "..      ...       ...         ...           ...  \n",
       "796  flying     999.9           7          True  \n",
       "797   steel       0.1           7          True  \n",
       "798  dragon     888.0           7          True  \n",
       "799     NaN     230.0           7          True  \n",
       "800   fairy      80.5           7          True  \n",
       "\n",
       "[801 rows x 21 columns]"
      ]
     },
     "execution_count": 26,
     "metadata": {},
     "output_type": "execute_result"
    }
   ],
   "source": [
    "pok_df"
   ]
  },
  {
   "cell_type": "code",
   "execution_count": 27,
   "metadata": {},
   "outputs": [],
   "source": [
    "# jovian.commit(project=project_name, environment=None)"
   ]
  },
  {
   "cell_type": "markdown",
   "metadata": {},
   "source": [
    "# Exploratory Analysis and Visualization\n",
    "\n",
    "In this section I will begin exploring and visualizing general aspects of the data. It is important to do the exploratory analysis in order to understand the general patterns of the data before trying to ask questions and seek answers, otherwise either the questions asked may not make much sense, or there could be more interesting questions that were left unnoticed. In fact, this initial exploratory analysis and visualization helps formulating the right questions about the data in the next section."
   ]
  },
  {
   "cell_type": "markdown",
   "metadata": {},
   "source": [
    "Let's start with a table of the general statistics about the numeric data"
   ]
  },
  {
   "cell_type": "code",
   "execution_count": 28,
   "metadata": {},
   "outputs": [
    {
     "data": {
      "text/html": [
       "<div>\n",
       "<style scoped>\n",
       "    .dataframe tbody tr th:only-of-type {\n",
       "        vertical-align: middle;\n",
       "    }\n",
       "\n",
       "    .dataframe tbody tr th {\n",
       "        vertical-align: top;\n",
       "    }\n",
       "\n",
       "    .dataframe thead th {\n",
       "        text-align: right;\n",
       "    }\n",
       "</style>\n",
       "<table border=\"1\" class=\"dataframe\">\n",
       "  <thead>\n",
       "    <tr style=\"text-align: right;\">\n",
       "      <th></th>\n",
       "      <th>attack</th>\n",
       "      <th>base_egg_steps</th>\n",
       "      <th>base_happiness</th>\n",
       "      <th>base_total</th>\n",
       "      <th>defense</th>\n",
       "      <th>experience_growth</th>\n",
       "      <th>height_m</th>\n",
       "      <th>hp</th>\n",
       "      <th>percentage_male</th>\n",
       "      <th>pokedex_number</th>\n",
       "      <th>sp_attack</th>\n",
       "      <th>sp_defense</th>\n",
       "      <th>speed</th>\n",
       "      <th>weight_kg</th>\n",
       "      <th>generation</th>\n",
       "    </tr>\n",
       "  </thead>\n",
       "  <tbody>\n",
       "    <tr>\n",
       "      <th>count</th>\n",
       "      <td>801.000000</td>\n",
       "      <td>801.000000</td>\n",
       "      <td>801.000000</td>\n",
       "      <td>801.000000</td>\n",
       "      <td>801.000000</td>\n",
       "      <td>8.010000e+02</td>\n",
       "      <td>781.000000</td>\n",
       "      <td>801.000000</td>\n",
       "      <td>703.000000</td>\n",
       "      <td>801.000000</td>\n",
       "      <td>801.000000</td>\n",
       "      <td>801.000000</td>\n",
       "      <td>801.000000</td>\n",
       "      <td>781.000000</td>\n",
       "      <td>801.000000</td>\n",
       "    </tr>\n",
       "    <tr>\n",
       "      <th>mean</th>\n",
       "      <td>77.857678</td>\n",
       "      <td>7191.011236</td>\n",
       "      <td>65.362047</td>\n",
       "      <td>428.377029</td>\n",
       "      <td>73.008739</td>\n",
       "      <td>1.054996e+06</td>\n",
       "      <td>1.163892</td>\n",
       "      <td>68.958801</td>\n",
       "      <td>55.155761</td>\n",
       "      <td>401.000000</td>\n",
       "      <td>71.305868</td>\n",
       "      <td>70.911361</td>\n",
       "      <td>66.334582</td>\n",
       "      <td>61.378105</td>\n",
       "      <td>3.690387</td>\n",
       "    </tr>\n",
       "    <tr>\n",
       "      <th>std</th>\n",
       "      <td>32.158820</td>\n",
       "      <td>6558.220422</td>\n",
       "      <td>19.598948</td>\n",
       "      <td>119.203577</td>\n",
       "      <td>30.769159</td>\n",
       "      <td>1.602558e+05</td>\n",
       "      <td>1.080326</td>\n",
       "      <td>26.576015</td>\n",
       "      <td>20.261623</td>\n",
       "      <td>231.373075</td>\n",
       "      <td>32.353826</td>\n",
       "      <td>27.942501</td>\n",
       "      <td>28.907662</td>\n",
       "      <td>109.354766</td>\n",
       "      <td>1.930420</td>\n",
       "    </tr>\n",
       "    <tr>\n",
       "      <th>min</th>\n",
       "      <td>5.000000</td>\n",
       "      <td>1280.000000</td>\n",
       "      <td>0.000000</td>\n",
       "      <td>180.000000</td>\n",
       "      <td>5.000000</td>\n",
       "      <td>6.000000e+05</td>\n",
       "      <td>0.100000</td>\n",
       "      <td>1.000000</td>\n",
       "      <td>0.000000</td>\n",
       "      <td>1.000000</td>\n",
       "      <td>10.000000</td>\n",
       "      <td>20.000000</td>\n",
       "      <td>5.000000</td>\n",
       "      <td>0.100000</td>\n",
       "      <td>1.000000</td>\n",
       "    </tr>\n",
       "    <tr>\n",
       "      <th>25%</th>\n",
       "      <td>55.000000</td>\n",
       "      <td>5120.000000</td>\n",
       "      <td>70.000000</td>\n",
       "      <td>320.000000</td>\n",
       "      <td>50.000000</td>\n",
       "      <td>1.000000e+06</td>\n",
       "      <td>0.600000</td>\n",
       "      <td>50.000000</td>\n",
       "      <td>50.000000</td>\n",
       "      <td>201.000000</td>\n",
       "      <td>45.000000</td>\n",
       "      <td>50.000000</td>\n",
       "      <td>45.000000</td>\n",
       "      <td>9.000000</td>\n",
       "      <td>2.000000</td>\n",
       "    </tr>\n",
       "    <tr>\n",
       "      <th>50%</th>\n",
       "      <td>75.000000</td>\n",
       "      <td>5120.000000</td>\n",
       "      <td>70.000000</td>\n",
       "      <td>435.000000</td>\n",
       "      <td>70.000000</td>\n",
       "      <td>1.000000e+06</td>\n",
       "      <td>1.000000</td>\n",
       "      <td>65.000000</td>\n",
       "      <td>50.000000</td>\n",
       "      <td>401.000000</td>\n",
       "      <td>65.000000</td>\n",
       "      <td>66.000000</td>\n",
       "      <td>65.000000</td>\n",
       "      <td>27.300000</td>\n",
       "      <td>4.000000</td>\n",
       "    </tr>\n",
       "    <tr>\n",
       "      <th>75%</th>\n",
       "      <td>100.000000</td>\n",
       "      <td>6400.000000</td>\n",
       "      <td>70.000000</td>\n",
       "      <td>505.000000</td>\n",
       "      <td>90.000000</td>\n",
       "      <td>1.059860e+06</td>\n",
       "      <td>1.500000</td>\n",
       "      <td>80.000000</td>\n",
       "      <td>50.000000</td>\n",
       "      <td>601.000000</td>\n",
       "      <td>91.000000</td>\n",
       "      <td>90.000000</td>\n",
       "      <td>85.000000</td>\n",
       "      <td>64.800000</td>\n",
       "      <td>5.000000</td>\n",
       "    </tr>\n",
       "    <tr>\n",
       "      <th>max</th>\n",
       "      <td>185.000000</td>\n",
       "      <td>30720.000000</td>\n",
       "      <td>140.000000</td>\n",
       "      <td>780.000000</td>\n",
       "      <td>230.000000</td>\n",
       "      <td>1.640000e+06</td>\n",
       "      <td>14.500000</td>\n",
       "      <td>255.000000</td>\n",
       "      <td>100.000000</td>\n",
       "      <td>801.000000</td>\n",
       "      <td>194.000000</td>\n",
       "      <td>230.000000</td>\n",
       "      <td>180.000000</td>\n",
       "      <td>999.900000</td>\n",
       "      <td>7.000000</td>\n",
       "    </tr>\n",
       "  </tbody>\n",
       "</table>\n",
       "</div>"
      ],
      "text/plain": [
       "           attack  base_egg_steps  base_happiness  base_total     defense  \\\n",
       "count  801.000000      801.000000      801.000000  801.000000  801.000000   \n",
       "mean    77.857678     7191.011236       65.362047  428.377029   73.008739   \n",
       "std     32.158820     6558.220422       19.598948  119.203577   30.769159   \n",
       "min      5.000000     1280.000000        0.000000  180.000000    5.000000   \n",
       "25%     55.000000     5120.000000       70.000000  320.000000   50.000000   \n",
       "50%     75.000000     5120.000000       70.000000  435.000000   70.000000   \n",
       "75%    100.000000     6400.000000       70.000000  505.000000   90.000000   \n",
       "max    185.000000    30720.000000      140.000000  780.000000  230.000000   \n",
       "\n",
       "       experience_growth    height_m          hp  percentage_male  \\\n",
       "count       8.010000e+02  781.000000  801.000000       703.000000   \n",
       "mean        1.054996e+06    1.163892   68.958801        55.155761   \n",
       "std         1.602558e+05    1.080326   26.576015        20.261623   \n",
       "min         6.000000e+05    0.100000    1.000000         0.000000   \n",
       "25%         1.000000e+06    0.600000   50.000000        50.000000   \n",
       "50%         1.000000e+06    1.000000   65.000000        50.000000   \n",
       "75%         1.059860e+06    1.500000   80.000000        50.000000   \n",
       "max         1.640000e+06   14.500000  255.000000       100.000000   \n",
       "\n",
       "       pokedex_number   sp_attack  sp_defense       speed   weight_kg  \\\n",
       "count      801.000000  801.000000  801.000000  801.000000  781.000000   \n",
       "mean       401.000000   71.305868   70.911361   66.334582   61.378105   \n",
       "std        231.373075   32.353826   27.942501   28.907662  109.354766   \n",
       "min          1.000000   10.000000   20.000000    5.000000    0.100000   \n",
       "25%        201.000000   45.000000   50.000000   45.000000    9.000000   \n",
       "50%        401.000000   65.000000   66.000000   65.000000   27.300000   \n",
       "75%        601.000000   91.000000   90.000000   85.000000   64.800000   \n",
       "max        801.000000  194.000000  230.000000  180.000000  999.900000   \n",
       "\n",
       "       generation  \n",
       "count  801.000000  \n",
       "mean     3.690387  \n",
       "std      1.930420  \n",
       "min      1.000000  \n",
       "25%      2.000000  \n",
       "50%      4.000000  \n",
       "75%      5.000000  \n",
       "max      7.000000  "
      ]
     },
     "execution_count": 28,
     "metadata": {},
     "output_type": "execute_result"
    }
   ],
   "source": [
    "pok_df.describe()"
   ]
  },
  {
   "cell_type": "markdown",
   "metadata": {},
   "source": [
    "Ok. Now let's see how many types of Pokémon there are in the `type1` and `type2` columns, how they are distributed."
   ]
  },
  {
   "cell_type": "code",
   "execution_count": 29,
   "metadata": {},
   "outputs": [
    {
     "name": "stdout",
     "output_type": "stream",
     "text": [
      "18\n",
      "['grass', 'fire', 'water', 'bug', 'normal', 'poison', 'electric', 'ground', 'fairy', 'fighting', 'psychic', 'rock', 'ghost', 'ice', 'dragon', 'dark', 'steel', 'flying']\n"
     ]
    }
   ],
   "source": [
    "print(len(pok_df.type1.unique()))\n",
    "print(list(pok_df.type1.unique()))"
   ]
  },
  {
   "cell_type": "code",
   "execution_count": 30,
   "metadata": {},
   "outputs": [
    {
     "name": "stdout",
     "output_type": "stream",
     "text": [
      "19\n",
      "['poison', nan, 'flying', 'dark', 'electric', 'ice', 'ground', 'fairy', 'grass', 'fighting', 'psychic', 'steel', 'fire', 'rock', 'water', 'dragon', 'ghost', 'bug', 'normal']\n"
     ]
    }
   ],
   "source": [
    "print(len(pok_df.type2.unique()))\n",
    "print(list(pok_df.type2.unique()))"
   ]
  },
  {
   "cell_type": "markdown",
   "metadata": {},
   "source": [
    "So there are 18 types of Pokémon in total, and the Pokémon types in column `type2` are no different than in column `type1`. But not all Pokémon have a secondary type, so there are `nan` (null values) on column `type2` as well. Let's find out how the Pokémon types are distributed (i.e. which types are the most common, and which are the most rare)."
   ]
  },
  {
   "cell_type": "code",
   "execution_count": 31,
   "metadata": {},
   "outputs": [
    {
     "data": {
      "text/plain": [
       "water       114\n",
       "normal      105\n",
       "grass        78\n",
       "bug          72\n",
       "psychic      53\n",
       "fire         52\n",
       "rock         45\n",
       "electric     39\n",
       "ground       32\n",
       "poison       32\n",
       "dark         29\n",
       "fighting     28\n",
       "ghost        27\n",
       "dragon       27\n",
       "steel        24\n",
       "ice          23\n",
       "fairy        18\n",
       "flying        3\n",
       "Name: type1, dtype: int64"
      ]
     },
     "execution_count": 31,
     "metadata": {},
     "output_type": "execute_result"
    }
   ],
   "source": [
    "type1_count = pok_df.type1.value_counts()\n",
    "type1_count"
   ]
  },
  {
   "cell_type": "markdown",
   "metadata": {},
   "source": [
    "I will plot a horizontal barchart to visualize this data."
   ]
  },
  {
   "cell_type": "code",
   "execution_count": 32,
   "metadata": {},
   "outputs": [
    {
     "data": {
      "image/png": "[encoded data removed]",
      "text/plain": [
       "<Figure size 720x504 with 1 Axes>"
      ]
     },
     "metadata": {},
     "output_type": "display_data"
    }
   ],
   "source": [
    "plt.figure(figsize=(10, 7))\n",
    "plt.title('Primary types of Pokémon')\n",
    "sns.barplot(x=type1_count.values, y=type1_count.index);"
   ]
  },
  {
   "cell_type": "markdown",
   "metadata": {},
   "source": [
    "The most common primary types of Pokémon are water and normal, followed by grass and bug. The most rare primary type is flying (with 3 Pokémon only). However, this does **not** mean that flying-type Pokémon are rare, because this is *only the data for the primary type*. If many Pokémon have 'flying' as its secondary type, then it can **not** be stated that 'flying-type Pokémon are rare'. That's why it is necessary to analyze secondary types as well."
   ]
  },
  {
   "cell_type": "code",
   "execution_count": 33,
   "metadata": {},
   "outputs": [],
   "source": [
    "# import jovian\n",
    "# jovian.commit(project=project_name, environment=None)"
   ]
  },
  {
   "cell_type": "code",
   "execution_count": 34,
   "metadata": {},
   "outputs": [
    {
     "data": {
      "text/plain": [
       "False    417\n",
       "True     384\n",
       "Name: type2, dtype: int64"
      ]
     },
     "execution_count": 34,
     "metadata": {},
     "output_type": "execute_result"
    }
   ],
   "source": [
    "# Counting the number of NaN values (null values) in type2 column\n",
    "pok_df.type2.isnull().value_counts()"
   ]
  },
  {
   "cell_type": "markdown",
   "metadata": {},
   "source": [
    "This means 384 Pokémon have only a primary type, but not a secondary type, and 417 Pokémon have both a primary and a secondary type."
   ]
  },
  {
   "cell_type": "code",
   "execution_count": 35,
   "metadata": {},
   "outputs": [
    {
     "data": {
      "image/png": "[encoded data removed]",
      "text/plain": [
       "<Figure size 432x432 with 1 Axes>"
      ]
     },
     "metadata": {},
     "output_type": "display_data"
    }
   ],
   "source": [
    "data_type2 = [417, 384]\n",
    "labels_type2 = ['Dual type Pokémon', 'Single type Pokémon']\n",
    "\n",
    "plt.figure(figsize=(6,6))\n",
    "plt.pie(data_type2, labels=labels_type2, autopct='%1.1f%%');"
   ]
  },
  {
   "cell_type": "markdown",
   "metadata": {},
   "source": [
    "This means nearly 52% of Pokémon have both a primary and a secondary type, and about 48% of Pokémon have only a primary type. This shows it is important to analyze both primary and secondary types when analyzing Pokémon types."
   ]
  },
  {
   "cell_type": "code",
   "execution_count": 36,
   "metadata": {},
   "outputs": [
    {
     "data": {
      "text/plain": [
       "flying      95\n",
       "ground      34\n",
       "poison      34\n",
       "fairy       29\n",
       "psychic     29\n",
       "fighting    25\n",
       "steel       22\n",
       "dark        21\n",
       "grass       20\n",
       "dragon      17\n",
       "water       17\n",
       "ice         15\n",
       "rock        14\n",
       "ghost       14\n",
       "fire        13\n",
       "electric     9\n",
       "bug          5\n",
       "normal       4\n",
       "Name: type2, dtype: int64"
      ]
     },
     "execution_count": 36,
     "metadata": {},
     "output_type": "execute_result"
    }
   ],
   "source": [
    "type2_count = pok_df.type2.value_counts()\n",
    "type2_count"
   ]
  },
  {
   "cell_type": "code",
   "execution_count": 37,
   "metadata": {},
   "outputs": [
    {
     "data": {
      "image/png": "[encoded data removed]",
      "text/plain": [
       "<Figure size 720x504 with 1 Axes>"
      ]
     },
     "metadata": {},
     "output_type": "display_data"
    }
   ],
   "source": [
    "plt.figure(figsize=(10,7))\n",
    "plt.title('Secondary types of Pokémon')\n",
    "sns.barplot(x=type2_count.values, y=type2_count.index);"
   ]
  },
  {
   "cell_type": "markdown",
   "metadata": {},
   "source": [
    "> As seen in the plot above, excluding the null values, **the flying-type is by far the most common secondary type, despite being the rarest primary type**. Looking only at the primary types, one might think flying-type Pokémon are really rare, **but they are not!** In fact, they are very common, it is just that the vast majority of flying-type Pokémon have 'flying' as their secondary type, not primary. \n",
    "\n",
    "> Similarly, if someone looks only at the secondary types, one might think bug and normal-type Pokémon are rare, but they are not, since bug and normal-types are between the most common primary types of Pokémon. \n",
    "\n",
    "> **This means that when analyzing the Pokémon types, it is essential to take into account both the primary and secondary types, otherwise your inferences will probably be wrong.**"
   ]
  },
  {
   "cell_type": "code",
   "execution_count": 38,
   "metadata": {},
   "outputs": [],
   "source": [
    "# jovian.commit(project=project_name, environment=None)"
   ]
  },
  {
   "cell_type": "markdown",
   "metadata": {},
   "source": [
    "Now that we know how the Pokémon types are distributed, I will look at the histograms of the distributions of *weight, height, percentage of males, happiness and base total* of the Pokémon. Just a reminder: the base total of a Pokémon is the sum of the base stats of a Pokémon (which includes hp, attack, defense, special attack, special defense, and speed), and can be considered a general guide to how \"strong\" a Pokemon is."
   ]
  },
  {
   "cell_type": "code",
   "execution_count": 39,
   "metadata": {},
   "outputs": [
    {
     "data": {
      "image/png": "[encoded data removed]",
      "text/plain": [
       "<Figure size 576x288 with 1 Axes>"
      ]
     },
     "metadata": {},
     "output_type": "display_data"
    }
   ],
   "source": [
    "# Distribution of weight\n",
    "plt.figure(figsize=(8,4))\n",
    "plt.title('Distribution of Pokémon bodyweight (Kg)')\n",
    "sns.histplot(pok_df.weight_kg, bins=30, kde=True); # compute a kernel density estimate as well"
   ]
  },
  {
   "cell_type": "markdown",
   "metadata": {},
   "source": [
    "It seems most Pokémon are lightweight (\"lightweight\" being from 0.1 kg up to 50-60 kg), but there are a few very heavy Pokémon, up to almost one metric ton (1000 kg) of bodyweight."
   ]
  },
  {
   "cell_type": "code",
   "execution_count": 40,
   "metadata": {},
   "outputs": [
    {
     "data": {
      "image/png": "[encoded data removed]",
      "text/plain": [
       "<Figure size 576x288 with 1 Axes>"
      ]
     },
     "metadata": {},
     "output_type": "display_data"
    }
   ],
   "source": [
    "# Distribution of height\n",
    "plt.figure(figsize=(8,4))\n",
    "plt.title('Distribution of the height of Pokémon (m)')\n",
    "sns.histplot(pok_df.height_m, bins=30, kde=True); # compute a kernel density estimate as well"
   ]
  },
  {
   "cell_type": "markdown",
   "metadata": {},
   "source": [
    "It seems most Pokémon are between 0.1 and 2 meters tall, but there are a few very tall Pokémon, up to 14 meters."
   ]
  },
  {
   "cell_type": "code",
   "execution_count": 41,
   "metadata": {},
   "outputs": [
    {
     "data": {
      "image/png": "[encoded data removed]",
      "text/plain": [
       "<Figure size 576x288 with 1 Axes>"
      ]
     },
     "metadata": {},
     "output_type": "display_data"
    }
   ],
   "source": [
    "# Distribution of the percentage of males\n",
    "plt.figure(figsize=(8,4))\n",
    "plt.title('Distribution of the percentage of males')\n",
    "sns.histplot(pok_df.percentage_male, kde=True); # compute a kernel density estimate as well"
   ]
  },
  {
   "cell_type": "markdown",
   "metadata": {},
   "source": [
    "The vast majority of Pokémon have 50% of males in their \"population\" (i.e. a male-to-female ratio of 1:1). However, there are a few Pokémon with more males in their \"population\" (between 70 and 100% of males), and there is an even smaller number of Pokémon with a small percentage of males in the \"population\" (between 0 and 30% of males)."
   ]
  },
  {
   "cell_type": "code",
   "execution_count": 42,
   "metadata": {},
   "outputs": [
    {
     "data": {
      "image/png": "[encoded data removed]",
      "text/plain": [
       "<Figure size 576x288 with 1 Axes>"
      ]
     },
     "metadata": {},
     "output_type": "display_data"
    }
   ],
   "source": [
    "# Distribution of happiness\n",
    "plt.figure(figsize=(8,4))\n",
    "plt.title('Distribution of the \"sadness\\happiness spectrum\" of Pokémon')\n",
    "sns.histplot(pok_df.base_happiness, kde=True); # compute a kernel density estimate as well"
   ]
  },
  {
   "cell_type": "markdown",
   "metadata": {},
   "source": [
    "The vast majority of Pokémon lie in the middle of the sadness / happiness spectrum, i.e. they are not very happy, but not very sad either. Unfortunately, it is possible to notice that there are more very sad Pokémon than there are  very happy Pokémon. Very happy Pokémon are rare, unfortunately."
   ]
  },
  {
   "cell_type": "code",
   "execution_count": 43,
   "metadata": {},
   "outputs": [
    {
     "data": {
      "image/png": "[encoded data removed]",
      "text/plain": [
       "<Figure size 576x288 with 1 Axes>"
      ]
     },
     "metadata": {},
     "output_type": "display_data"
    }
   ],
   "source": [
    "# Distribution of base total\n",
    "plt.figure(figsize=(8,4))\n",
    "plt.title('Distribution of Pokémon \"base total\"')\n",
    "sns.histplot(pok_df.base_total, kde=True); # compute a kernel density estimate as well"
   ]
  },
  {
   "cell_type": "markdown",
   "metadata": {},
   "source": [
    "> The base total of a Pokémon consists of the sum of its base stats, which includes hp, attack, defense, special attack, special defense, and speed. It can be considered a general guide to how strong a Pokemon is. Obviously, the higher the total of the Pokémon, the stronger the Pokémon tends to be. This graph above shows an interesting pattern. First off, the majority of the values are on the middle-left side of the graph, and few values on the right side of the graph. That means that Pokémon with lower base totals are more common than Pokémon with higher base totals (in general). \n",
    "\n",
    "> But the most interesting and curious thing about this distribution is that **it does not have a single peak, but two peaks**. One peak at roughly 300, and another peak (higher than the first one) at roughly 500. **This distribution with two peaks is called a [bimodal distribution](https://www.statisticshowto.com/what-is-a-bimodal-distribution/)**. The bimodal distribution generally indicates that there are two distinct groups in your data."
   ]
  },
  {
   "cell_type": "code",
   "execution_count": 44,
   "metadata": {},
   "outputs": [],
   "source": [
    "# jovian.commit(project=project_name, environment=None)"
   ]
  },
  {
   "cell_type": "markdown",
   "metadata": {},
   "source": [
    "And to finish this section of exploratory data analysis and visualization, I will find out **what percentage of Pokémon are legendary**. According to [Bulbapedia](https://bulbapedia.bulbagarden.net/wiki/Main_Page), _\"Legendary Pokémon are a group of incredibly rare and often very powerful Pokémon, generally featured prominently in the legends and myths of the Pokémon world.\"_ (Source: [Bulbapedia - Legendary Pokémon](https://bulbapedia.bulbagarden.net/wiki/Legendary_Pok%C3%A9mon)). I will create a pie chart to better illustrate this percentage."
   ]
  },
  {
   "cell_type": "code",
   "execution_count": 45,
   "metadata": {},
   "outputs": [
    {
     "data": {
      "text/plain": [
       "False    731\n",
       "True      70\n",
       "Name: is_legendary, dtype: int64"
      ]
     },
     "execution_count": 45,
     "metadata": {},
     "output_type": "execute_result"
    }
   ],
   "source": [
    "pok_df.is_legendary.value_counts()"
   ]
  },
  {
   "cell_type": "code",
   "execution_count": 46,
   "metadata": {},
   "outputs": [
    {
     "data": {
      "text/plain": [
       "8.739076154806492"
      ]
     },
     "execution_count": 46,
     "metadata": {},
     "output_type": "execute_result"
    }
   ],
   "source": [
    "(70/801)*100"
   ]
  },
  {
   "cell_type": "markdown",
   "metadata": {},
   "source": [
    "Only 70 out of a total of 801 Pokémon are legendary. This is approximately 8.74%."
   ]
  },
  {
   "cell_type": "code",
   "execution_count": 47,
   "metadata": {},
   "outputs": [
    {
     "data": {
      "image/png": "[encoded data removed]",
      "text/plain": [
       "<Figure size 432x432 with 1 Axes>"
      ]
     },
     "metadata": {},
     "output_type": "display_data"
    }
   ],
   "source": [
    "plt.figure(figsize=(6,6));\n",
    "plt.pie([70, 731], labels=['Legendary Pokémon', '\"Normal\" Pokémon'], autopct='%1.2f%%');"
   ]
  },
  {
   "cell_type": "markdown",
   "metadata": {},
   "source": [
    "It is true that Legendary Pokémon are rare, since more than 91% of Pokémon are not legendary."
   ]
  },
  {
   "cell_type": "code",
   "execution_count": 48,
   "metadata": {},
   "outputs": [],
   "source": [
    "# jovian.commit(project=project_name, environment=None)"
   ]
  },
  {
   "cell_type": "markdown",
   "metadata": {},
   "source": [
    "# Asking and Answering Questions\n",
    "In this section, I will ask 5 interesting questions about the Pokémon dataset and answer them using data analysis and visualization. Some informations and insights from the previous section will be useful here to ask the right questions."
   ]
  },
  {
   "cell_type": "markdown",
   "metadata": {},
   "source": [
    "## Question 1: Which types of Pokémon are the most common overall, and which are the rarest overall? Create a stacked barplot with the distributions of both the primary and secondary types of Pokémon."
   ]
  },
  {
   "cell_type": "markdown",
   "metadata": {},
   "source": [
    "In the previous section, I explored the most common and rarest types of Pokémon separately for the primary and secondary types. But the distributions of primary and secondary Pokémon types are very different from each other. And more than half of Pokémon are dual type (i.e. have both primary and secondary types). So it makes sense to analyse the overall distribution of Pokémon types, considering both the primary and secondary types. But it is also interesting to compare the proportions of primary and secondary types in each category, so a stacked barplot would be very useful to visualize this data."
   ]
  },
  {
   "cell_type": "markdown",
   "metadata": {},
   "source": [
    "To answer this question, I will use the `type1_count` (count of primary types) and `type2_count` (count of secondary types) variables that I have defined in the previous section. I will order these series into the same order using the `sort_index` function (to sort by the index). Then, I will do a element-wise sum of the values of these two series and create a new series with the total number of Pokémon types. And finally I will create a stacked barplot with the distribution of both the primary and secondary types, ordered by the total number of Pokémon types (primary + secondary), in descending order."
   ]
  },
  {
   "cell_type": "markdown",
   "metadata": {},
   "source": [
    "Here are the two variables with the count of Pokémon types (note they are **not** ordered by index, but rather by values in descending order):"
   ]
  },
  {
   "cell_type": "code",
   "execution_count": 49,
   "metadata": {},
   "outputs": [
    {
     "data": {
      "text/plain": [
       "water       114\n",
       "normal      105\n",
       "grass        78\n",
       "bug          72\n",
       "psychic      53\n",
       "fire         52\n",
       "rock         45\n",
       "electric     39\n",
       "ground       32\n",
       "poison       32\n",
       "dark         29\n",
       "fighting     28\n",
       "ghost        27\n",
       "dragon       27\n",
       "steel        24\n",
       "ice          23\n",
       "fairy        18\n",
       "flying        3\n",
       "Name: type1, dtype: int64"
      ]
     },
     "execution_count": 49,
     "metadata": {},
     "output_type": "execute_result"
    }
   ],
   "source": [
    "type1_count"
   ]
  },
  {
   "cell_type": "code",
   "execution_count": 50,
   "metadata": {},
   "outputs": [
    {
     "data": {
      "text/plain": [
       "flying      95\n",
       "ground      34\n",
       "poison      34\n",
       "fairy       29\n",
       "psychic     29\n",
       "fighting    25\n",
       "steel       22\n",
       "dark        21\n",
       "grass       20\n",
       "dragon      17\n",
       "water       17\n",
       "ice         15\n",
       "rock        14\n",
       "ghost       14\n",
       "fire        13\n",
       "electric     9\n",
       "bug          5\n",
       "normal       4\n",
       "Name: type2, dtype: int64"
      ]
     },
     "execution_count": 50,
     "metadata": {},
     "output_type": "execute_result"
    }
   ],
   "source": [
    "type2_count"
   ]
  },
  {
   "cell_type": "markdown",
   "metadata": {},
   "source": [
    "Now I will order these two series by index using the `sort_index` function. With both series sorted by index in the same order, I will be able to make a element-wise sum of values of these 2 series (both series contains the same Pokémon types, and have the same length). "
   ]
  },
  {
   "cell_type": "code",
   "execution_count": 51,
   "metadata": {},
   "outputs": [
    {
     "data": {
      "text/plain": [
       "18"
      ]
     },
     "execution_count": 51,
     "metadata": {},
     "output_type": "execute_result"
    }
   ],
   "source": [
    "len(type1_count)"
   ]
  },
  {
   "cell_type": "code",
   "execution_count": 52,
   "metadata": {},
   "outputs": [
    {
     "data": {
      "text/plain": [
       "18"
      ]
     },
     "execution_count": 52,
     "metadata": {},
     "output_type": "execute_result"
    }
   ],
   "source": [
    "len(type2_count)"
   ]
  },
  {
   "cell_type": "code",
   "execution_count": 53,
   "metadata": {},
   "outputs": [],
   "source": [
    "# Ordering both series to alphabetical order (the parameter `ascending` defaults to `True`)\n",
    "type2_count.sort_index(inplace=True)\n",
    "type1_count.sort_index(inplace=True)"
   ]
  },
  {
   "cell_type": "markdown",
   "metadata": {},
   "source": [
    "Now, let's take a look again at the series"
   ]
  },
  {
   "cell_type": "code",
   "execution_count": 54,
   "metadata": {
    "scrolled": true
   },
   "outputs": [
    {
     "data": {
      "text/plain": [
       "bug          72\n",
       "dark         29\n",
       "dragon       27\n",
       "electric     39\n",
       "fairy        18\n",
       "fighting     28\n",
       "fire         52\n",
       "flying        3\n",
       "ghost        27\n",
       "grass        78\n",
       "ground       32\n",
       "ice          23\n",
       "normal      105\n",
       "poison       32\n",
       "psychic      53\n",
       "rock         45\n",
       "steel        24\n",
       "water       114\n",
       "Name: type1, dtype: int64"
      ]
     },
     "execution_count": 54,
     "metadata": {},
     "output_type": "execute_result"
    }
   ],
   "source": [
    "type1_count"
   ]
  },
  {
   "cell_type": "code",
   "execution_count": 55,
   "metadata": {},
   "outputs": [
    {
     "data": {
      "text/plain": [
       "bug          5\n",
       "dark        21\n",
       "dragon      17\n",
       "electric     9\n",
       "fairy       29\n",
       "fighting    25\n",
       "fire        13\n",
       "flying      95\n",
       "ghost       14\n",
       "grass       20\n",
       "ground      34\n",
       "ice         15\n",
       "normal       4\n",
       "poison      34\n",
       "psychic     29\n",
       "rock        14\n",
       "steel       22\n",
       "water       17\n",
       "Name: type2, dtype: int64"
      ]
     },
     "execution_count": 55,
     "metadata": {},
     "output_type": "execute_result"
    }
   ],
   "source": [
    "type2_count"
   ]
  },
  {
   "cell_type": "markdown",
   "metadata": {},
   "source": [
    "Perfect. Both series are now sorted by index in alphabetical order. Now I will create a new series with the total types combined (by performing an element-wise sum of the values of both series)."
   ]
  },
  {
   "cell_type": "code",
   "execution_count": 56,
   "metadata": {},
   "outputs": [
    {
     "data": {
      "text/plain": [
       "bug          77\n",
       "dark         50\n",
       "dragon       44\n",
       "electric     48\n",
       "fairy        47\n",
       "fighting     53\n",
       "fire         65\n",
       "flying       98\n",
       "ghost        41\n",
       "grass        98\n",
       "ground       66\n",
       "ice          38\n",
       "normal      109\n",
       "poison       66\n",
       "psychic      82\n",
       "rock         59\n",
       "steel        46\n",
       "water       131\n",
       "dtype: int64"
      ]
     },
     "execution_count": 56,
     "metadata": {},
     "output_type": "execute_result"
    }
   ],
   "source": [
    "total_types = type1_count + type2_count\n",
    "total_types"
   ]
  },
  {
   "cell_type": "markdown",
   "metadata": {},
   "source": [
    "Now I will order the `total_types` series by values in descending order."
   ]
  },
  {
   "cell_type": "code",
   "execution_count": 57,
   "metadata": {},
   "outputs": [],
   "source": [
    "# Ordering this series in descending order\n",
    "total_types.sort_values(ascending=False, inplace=True)"
   ]
  },
  {
   "cell_type": "code",
   "execution_count": 58,
   "metadata": {},
   "outputs": [
    {
     "data": {
      "text/plain": [
       "water       131\n",
       "normal      109\n",
       "flying       98\n",
       "grass        98\n",
       "psychic      82\n",
       "bug          77\n",
       "ground       66\n",
       "poison       66\n",
       "fire         65\n",
       "rock         59\n",
       "fighting     53\n",
       "dark         50\n",
       "electric     48\n",
       "fairy        47\n",
       "steel        46\n",
       "dragon       44\n",
       "ghost        41\n",
       "ice          38\n",
       "dtype: int64"
      ]
     },
     "execution_count": 58,
     "metadata": {},
     "output_type": "execute_result"
    }
   ],
   "source": [
    "total_types"
   ]
  },
  {
   "cell_type": "markdown",
   "metadata": {},
   "source": [
    "> The most **common** types of Pokémon overall (considering both the primary and secondary types) are **water, normal, flying and grass**. And the **rarest** type overall is **ice**, followed by **ghost**. "
   ]
  },
  {
   "cell_type": "markdown",
   "metadata": {},
   "source": [
    "But I still need to create a graph to visualize this data, and it needs to be a stacked barplot that shows the distributions of both primary and secondary types."
   ]
  },
  {
   "cell_type": "markdown",
   "metadata": {},
   "source": [
    "I will use the indexes of the `total_types` series to reindex the `type1_count` and `type2_count` variables, using the `reindex` function. This will \"sort\" this two variables into the same order of the `total_types` series. I need to do this in order to create the stacked barplot with the bars in the correct order (descending order)."
   ]
  },
  {
   "cell_type": "code",
   "execution_count": 59,
   "metadata": {},
   "outputs": [],
   "source": [
    "# Here, I create new varibles to store the ordered series for the stacked barplot\n",
    "type1_ordered = type1_count.reindex(total_types.index)\n",
    "type2_ordered = type2_count.reindex(total_types.index)"
   ]
  },
  {
   "cell_type": "code",
   "execution_count": 60,
   "metadata": {},
   "outputs": [
    {
     "data": {
      "text/plain": [
       "water       114\n",
       "normal      105\n",
       "flying        3\n",
       "grass        78\n",
       "psychic      53\n",
       "bug          72\n",
       "ground       32\n",
       "poison       32\n",
       "fire         52\n",
       "rock         45\n",
       "fighting     28\n",
       "dark         29\n",
       "electric     39\n",
       "fairy        18\n",
       "steel        24\n",
       "dragon       27\n",
       "ghost        27\n",
       "ice          23\n",
       "Name: type1, dtype: int64"
      ]
     },
     "execution_count": 60,
     "metadata": {},
     "output_type": "execute_result"
    }
   ],
   "source": [
    "type1_ordered"
   ]
  },
  {
   "cell_type": "code",
   "execution_count": 61,
   "metadata": {},
   "outputs": [
    {
     "data": {
      "text/plain": [
       "water       17\n",
       "normal       4\n",
       "flying      95\n",
       "grass       20\n",
       "psychic     29\n",
       "bug          5\n",
       "ground      34\n",
       "poison      34\n",
       "fire        13\n",
       "rock        14\n",
       "fighting    25\n",
       "dark        21\n",
       "electric     9\n",
       "fairy       29\n",
       "steel       22\n",
       "dragon      17\n",
       "ghost       14\n",
       "ice         15\n",
       "Name: type2, dtype: int64"
      ]
     },
     "execution_count": 61,
     "metadata": {},
     "output_type": "execute_result"
    }
   ],
   "source": [
    "type2_ordered"
   ]
  },
  {
   "cell_type": "markdown",
   "metadata": {},
   "source": [
    "> Now that both series are in the same order and sorted in descending order (according to the `total_types` series), I can finally create a stacked barplot with both the primary and secondary types. I will use the `subplots` function to be able to plot 2 graphs in the same axis. I will add a different color for the the primary and secondary types, and I will add a legend too."
   ]
  },
  {
   "cell_type": "code",
   "execution_count": 62,
   "metadata": {},
   "outputs": [
    {
     "data": {
      "image/png": "[encoded data removed]",
      "text/plain": [
       "<Figure size 720x504 with 1 Axes>"
      ]
     },
     "metadata": {},
     "output_type": "display_data"
    }
   ],
   "source": [
    "f, ax = plt.subplots(figsize=(10, 7))\n",
    "\n",
    "# Values for the primary types \"stacked\" on top of the secondary types = total_types values\n",
    "sns.barplot(y=type1_ordered.index, x=total_types.values, color='black', label='Primary types');\n",
    "\n",
    "# Values for the secondary types\n",
    "sns.barplot(y=type2_ordered.index, x=type2_ordered.values, color='gray', label='Secondary types');\n",
    "\n",
    "# Add the legend, labels and title\n",
    "ax.legend();\n",
    "ax.set(xlabel='Number of Pokémon', ylabel='Pokémon type');\n",
    "ax.set_title('Distribution of Pokémon types');"
   ]
  },
  {
   "cell_type": "markdown",
   "metadata": {},
   "source": [
    "> Done. I have just created a horizontal barplot with the count of the primary Pokémon types (represented in the graph in black color) *stacked on top* of the count of the secondary Pokémon types (represented in gray color). **The total length of the bars represent the total number of Pokémon for each type, considering both primary and secondary types**. This graph is very useful to visualize both the overall distribution of the Pokémon types, and also the proportions of primary and secondary types in each category."
   ]
  },
  {
   "cell_type": "markdown",
   "metadata": {},
   "source": [
    "> Considering both the primary and secondary types, **the most common Pokémon types are water, normal, flying and grass. The rarest Pokémon type is ice, followed by ghost and dragon.** Another interesting information this graph shows is that *the normal and bug types are mostly primary types of Pokémon*, and that *the flying type is mostly a secondary type*."
   ]
  },
  {
   "cell_type": "code",
   "execution_count": 63,
   "metadata": {},
   "outputs": [],
   "source": [
    "# import jovian\n",
    "# jovian.commit(project=project_name, environment=None)"
   ]
  },
  {
   "cell_type": "markdown",
   "metadata": {},
   "source": [
    "## Question 2: Which combinations of Pokémon types are the most common?"
   ]
  },
  {
   "cell_type": "markdown",
   "metadata": {},
   "source": [
    "We know from the exploratory analysis that more than half of the Pokémon are dual type (i.e. have both a primary and a secondary type). And in the previous question, it was very noticeable that the *normal type and bug type are mostly primary types* among Pokémon, while the *flying type is mostly a secondary type*. So maybe there could be a relationship between these Pokémon types (e.g. Pokémon who are both normal and flying types could have the normal type almost always as their primary type, and the flying type almost always as their secondary type)."
   ]
  },
  {
   "cell_type": "markdown",
   "metadata": {},
   "source": [
    "So I need to find out which combinations of types are the most common. A heatmap will be very useful to find the answer to this question. But first I need to create a matrix with the axis as `type1` and `type2` and with the count of the Pokémon as the values. I will use the `groupby` function to group by for the primary and secondary types of Pokémon, and then use the `size` method to get the sizes of each category. Finally, I will use the `unstack` method to convert the grouped series into a matrix-like DataFrame. Credits to the line of code below to [*gurarako* from Kaggle](https://www.kaggle.com/gurarako/visualization-using-seaborn-pokemon-part-1)"
   ]
  },
  {
   "cell_type": "code",
   "execution_count": 64,
   "metadata": {},
   "outputs": [
    {
     "data": {
      "text/html": [
       "<div>\n",
       "<style scoped>\n",
       "    .dataframe tbody tr th:only-of-type {\n",
       "        vertical-align: middle;\n",
       "    }\n",
       "\n",
       "    .dataframe tbody tr th {\n",
       "        vertical-align: top;\n",
       "    }\n",
       "\n",
       "    .dataframe thead th {\n",
       "        text-align: right;\n",
       "    }\n",
       "</style>\n",
       "<table border=\"1\" class=\"dataframe\">\n",
       "  <thead>\n",
       "    <tr style=\"text-align: right;\">\n",
       "      <th>type2</th>\n",
       "      <th>bug</th>\n",
       "      <th>dark</th>\n",
       "      <th>dragon</th>\n",
       "      <th>electric</th>\n",
       "      <th>fairy</th>\n",
       "      <th>fighting</th>\n",
       "      <th>fire</th>\n",
       "      <th>flying</th>\n",
       "      <th>ghost</th>\n",
       "      <th>grass</th>\n",
       "      <th>ground</th>\n",
       "      <th>ice</th>\n",
       "      <th>normal</th>\n",
       "      <th>poison</th>\n",
       "      <th>psychic</th>\n",
       "      <th>rock</th>\n",
       "      <th>steel</th>\n",
       "      <th>water</th>\n",
       "    </tr>\n",
       "    <tr>\n",
       "      <th>type1</th>\n",
       "      <th></th>\n",
       "      <th></th>\n",
       "      <th></th>\n",
       "      <th></th>\n",
       "      <th></th>\n",
       "      <th></th>\n",
       "      <th></th>\n",
       "      <th></th>\n",
       "      <th></th>\n",
       "      <th></th>\n",
       "      <th></th>\n",
       "      <th></th>\n",
       "      <th></th>\n",
       "      <th></th>\n",
       "      <th></th>\n",
       "      <th></th>\n",
       "      <th></th>\n",
       "      <th></th>\n",
       "    </tr>\n",
       "  </thead>\n",
       "  <tbody>\n",
       "    <tr>\n",
       "      <th>bug</th>\n",
       "      <td>NaN</td>\n",
       "      <td>NaN</td>\n",
       "      <td>NaN</td>\n",
       "      <td>4.0</td>\n",
       "      <td>2.0</td>\n",
       "      <td>3.0</td>\n",
       "      <td>2.0</td>\n",
       "      <td>13.0</td>\n",
       "      <td>1.0</td>\n",
       "      <td>6.0</td>\n",
       "      <td>1.0</td>\n",
       "      <td>NaN</td>\n",
       "      <td>NaN</td>\n",
       "      <td>11.0</td>\n",
       "      <td>NaN</td>\n",
       "      <td>3.0</td>\n",
       "      <td>5.0</td>\n",
       "      <td>3.0</td>\n",
       "    </tr>\n",
       "    <tr>\n",
       "      <th>dark</th>\n",
       "      <td>NaN</td>\n",
       "      <td>NaN</td>\n",
       "      <td>4.0</td>\n",
       "      <td>NaN</td>\n",
       "      <td>NaN</td>\n",
       "      <td>2.0</td>\n",
       "      <td>2.0</td>\n",
       "      <td>5.0</td>\n",
       "      <td>1.0</td>\n",
       "      <td>NaN</td>\n",
       "      <td>NaN</td>\n",
       "      <td>2.0</td>\n",
       "      <td>NaN</td>\n",
       "      <td>NaN</td>\n",
       "      <td>2.0</td>\n",
       "      <td>NaN</td>\n",
       "      <td>2.0</td>\n",
       "      <td>NaN</td>\n",
       "    </tr>\n",
       "    <tr>\n",
       "      <th>dragon</th>\n",
       "      <td>NaN</td>\n",
       "      <td>NaN</td>\n",
       "      <td>NaN</td>\n",
       "      <td>1.0</td>\n",
       "      <td>NaN</td>\n",
       "      <td>2.0</td>\n",
       "      <td>1.0</td>\n",
       "      <td>4.0</td>\n",
       "      <td>NaN</td>\n",
       "      <td>NaN</td>\n",
       "      <td>4.0</td>\n",
       "      <td>1.0</td>\n",
       "      <td>NaN</td>\n",
       "      <td>NaN</td>\n",
       "      <td>2.0</td>\n",
       "      <td>NaN</td>\n",
       "      <td>NaN</td>\n",
       "      <td>NaN</td>\n",
       "    </tr>\n",
       "    <tr>\n",
       "      <th>electric</th>\n",
       "      <td>NaN</td>\n",
       "      <td>NaN</td>\n",
       "      <td>NaN</td>\n",
       "      <td>1.0</td>\n",
       "      <td>2.0</td>\n",
       "      <td>NaN</td>\n",
       "      <td>NaN</td>\n",
       "      <td>3.0</td>\n",
       "      <td>1.0</td>\n",
       "      <td>NaN</td>\n",
       "      <td>NaN</td>\n",
       "      <td>NaN</td>\n",
       "      <td>2.0</td>\n",
       "      <td>NaN</td>\n",
       "      <td>NaN</td>\n",
       "      <td>NaN</td>\n",
       "      <td>4.0</td>\n",
       "      <td>NaN</td>\n",
       "    </tr>\n",
       "    <tr>\n",
       "      <th>fairy</th>\n",
       "      <td>NaN</td>\n",
       "      <td>NaN</td>\n",
       "      <td>NaN</td>\n",
       "      <td>NaN</td>\n",
       "      <td>NaN</td>\n",
       "      <td>NaN</td>\n",
       "      <td>NaN</td>\n",
       "      <td>2.0</td>\n",
       "      <td>NaN</td>\n",
       "      <td>NaN</td>\n",
       "      <td>NaN</td>\n",
       "      <td>NaN</td>\n",
       "      <td>NaN</td>\n",
       "      <td>NaN</td>\n",
       "      <td>NaN</td>\n",
       "      <td>NaN</td>\n",
       "      <td>NaN</td>\n",
       "      <td>NaN</td>\n",
       "    </tr>\n",
       "    <tr>\n",
       "      <th>fighting</th>\n",
       "      <td>NaN</td>\n",
       "      <td>1.0</td>\n",
       "      <td>NaN</td>\n",
       "      <td>NaN</td>\n",
       "      <td>NaN</td>\n",
       "      <td>NaN</td>\n",
       "      <td>NaN</td>\n",
       "      <td>1.0</td>\n",
       "      <td>NaN</td>\n",
       "      <td>NaN</td>\n",
       "      <td>NaN</td>\n",
       "      <td>1.0</td>\n",
       "      <td>NaN</td>\n",
       "      <td>NaN</td>\n",
       "      <td>2.0</td>\n",
       "      <td>NaN</td>\n",
       "      <td>1.0</td>\n",
       "      <td>NaN</td>\n",
       "    </tr>\n",
       "    <tr>\n",
       "      <th>fire</th>\n",
       "      <td>NaN</td>\n",
       "      <td>1.0</td>\n",
       "      <td>1.0</td>\n",
       "      <td>NaN</td>\n",
       "      <td>NaN</td>\n",
       "      <td>6.0</td>\n",
       "      <td>1.0</td>\n",
       "      <td>6.0</td>\n",
       "      <td>NaN</td>\n",
       "      <td>NaN</td>\n",
       "      <td>2.0</td>\n",
       "      <td>2.0</td>\n",
       "      <td>2.0</td>\n",
       "      <td>NaN</td>\n",
       "      <td>1.0</td>\n",
       "      <td>1.0</td>\n",
       "      <td>1.0</td>\n",
       "      <td>1.0</td>\n",
       "    </tr>\n",
       "    <tr>\n",
       "      <th>flying</th>\n",
       "      <td>NaN</td>\n",
       "      <td>NaN</td>\n",
       "      <td>2.0</td>\n",
       "      <td>NaN</td>\n",
       "      <td>NaN</td>\n",
       "      <td>NaN</td>\n",
       "      <td>NaN</td>\n",
       "      <td>NaN</td>\n",
       "      <td>NaN</td>\n",
       "      <td>NaN</td>\n",
       "      <td>NaN</td>\n",
       "      <td>NaN</td>\n",
       "      <td>NaN</td>\n",
       "      <td>NaN</td>\n",
       "      <td>NaN</td>\n",
       "      <td>NaN</td>\n",
       "      <td>NaN</td>\n",
       "      <td>NaN</td>\n",
       "    </tr>\n",
       "    <tr>\n",
       "      <th>ghost</th>\n",
       "      <td>NaN</td>\n",
       "      <td>1.0</td>\n",
       "      <td>1.0</td>\n",
       "      <td>NaN</td>\n",
       "      <td>1.0</td>\n",
       "      <td>NaN</td>\n",
       "      <td>3.0</td>\n",
       "      <td>2.0</td>\n",
       "      <td>NaN</td>\n",
       "      <td>5.0</td>\n",
       "      <td>2.0</td>\n",
       "      <td>NaN</td>\n",
       "      <td>NaN</td>\n",
       "      <td>3.0</td>\n",
       "      <td>NaN</td>\n",
       "      <td>NaN</td>\n",
       "      <td>NaN</td>\n",
       "      <td>NaN</td>\n",
       "    </tr>\n",
       "    <tr>\n",
       "      <th>grass</th>\n",
       "      <td>NaN</td>\n",
       "      <td>3.0</td>\n",
       "      <td>NaN</td>\n",
       "      <td>NaN</td>\n",
       "      <td>5.0</td>\n",
       "      <td>3.0</td>\n",
       "      <td>NaN</td>\n",
       "      <td>6.0</td>\n",
       "      <td>1.0</td>\n",
       "      <td>1.0</td>\n",
       "      <td>1.0</td>\n",
       "      <td>2.0</td>\n",
       "      <td>NaN</td>\n",
       "      <td>14.0</td>\n",
       "      <td>2.0</td>\n",
       "      <td>NaN</td>\n",
       "      <td>3.0</td>\n",
       "      <td>NaN</td>\n",
       "    </tr>\n",
       "    <tr>\n",
       "      <th>ground</th>\n",
       "      <td>NaN</td>\n",
       "      <td>3.0</td>\n",
       "      <td>2.0</td>\n",
       "      <td>1.0</td>\n",
       "      <td>NaN</td>\n",
       "      <td>NaN</td>\n",
       "      <td>1.0</td>\n",
       "      <td>3.0</td>\n",
       "      <td>2.0</td>\n",
       "      <td>NaN</td>\n",
       "      <td>2.0</td>\n",
       "      <td>2.0</td>\n",
       "      <td>NaN</td>\n",
       "      <td>NaN</td>\n",
       "      <td>2.0</td>\n",
       "      <td>3.0</td>\n",
       "      <td>1.0</td>\n",
       "      <td>NaN</td>\n",
       "    </tr>\n",
       "    <tr>\n",
       "      <th>ice</th>\n",
       "      <td>NaN</td>\n",
       "      <td>NaN</td>\n",
       "      <td>NaN</td>\n",
       "      <td>NaN</td>\n",
       "      <td>NaN</td>\n",
       "      <td>NaN</td>\n",
       "      <td>NaN</td>\n",
       "      <td>2.0</td>\n",
       "      <td>1.0</td>\n",
       "      <td>NaN</td>\n",
       "      <td>3.0</td>\n",
       "      <td>NaN</td>\n",
       "      <td>NaN</td>\n",
       "      <td>NaN</td>\n",
       "      <td>2.0</td>\n",
       "      <td>NaN</td>\n",
       "      <td>NaN</td>\n",
       "      <td>3.0</td>\n",
       "    </tr>\n",
       "    <tr>\n",
       "      <th>normal</th>\n",
       "      <td>NaN</td>\n",
       "      <td>4.0</td>\n",
       "      <td>1.0</td>\n",
       "      <td>NaN</td>\n",
       "      <td>4.0</td>\n",
       "      <td>2.0</td>\n",
       "      <td>NaN</td>\n",
       "      <td>26.0</td>\n",
       "      <td>NaN</td>\n",
       "      <td>2.0</td>\n",
       "      <td>1.0</td>\n",
       "      <td>NaN</td>\n",
       "      <td>NaN</td>\n",
       "      <td>NaN</td>\n",
       "      <td>3.0</td>\n",
       "      <td>NaN</td>\n",
       "      <td>NaN</td>\n",
       "      <td>1.0</td>\n",
       "    </tr>\n",
       "    <tr>\n",
       "      <th>poison</th>\n",
       "      <td>1.0</td>\n",
       "      <td>3.0</td>\n",
       "      <td>1.0</td>\n",
       "      <td>NaN</td>\n",
       "      <td>NaN</td>\n",
       "      <td>2.0</td>\n",
       "      <td>2.0</td>\n",
       "      <td>3.0</td>\n",
       "      <td>NaN</td>\n",
       "      <td>NaN</td>\n",
       "      <td>2.0</td>\n",
       "      <td>NaN</td>\n",
       "      <td>NaN</td>\n",
       "      <td>2.0</td>\n",
       "      <td>NaN</td>\n",
       "      <td>NaN</td>\n",
       "      <td>NaN</td>\n",
       "      <td>3.0</td>\n",
       "    </tr>\n",
       "    <tr>\n",
       "      <th>psychic</th>\n",
       "      <td>NaN</td>\n",
       "      <td>NaN</td>\n",
       "      <td>NaN</td>\n",
       "      <td>NaN</td>\n",
       "      <td>6.0</td>\n",
       "      <td>1.0</td>\n",
       "      <td>1.0</td>\n",
       "      <td>6.0</td>\n",
       "      <td>2.0</td>\n",
       "      <td>1.0</td>\n",
       "      <td>NaN</td>\n",
       "      <td>NaN</td>\n",
       "      <td>NaN</td>\n",
       "      <td>NaN</td>\n",
       "      <td>NaN</td>\n",
       "      <td>NaN</td>\n",
       "      <td>1.0</td>\n",
       "      <td>NaN</td>\n",
       "    </tr>\n",
       "    <tr>\n",
       "      <th>rock</th>\n",
       "      <td>2.0</td>\n",
       "      <td>1.0</td>\n",
       "      <td>2.0</td>\n",
       "      <td>NaN</td>\n",
       "      <td>2.0</td>\n",
       "      <td>1.0</td>\n",
       "      <td>NaN</td>\n",
       "      <td>4.0</td>\n",
       "      <td>NaN</td>\n",
       "      <td>2.0</td>\n",
       "      <td>6.0</td>\n",
       "      <td>2.0</td>\n",
       "      <td>NaN</td>\n",
       "      <td>1.0</td>\n",
       "      <td>2.0</td>\n",
       "      <td>NaN</td>\n",
       "      <td>3.0</td>\n",
       "      <td>6.0</td>\n",
       "    </tr>\n",
       "    <tr>\n",
       "      <th>steel</th>\n",
       "      <td>NaN</td>\n",
       "      <td>NaN</td>\n",
       "      <td>1.0</td>\n",
       "      <td>NaN</td>\n",
       "      <td>3.0</td>\n",
       "      <td>1.0</td>\n",
       "      <td>NaN</td>\n",
       "      <td>2.0</td>\n",
       "      <td>3.0</td>\n",
       "      <td>NaN</td>\n",
       "      <td>1.0</td>\n",
       "      <td>NaN</td>\n",
       "      <td>NaN</td>\n",
       "      <td>NaN</td>\n",
       "      <td>6.0</td>\n",
       "      <td>3.0</td>\n",
       "      <td>NaN</td>\n",
       "      <td>NaN</td>\n",
       "    </tr>\n",
       "    <tr>\n",
       "      <th>water</th>\n",
       "      <td>2.0</td>\n",
       "      <td>4.0</td>\n",
       "      <td>2.0</td>\n",
       "      <td>2.0</td>\n",
       "      <td>4.0</td>\n",
       "      <td>2.0</td>\n",
       "      <td>NaN</td>\n",
       "      <td>7.0</td>\n",
       "      <td>2.0</td>\n",
       "      <td>3.0</td>\n",
       "      <td>9.0</td>\n",
       "      <td>3.0</td>\n",
       "      <td>NaN</td>\n",
       "      <td>3.0</td>\n",
       "      <td>5.0</td>\n",
       "      <td>4.0</td>\n",
       "      <td>1.0</td>\n",
       "      <td>NaN</td>\n",
       "    </tr>\n",
       "  </tbody>\n",
       "</table>\n",
       "</div>"
      ],
      "text/plain": [
       "type2     bug  dark  dragon  electric  fairy  fighting  fire  flying  ghost  \\\n",
       "type1                                                                         \n",
       "bug       NaN   NaN     NaN       4.0    2.0       3.0   2.0    13.0    1.0   \n",
       "dark      NaN   NaN     4.0       NaN    NaN       2.0   2.0     5.0    1.0   \n",
       "dragon    NaN   NaN     NaN       1.0    NaN       2.0   1.0     4.0    NaN   \n",
       "electric  NaN   NaN     NaN       1.0    2.0       NaN   NaN     3.0    1.0   \n",
       "fairy     NaN   NaN     NaN       NaN    NaN       NaN   NaN     2.0    NaN   \n",
       "fighting  NaN   1.0     NaN       NaN    NaN       NaN   NaN     1.0    NaN   \n",
       "fire      NaN   1.0     1.0       NaN    NaN       6.0   1.0     6.0    NaN   \n",
       "flying    NaN   NaN     2.0       NaN    NaN       NaN   NaN     NaN    NaN   \n",
       "ghost     NaN   1.0     1.0       NaN    1.0       NaN   3.0     2.0    NaN   \n",
       "grass     NaN   3.0     NaN       NaN    5.0       3.0   NaN     6.0    1.0   \n",
       "ground    NaN   3.0     2.0       1.0    NaN       NaN   1.0     3.0    2.0   \n",
       "ice       NaN   NaN     NaN       NaN    NaN       NaN   NaN     2.0    1.0   \n",
       "normal    NaN   4.0     1.0       NaN    4.0       2.0   NaN    26.0    NaN   \n",
       "poison    1.0   3.0     1.0       NaN    NaN       2.0   2.0     3.0    NaN   \n",
       "psychic   NaN   NaN     NaN       NaN    6.0       1.0   1.0     6.0    2.0   \n",
       "rock      2.0   1.0     2.0       NaN    2.0       1.0   NaN     4.0    NaN   \n",
       "steel     NaN   NaN     1.0       NaN    3.0       1.0   NaN     2.0    3.0   \n",
       "water     2.0   4.0     2.0       2.0    4.0       2.0   NaN     7.0    2.0   \n",
       "\n",
       "type2     grass  ground  ice  normal  poison  psychic  rock  steel  water  \n",
       "type1                                                                      \n",
       "bug         6.0     1.0  NaN     NaN    11.0      NaN   3.0    5.0    3.0  \n",
       "dark        NaN     NaN  2.0     NaN     NaN      2.0   NaN    2.0    NaN  \n",
       "dragon      NaN     4.0  1.0     NaN     NaN      2.0   NaN    NaN    NaN  \n",
       "electric    NaN     NaN  NaN     2.0     NaN      NaN   NaN    4.0    NaN  \n",
       "fairy       NaN     NaN  NaN     NaN     NaN      NaN   NaN    NaN    NaN  \n",
       "fighting    NaN     NaN  1.0     NaN     NaN      2.0   NaN    1.0    NaN  \n",
       "fire        NaN     2.0  2.0     2.0     NaN      1.0   1.0    1.0    1.0  \n",
       "flying      NaN     NaN  NaN     NaN     NaN      NaN   NaN    NaN    NaN  \n",
       "ghost       5.0     2.0  NaN     NaN     3.0      NaN   NaN    NaN    NaN  \n",
       "grass       1.0     1.0  2.0     NaN    14.0      2.0   NaN    3.0    NaN  \n",
       "ground      NaN     2.0  2.0     NaN     NaN      2.0   3.0    1.0    NaN  \n",
       "ice         NaN     3.0  NaN     NaN     NaN      2.0   NaN    NaN    3.0  \n",
       "normal      2.0     1.0  NaN     NaN     NaN      3.0   NaN    NaN    1.0  \n",
       "poison      NaN     2.0  NaN     NaN     2.0      NaN   NaN    NaN    3.0  \n",
       "psychic     1.0     NaN  NaN     NaN     NaN      NaN   NaN    1.0    NaN  \n",
       "rock        2.0     6.0  2.0     NaN     1.0      2.0   NaN    3.0    6.0  \n",
       "steel       NaN     1.0  NaN     NaN     NaN      6.0   3.0    NaN    NaN  \n",
       "water       3.0     9.0  3.0     NaN     3.0      5.0   4.0    1.0    NaN  "
      ]
     },
     "execution_count": 64,
     "metadata": {},
     "output_type": "execute_result"
    }
   ],
   "source": [
    "# Here is the matrix necessary for creating the heatmap\n",
    "matrix = pok_df.groupby(['type1', 'type2']).size().unstack()\n",
    "matrix"
   ]
  },
  {
   "cell_type": "code",
   "execution_count": 65,
   "metadata": {},
   "outputs": [
    {
     "data": {
      "image/png": "[encoded data removed]",
      "text/plain": [
       "<Figure size 1152x864 with 2 Axes>"
      ]
     },
     "metadata": {},
     "output_type": "display_data"
    }
   ],
   "source": [
    "# Creating the heatmap\n",
    "plt.figure(figsize=(16,12))\n",
    "sns.heatmap(matrix, annot=True, cmap='Reds');\n",
    "plt.title('Combination of Pokémon types');\n",
    "plt.ylabel('Primary types');\n",
    "plt.xlabel('Secondary types');\n",
    "plt.xticks(rotation=40);"
   ]
  },
  {
   "cell_type": "markdown",
   "metadata": {},
   "source": [
    "Done. **The most common combination of Pokémon types is normal and flying**. This explains why normal is mostly a primary type of Pokémon and flying is mostly a secondary type of Pokémon. Many of the bird-like Pokémon have normal as its primary type and flying as its secondary type. **The second most common combination is grass and poison, and the third is bug and flying**. "
   ]
  },
  {
   "cell_type": "markdown",
   "metadata": {},
   "source": [
    "## Question 3: Which types of Pokémon are the most common among Legendary Pokémon?"
   ]
  },
  {
   "cell_type": "markdown",
   "metadata": {},
   "source": [
    "Legendary Pokémon, as any other Pokémon, have a primary type, and may have a secondary type as well. But the most common types of Legendary Pokémon may be different than those described in the answer of question 1 (water, normal, flying, and grass), since Legendary Pokémon represents a very small percentage (less than 9%) of the total Pokémon. So first I will investigate the percentages of single-type and dual-type Legendary Pokémon, then I will create a stacked barplot with the distribution of Pokémon types for both primary and secondary types of Legendary Pokémon (similar to what I have done on question 1, but now considering only Legendary Pokémon)."
   ]
  },
  {
   "cell_type": "markdown",
   "metadata": {},
   "source": [
    "So first I need to create a subsample of the `pok_df` dataframe, including only legendary Pokémon. To do that, I simply query inside square brackets the condition that I want to separate the data. In this case, the condition is the Pokémon being legendary, so the condition is `pok_df.is_legendary == True`. This piece of code returns a series of one boolean value for all the 801 lines of `pok_df` (with `True` if the line contains a Legendary Pokémon, and `False` if it does not). Then I only need to put this condition inside square brackets after the variable with the dataframe and assign it to a new variable to save it."
   ]
  },
  {
   "cell_type": "code",
   "execution_count": 66,
   "metadata": {},
   "outputs": [
    {
     "data": {
      "text/html": [
       "<div>\n",
       "<style scoped>\n",
       "    .dataframe tbody tr th:only-of-type {\n",
       "        vertical-align: middle;\n",
       "    }\n",
       "\n",
       "    .dataframe tbody tr th {\n",
       "        vertical-align: top;\n",
       "    }\n",
       "\n",
       "    .dataframe thead th {\n",
       "        text-align: right;\n",
       "    }\n",
       "</style>\n",
       "<table border=\"1\" class=\"dataframe\">\n",
       "  <thead>\n",
       "    <tr style=\"text-align: right;\">\n",
       "      <th></th>\n",
       "      <th>attack</th>\n",
       "      <th>base_egg_steps</th>\n",
       "      <th>base_happiness</th>\n",
       "      <th>base_total</th>\n",
       "      <th>capture_rate</th>\n",
       "      <th>classification</th>\n",
       "      <th>defense</th>\n",
       "      <th>experience_growth</th>\n",
       "      <th>height_m</th>\n",
       "      <th>hp</th>\n",
       "      <th>...</th>\n",
       "      <th>percentage_male</th>\n",
       "      <th>pokedex_number</th>\n",
       "      <th>sp_attack</th>\n",
       "      <th>sp_defense</th>\n",
       "      <th>speed</th>\n",
       "      <th>type1</th>\n",
       "      <th>type2</th>\n",
       "      <th>weight_kg</th>\n",
       "      <th>generation</th>\n",
       "      <th>is_legendary</th>\n",
       "    </tr>\n",
       "  </thead>\n",
       "  <tbody>\n",
       "    <tr>\n",
       "      <th>143</th>\n",
       "      <td>85</td>\n",
       "      <td>20480</td>\n",
       "      <td>35</td>\n",
       "      <td>580</td>\n",
       "      <td>3</td>\n",
       "      <td>Freeze Pokémon</td>\n",
       "      <td>100</td>\n",
       "      <td>1250000</td>\n",
       "      <td>1.7</td>\n",
       "      <td>90</td>\n",
       "      <td>...</td>\n",
       "      <td>NaN</td>\n",
       "      <td>144</td>\n",
       "      <td>95</td>\n",
       "      <td>125</td>\n",
       "      <td>85</td>\n",
       "      <td>ice</td>\n",
       "      <td>flying</td>\n",
       "      <td>55.4</td>\n",
       "      <td>1</td>\n",
       "      <td>True</td>\n",
       "    </tr>\n",
       "    <tr>\n",
       "      <th>144</th>\n",
       "      <td>90</td>\n",
       "      <td>20480</td>\n",
       "      <td>35</td>\n",
       "      <td>580</td>\n",
       "      <td>3</td>\n",
       "      <td>Electric Pokémon</td>\n",
       "      <td>85</td>\n",
       "      <td>1250000</td>\n",
       "      <td>1.6</td>\n",
       "      <td>90</td>\n",
       "      <td>...</td>\n",
       "      <td>NaN</td>\n",
       "      <td>145</td>\n",
       "      <td>125</td>\n",
       "      <td>90</td>\n",
       "      <td>100</td>\n",
       "      <td>electric</td>\n",
       "      <td>flying</td>\n",
       "      <td>52.6</td>\n",
       "      <td>1</td>\n",
       "      <td>True</td>\n",
       "    </tr>\n",
       "    <tr>\n",
       "      <th>145</th>\n",
       "      <td>100</td>\n",
       "      <td>20480</td>\n",
       "      <td>35</td>\n",
       "      <td>580</td>\n",
       "      <td>3</td>\n",
       "      <td>Flame Pokémon</td>\n",
       "      <td>90</td>\n",
       "      <td>1250000</td>\n",
       "      <td>2.0</td>\n",
       "      <td>90</td>\n",
       "      <td>...</td>\n",
       "      <td>NaN</td>\n",
       "      <td>146</td>\n",
       "      <td>125</td>\n",
       "      <td>85</td>\n",
       "      <td>90</td>\n",
       "      <td>fire</td>\n",
       "      <td>flying</td>\n",
       "      <td>60.0</td>\n",
       "      <td>1</td>\n",
       "      <td>True</td>\n",
       "    </tr>\n",
       "    <tr>\n",
       "      <th>149</th>\n",
       "      <td>150</td>\n",
       "      <td>30720</td>\n",
       "      <td>0</td>\n",
       "      <td>780</td>\n",
       "      <td>3</td>\n",
       "      <td>Genetic Pokémon</td>\n",
       "      <td>70</td>\n",
       "      <td>1250000</td>\n",
       "      <td>2.0</td>\n",
       "      <td>106</td>\n",
       "      <td>...</td>\n",
       "      <td>NaN</td>\n",
       "      <td>150</td>\n",
       "      <td>194</td>\n",
       "      <td>120</td>\n",
       "      <td>140</td>\n",
       "      <td>psychic</td>\n",
       "      <td>NaN</td>\n",
       "      <td>122.0</td>\n",
       "      <td>1</td>\n",
       "      <td>True</td>\n",
       "    </tr>\n",
       "    <tr>\n",
       "      <th>150</th>\n",
       "      <td>100</td>\n",
       "      <td>30720</td>\n",
       "      <td>100</td>\n",
       "      <td>600</td>\n",
       "      <td>45</td>\n",
       "      <td>New Species Pokémon</td>\n",
       "      <td>100</td>\n",
       "      <td>1059860</td>\n",
       "      <td>0.4</td>\n",
       "      <td>100</td>\n",
       "      <td>...</td>\n",
       "      <td>NaN</td>\n",
       "      <td>151</td>\n",
       "      <td>100</td>\n",
       "      <td>100</td>\n",
       "      <td>100</td>\n",
       "      <td>psychic</td>\n",
       "      <td>NaN</td>\n",
       "      <td>4.0</td>\n",
       "      <td>1</td>\n",
       "      <td>True</td>\n",
       "    </tr>\n",
       "    <tr>\n",
       "      <th>...</th>\n",
       "      <td>...</td>\n",
       "      <td>...</td>\n",
       "      <td>...</td>\n",
       "      <td>...</td>\n",
       "      <td>...</td>\n",
       "      <td>...</td>\n",
       "      <td>...</td>\n",
       "      <td>...</td>\n",
       "      <td>...</td>\n",
       "      <td>...</td>\n",
       "      <td>...</td>\n",
       "      <td>...</td>\n",
       "      <td>...</td>\n",
       "      <td>...</td>\n",
       "      <td>...</td>\n",
       "      <td>...</td>\n",
       "      <td>...</td>\n",
       "      <td>...</td>\n",
       "      <td>...</td>\n",
       "      <td>...</td>\n",
       "      <td>...</td>\n",
       "    </tr>\n",
       "    <tr>\n",
       "      <th>796</th>\n",
       "      <td>101</td>\n",
       "      <td>30720</td>\n",
       "      <td>0</td>\n",
       "      <td>570</td>\n",
       "      <td>25</td>\n",
       "      <td>Launch Pokémon</td>\n",
       "      <td>103</td>\n",
       "      <td>1250000</td>\n",
       "      <td>9.2</td>\n",
       "      <td>97</td>\n",
       "      <td>...</td>\n",
       "      <td>NaN</td>\n",
       "      <td>797</td>\n",
       "      <td>107</td>\n",
       "      <td>101</td>\n",
       "      <td>61</td>\n",
       "      <td>steel</td>\n",
       "      <td>flying</td>\n",
       "      <td>999.9</td>\n",
       "      <td>7</td>\n",
       "      <td>True</td>\n",
       "    </tr>\n",
       "    <tr>\n",
       "      <th>797</th>\n",
       "      <td>181</td>\n",
       "      <td>30720</td>\n",
       "      <td>0</td>\n",
       "      <td>570</td>\n",
       "      <td>255</td>\n",
       "      <td>Drawn Sword Pokémon</td>\n",
       "      <td>131</td>\n",
       "      <td>1250000</td>\n",
       "      <td>0.3</td>\n",
       "      <td>59</td>\n",
       "      <td>...</td>\n",
       "      <td>NaN</td>\n",
       "      <td>798</td>\n",
       "      <td>59</td>\n",
       "      <td>31</td>\n",
       "      <td>109</td>\n",
       "      <td>grass</td>\n",
       "      <td>steel</td>\n",
       "      <td>0.1</td>\n",
       "      <td>7</td>\n",
       "      <td>True</td>\n",
       "    </tr>\n",
       "    <tr>\n",
       "      <th>798</th>\n",
       "      <td>101</td>\n",
       "      <td>30720</td>\n",
       "      <td>0</td>\n",
       "      <td>570</td>\n",
       "      <td>15</td>\n",
       "      <td>Junkivore Pokémon</td>\n",
       "      <td>53</td>\n",
       "      <td>1250000</td>\n",
       "      <td>5.5</td>\n",
       "      <td>223</td>\n",
       "      <td>...</td>\n",
       "      <td>NaN</td>\n",
       "      <td>799</td>\n",
       "      <td>97</td>\n",
       "      <td>53</td>\n",
       "      <td>43</td>\n",
       "      <td>dark</td>\n",
       "      <td>dragon</td>\n",
       "      <td>888.0</td>\n",
       "      <td>7</td>\n",
       "      <td>True</td>\n",
       "    </tr>\n",
       "    <tr>\n",
       "      <th>799</th>\n",
       "      <td>107</td>\n",
       "      <td>30720</td>\n",
       "      <td>0</td>\n",
       "      <td>600</td>\n",
       "      <td>3</td>\n",
       "      <td>Prism Pokémon</td>\n",
       "      <td>101</td>\n",
       "      <td>1250000</td>\n",
       "      <td>2.4</td>\n",
       "      <td>97</td>\n",
       "      <td>...</td>\n",
       "      <td>NaN</td>\n",
       "      <td>800</td>\n",
       "      <td>127</td>\n",
       "      <td>89</td>\n",
       "      <td>79</td>\n",
       "      <td>psychic</td>\n",
       "      <td>NaN</td>\n",
       "      <td>230.0</td>\n",
       "      <td>7</td>\n",
       "      <td>True</td>\n",
       "    </tr>\n",
       "    <tr>\n",
       "      <th>800</th>\n",
       "      <td>95</td>\n",
       "      <td>30720</td>\n",
       "      <td>0</td>\n",
       "      <td>600</td>\n",
       "      <td>3</td>\n",
       "      <td>Artificial Pokémon</td>\n",
       "      <td>115</td>\n",
       "      <td>1250000</td>\n",
       "      <td>1.0</td>\n",
       "      <td>80</td>\n",
       "      <td>...</td>\n",
       "      <td>NaN</td>\n",
       "      <td>801</td>\n",
       "      <td>130</td>\n",
       "      <td>115</td>\n",
       "      <td>65</td>\n",
       "      <td>steel</td>\n",
       "      <td>fairy</td>\n",
       "      <td>80.5</td>\n",
       "      <td>7</td>\n",
       "      <td>True</td>\n",
       "    </tr>\n",
       "  </tbody>\n",
       "</table>\n",
       "<p>70 rows × 21 columns</p>\n",
       "</div>"
      ],
      "text/plain": [
       "     attack  base_egg_steps  base_happiness  base_total capture_rate  \\\n",
       "143      85           20480              35         580            3   \n",
       "144      90           20480              35         580            3   \n",
       "145     100           20480              35         580            3   \n",
       "149     150           30720               0         780            3   \n",
       "150     100           30720             100         600           45   \n",
       "..      ...             ...             ...         ...          ...   \n",
       "796     101           30720               0         570           25   \n",
       "797     181           30720               0         570          255   \n",
       "798     101           30720               0         570           15   \n",
       "799     107           30720               0         600            3   \n",
       "800      95           30720               0         600            3   \n",
       "\n",
       "          classification  defense  experience_growth  height_m   hp  ...  \\\n",
       "143       Freeze Pokémon      100            1250000       1.7   90  ...   \n",
       "144     Electric Pokémon       85            1250000       1.6   90  ...   \n",
       "145        Flame Pokémon       90            1250000       2.0   90  ...   \n",
       "149      Genetic Pokémon       70            1250000       2.0  106  ...   \n",
       "150  New Species Pokémon      100            1059860       0.4  100  ...   \n",
       "..                   ...      ...                ...       ...  ...  ...   \n",
       "796       Launch Pokémon      103            1250000       9.2   97  ...   \n",
       "797  Drawn Sword Pokémon      131            1250000       0.3   59  ...   \n",
       "798    Junkivore Pokémon       53            1250000       5.5  223  ...   \n",
       "799        Prism Pokémon      101            1250000       2.4   97  ...   \n",
       "800   Artificial Pokémon      115            1250000       1.0   80  ...   \n",
       "\n",
       "    percentage_male  pokedex_number  sp_attack  sp_defense  speed     type1  \\\n",
       "143             NaN             144         95         125     85       ice   \n",
       "144             NaN             145        125          90    100  electric   \n",
       "145             NaN             146        125          85     90      fire   \n",
       "149             NaN             150        194         120    140   psychic   \n",
       "150             NaN             151        100         100    100   psychic   \n",
       "..              ...             ...        ...         ...    ...       ...   \n",
       "796             NaN             797        107         101     61     steel   \n",
       "797             NaN             798         59          31    109     grass   \n",
       "798             NaN             799         97          53     43      dark   \n",
       "799             NaN             800        127          89     79   psychic   \n",
       "800             NaN             801        130         115     65     steel   \n",
       "\n",
       "      type2 weight_kg  generation  is_legendary  \n",
       "143  flying      55.4           1          True  \n",
       "144  flying      52.6           1          True  \n",
       "145  flying      60.0           1          True  \n",
       "149     NaN     122.0           1          True  \n",
       "150     NaN       4.0           1          True  \n",
       "..      ...       ...         ...           ...  \n",
       "796  flying     999.9           7          True  \n",
       "797   steel       0.1           7          True  \n",
       "798  dragon     888.0           7          True  \n",
       "799     NaN     230.0           7          True  \n",
       "800   fairy      80.5           7          True  \n",
       "\n",
       "[70 rows x 21 columns]"
      ]
     },
     "execution_count": 66,
     "metadata": {},
     "output_type": "execute_result"
    }
   ],
   "source": [
    "legendary_df = pok_df[pok_df.is_legendary == True]\n",
    "legendary_df"
   ]
  },
  {
   "cell_type": "markdown",
   "metadata": {},
   "source": [
    "In order to identify the `NaN` (null values) in the `type2` column, I will use the `isnull` function, and to count how many null and non-null values there are, I will use the `value_counts` function."
   ]
  },
  {
   "cell_type": "code",
   "execution_count": 67,
   "metadata": {},
   "outputs": [
    {
     "data": {
      "text/plain": [
       "False    45\n",
       "True     25\n",
       "Name: type2, dtype: int64"
      ]
     },
     "execution_count": 67,
     "metadata": {},
     "output_type": "execute_result"
    }
   ],
   "source": [
    "legendary_df.type2.isnull().value_counts()"
   ]
  },
  {
   "cell_type": "code",
   "execution_count": 68,
   "metadata": {},
   "outputs": [
    {
     "data": {
      "text/plain": [
       "35.714285714285715"
      ]
     },
     "execution_count": 68,
     "metadata": {},
     "output_type": "execute_result"
    }
   ],
   "source": [
    "(25 / 70) * 100"
   ]
  },
  {
   "cell_type": "markdown",
   "metadata": {},
   "source": [
    "So 25 out of a total of 70 Legendary Pokémon do not have a secondary type (i.e. are single type Pokémon). This is roughly 35.7%."
   ]
  },
  {
   "cell_type": "code",
   "execution_count": 69,
   "metadata": {},
   "outputs": [
    {
     "data": {
      "image/png": "[encoded data removed]",
      "text/plain": [
       "<Figure size 432x432 with 1 Axes>"
      ]
     },
     "metadata": {},
     "output_type": "display_data"
    }
   ],
   "source": [
    "# Plotting the pie chart\n",
    "plt.figure(figsize=(6,6))\n",
    "plt.pie([45, 25],\n",
    "        labels=['Dual type Legendary Pokémon', 'Single type Legendary Pokémon'],\n",
    "        autopct='%1.1f%%');"
   ]
  },
  {
   "cell_type": "markdown",
   "metadata": {},
   "source": [
    "More than 64% of Legendary Pokémon are dual type. This shows it is important to consider both primary types and secondary types when analysing which types are the most common overall."
   ]
  },
  {
   "cell_type": "markdown",
   "metadata": {},
   "source": [
    "Now I will start to prepare the data that will be used to create the stacked barplot. I will use the `group_by` function to group by the columns of Pokémon types, and use the method `size` to count how many Pokémon are in each type category. Then I will save the result to new variables."
   ]
  },
  {
   "cell_type": "code",
   "execution_count": 70,
   "metadata": {},
   "outputs": [
    {
     "data": {
      "text/plain": [
       "type1\n",
       "bug          3\n",
       "dark         3\n",
       "dragon       7\n",
       "electric     5\n",
       "fairy        1\n",
       "fire         5\n",
       "flying       1\n",
       "ghost        1\n",
       "grass        4\n",
       "ground       2\n",
       "ice          2\n",
       "normal       3\n",
       "psychic     17\n",
       "rock         4\n",
       "steel        6\n",
       "water        6\n",
       "dtype: int64"
      ]
     },
     "execution_count": 70,
     "metadata": {},
     "output_type": "execute_result"
    }
   ],
   "source": [
    "leg_type1 = legendary_df.groupby('type1').size()\n",
    "leg_type1"
   ]
  },
  {
   "cell_type": "code",
   "execution_count": 71,
   "metadata": {},
   "outputs": [
    {
     "data": {
      "text/plain": [
       "type2\n",
       "dragon       4\n",
       "electric     1\n",
       "fairy        6\n",
       "fighting     6\n",
       "fire         2\n",
       "flying      10\n",
       "ghost        2\n",
       "grass        2\n",
       "ground       1\n",
       "ice          1\n",
       "poison       1\n",
       "psychic      4\n",
       "steel        4\n",
       "water        1\n",
       "dtype: int64"
      ]
     },
     "execution_count": 71,
     "metadata": {},
     "output_type": "execute_result"
    }
   ],
   "source": [
    "leg_type2 = legendary_df.groupby('type2').size()\n",
    "leg_type2"
   ]
  },
  {
   "cell_type": "code",
   "execution_count": 72,
   "metadata": {},
   "outputs": [
    {
     "data": {
      "text/plain": [
       "16"
      ]
     },
     "execution_count": 72,
     "metadata": {},
     "output_type": "execute_result"
    }
   ],
   "source": [
    "len(leg_type1)"
   ]
  },
  {
   "cell_type": "code",
   "execution_count": 73,
   "metadata": {},
   "outputs": [
    {
     "data": {
      "text/plain": [
       "14"
      ]
     },
     "execution_count": 73,
     "metadata": {},
     "output_type": "execute_result"
    }
   ],
   "source": [
    "len(leg_type2)"
   ]
  },
  {
   "cell_type": "markdown",
   "metadata": {},
   "source": [
    "The problem is that these 2 series do not have the same length (the same number of rows). This means that some types present in `leg_type1` are not present in `leg_type2`, and the opposite is also true (some types present in `leg_type2` are not present in `leg_type1`)."
   ]
  },
  {
   "cell_type": "code",
   "execution_count": 74,
   "metadata": {},
   "outputs": [
    {
     "data": {
      "text/plain": [
       "Index(['bug', 'dark', 'dragon', 'electric', 'fairy', 'fire', 'flying', 'ghost',\n",
       "       'grass', 'ground', 'ice', 'normal', 'psychic', 'rock', 'steel',\n",
       "       'water'],\n",
       "      dtype='object', name='type1')"
      ]
     },
     "execution_count": 74,
     "metadata": {},
     "output_type": "execute_result"
    }
   ],
   "source": [
    "leg_type1.index"
   ]
  },
  {
   "cell_type": "code",
   "execution_count": 75,
   "metadata": {},
   "outputs": [
    {
     "data": {
      "text/plain": [
       "Index(['dragon', 'electric', 'fairy', 'fighting', 'fire', 'flying', 'ghost',\n",
       "       'grass', 'ground', 'ice', 'poison', 'psychic', 'steel', 'water'],\n",
       "      dtype='object', name='type2')"
      ]
     },
     "execution_count": 75,
     "metadata": {},
     "output_type": "execute_result"
    }
   ],
   "source": [
    "leg_type2.index"
   ]
  },
  {
   "cell_type": "markdown",
   "metadata": {},
   "source": [
    "`leg_type2` lacks bug, dark, normal and rock Pokémon types, while `leg_type1` lacks fighting and poison types. I need to add these types to the series as new rows with a value of `0`, together with their indexes. I will use the `Series` function to create new series of values with indexes, and the method `append` to concatenate the new series to `leg_type1` and `leg_type2`. The first argument passed to the `Series` function is the list with the values, and the second argument is the list with the indexes of corresponding values."
   ]
  },
  {
   "cell_type": "code",
   "execution_count": 76,
   "metadata": {},
   "outputs": [
    {
     "data": {
      "text/plain": [
       "fighting    0\n",
       "poison      0\n",
       "dtype: int64"
      ]
     },
     "execution_count": 76,
     "metadata": {},
     "output_type": "execute_result"
    }
   ],
   "source": [
    "add_leg_type1 = pd.Series([0, 0], ['fighting', 'poison'])\n",
    "add_leg_type1"
   ]
  },
  {
   "cell_type": "code",
   "execution_count": 77,
   "metadata": {},
   "outputs": [
    {
     "data": {
      "text/plain": [
       "bug       0\n",
       "dark      0\n",
       "normal    0\n",
       "rock      0\n",
       "dtype: int64"
      ]
     },
     "execution_count": 77,
     "metadata": {},
     "output_type": "execute_result"
    }
   ],
   "source": [
    "add_leg_type2 = pd.Series([0]*4, ['bug', 'dark', 'normal', 'rock'])\n",
    "add_leg_type2"
   ]
  },
  {
   "cell_type": "markdown",
   "metadata": {},
   "source": [
    "The new series were created. Now I will append them to `leg_type1` and `leg_type2` using the `append` method."
   ]
  },
  {
   "cell_type": "code",
   "execution_count": 78,
   "metadata": {},
   "outputs": [
    {
     "data": {
      "text/plain": [
       "bug          3\n",
       "dark         3\n",
       "dragon       7\n",
       "electric     5\n",
       "fairy        1\n",
       "fire         5\n",
       "flying       1\n",
       "ghost        1\n",
       "grass        4\n",
       "ground       2\n",
       "ice          2\n",
       "normal       3\n",
       "psychic     17\n",
       "rock         4\n",
       "steel        6\n",
       "water        6\n",
       "fighting     0\n",
       "poison       0\n",
       "dtype: int64"
      ]
     },
     "execution_count": 78,
     "metadata": {},
     "output_type": "execute_result"
    }
   ],
   "source": [
    "leg_type1 = leg_type1.append(add_leg_type1)\n",
    "leg_type1"
   ]
  },
  {
   "cell_type": "code",
   "execution_count": 79,
   "metadata": {},
   "outputs": [
    {
     "data": {
      "text/plain": [
       "dragon       4\n",
       "electric     1\n",
       "fairy        6\n",
       "fighting     6\n",
       "fire         2\n",
       "flying      10\n",
       "ghost        2\n",
       "grass        2\n",
       "ground       1\n",
       "ice          1\n",
       "poison       1\n",
       "psychic      4\n",
       "steel        4\n",
       "water        1\n",
       "bug          0\n",
       "dark         0\n",
       "normal       0\n",
       "rock         0\n",
       "dtype: int64"
      ]
     },
     "execution_count": 79,
     "metadata": {},
     "output_type": "execute_result"
    }
   ],
   "source": [
    "leg_type2 = leg_type2.append(add_leg_type2)\n",
    "leg_type2"
   ]
  },
  {
   "cell_type": "code",
   "execution_count": 80,
   "metadata": {},
   "outputs": [
    {
     "data": {
      "text/plain": [
       "18"
      ]
     },
     "execution_count": 80,
     "metadata": {},
     "output_type": "execute_result"
    }
   ],
   "source": [
    "len(leg_type1)"
   ]
  },
  {
   "cell_type": "code",
   "execution_count": 81,
   "metadata": {},
   "outputs": [
    {
     "data": {
      "text/plain": [
       "18"
      ]
     },
     "execution_count": 81,
     "metadata": {},
     "output_type": "execute_result"
    }
   ],
   "source": [
    "len(leg_type2)"
   ]
  },
  {
   "cell_type": "markdown",
   "metadata": {},
   "source": [
    "Done. Both series now have the same length and the same Pokémon types. Now I will sort these two series in alphabetical order using the function `sort_index`."
   ]
  },
  {
   "cell_type": "code",
   "execution_count": 82,
   "metadata": {},
   "outputs": [],
   "source": [
    "leg_type1.sort_index(inplace=True)\n",
    "leg_type2.sort_index(inplace=True)"
   ]
  },
  {
   "cell_type": "code",
   "execution_count": 83,
   "metadata": {},
   "outputs": [
    {
     "data": {
      "text/plain": [
       "bug          3\n",
       "dark         3\n",
       "dragon       7\n",
       "electric     5\n",
       "fairy        1\n",
       "fighting     0\n",
       "fire         5\n",
       "flying       1\n",
       "ghost        1\n",
       "grass        4\n",
       "ground       2\n",
       "ice          2\n",
       "normal       3\n",
       "poison       0\n",
       "psychic     17\n",
       "rock         4\n",
       "steel        6\n",
       "water        6\n",
       "dtype: int64"
      ]
     },
     "execution_count": 83,
     "metadata": {},
     "output_type": "execute_result"
    }
   ],
   "source": [
    "leg_type1"
   ]
  },
  {
   "cell_type": "code",
   "execution_count": 84,
   "metadata": {},
   "outputs": [
    {
     "data": {
      "text/plain": [
       "bug          0\n",
       "dark         0\n",
       "dragon       4\n",
       "electric     1\n",
       "fairy        6\n",
       "fighting     6\n",
       "fire         2\n",
       "flying      10\n",
       "ghost        2\n",
       "grass        2\n",
       "ground       1\n",
       "ice          1\n",
       "normal       0\n",
       "poison       1\n",
       "psychic      4\n",
       "rock         0\n",
       "steel        4\n",
       "water        1\n",
       "dtype: int64"
      ]
     },
     "execution_count": 84,
     "metadata": {},
     "output_type": "execute_result"
    }
   ],
   "source": [
    "leg_type2"
   ]
  },
  {
   "cell_type": "markdown",
   "metadata": {},
   "source": [
    "Now I will make an element-wise sum of values of these 2 series and store the result (a new series with the totals across primary and secondary types) in a new variable. Then, I will sort this new series by values in descending order."
   ]
  },
  {
   "cell_type": "code",
   "execution_count": 85,
   "metadata": {},
   "outputs": [
    {
     "data": {
      "text/plain": [
       "bug          3\n",
       "dark         3\n",
       "dragon      11\n",
       "electric     6\n",
       "fairy        7\n",
       "fighting     6\n",
       "fire         7\n",
       "flying      11\n",
       "ghost        3\n",
       "grass        6\n",
       "ground       3\n",
       "ice          3\n",
       "normal       3\n",
       "poison       1\n",
       "psychic     21\n",
       "rock         4\n",
       "steel       10\n",
       "water        7\n",
       "dtype: int64"
      ]
     },
     "execution_count": 85,
     "metadata": {},
     "output_type": "execute_result"
    }
   ],
   "source": [
    "leg_total = leg_type1 + leg_type2\n",
    "leg_total"
   ]
  },
  {
   "cell_type": "code",
   "execution_count": 86,
   "metadata": {},
   "outputs": [
    {
     "data": {
      "text/plain": [
       "psychic     21\n",
       "dragon      11\n",
       "flying      11\n",
       "steel       10\n",
       "water        7\n",
       "fairy        7\n",
       "fire         7\n",
       "fighting     6\n",
       "electric     6\n",
       "grass        6\n",
       "rock         4\n",
       "dark         3\n",
       "ghost        3\n",
       "ground       3\n",
       "ice          3\n",
       "normal       3\n",
       "bug          3\n",
       "poison       1\n",
       "dtype: int64"
      ]
     },
     "execution_count": 86,
     "metadata": {},
     "output_type": "execute_result"
    }
   ],
   "source": [
    "leg_total.sort_values(ascending=False, inplace=True)\n",
    "leg_total"
   ]
  },
  {
   "cell_type": "markdown",
   "metadata": {},
   "source": [
    "> **The most common Pokémon type (considering both primary and secondary types) among Legendary Pokémon is psychic, followed by dragon and flying (which are in a tie for the second most common type), and in third place there is the steel type.** "
   ]
  },
  {
   "cell_type": "markdown",
   "metadata": {},
   "source": [
    "Now I will create a stacked barplot to better visualize this data and the proportions of primary and secondary types in each category of Pokémon types. I will create this graph with the data from `leg_type1` and `leg_type2`, but first I need to sort these 2 series in the same order of the `leg_total` series using the `reindex` function. I will pass the indexes of `leg_total` to this function. This is necessary because I want to create the stacked barplot with the total length of the bars in descending order."
   ]
  },
  {
   "cell_type": "code",
   "execution_count": 87,
   "metadata": {},
   "outputs": [],
   "source": [
    "leg_type1 = leg_type1.reindex(leg_total.index)\n",
    "leg_type2 = leg_type2.reindex(leg_total.index)"
   ]
  },
  {
   "cell_type": "code",
   "execution_count": 88,
   "metadata": {},
   "outputs": [
    {
     "data": {
      "text/plain": [
       "psychic     17\n",
       "dragon       7\n",
       "flying       1\n",
       "steel        6\n",
       "water        6\n",
       "fairy        1\n",
       "fire         5\n",
       "fighting     0\n",
       "electric     5\n",
       "grass        4\n",
       "rock         4\n",
       "dark         3\n",
       "ghost        1\n",
       "ground       2\n",
       "ice          2\n",
       "normal       3\n",
       "bug          3\n",
       "poison       0\n",
       "dtype: int64"
      ]
     },
     "execution_count": 88,
     "metadata": {},
     "output_type": "execute_result"
    }
   ],
   "source": [
    "leg_type1"
   ]
  },
  {
   "cell_type": "code",
   "execution_count": 89,
   "metadata": {},
   "outputs": [
    {
     "data": {
      "text/plain": [
       "psychic      4\n",
       "dragon       4\n",
       "flying      10\n",
       "steel        4\n",
       "water        1\n",
       "fairy        6\n",
       "fire         2\n",
       "fighting     6\n",
       "electric     1\n",
       "grass        2\n",
       "rock         0\n",
       "dark         0\n",
       "ghost        2\n",
       "ground       1\n",
       "ice          1\n",
       "normal       0\n",
       "bug          0\n",
       "poison       1\n",
       "dtype: int64"
      ]
     },
     "execution_count": 89,
     "metadata": {},
     "output_type": "execute_result"
    }
   ],
   "source": [
    "leg_type2"
   ]
  },
  {
   "cell_type": "markdown",
   "metadata": {},
   "source": [
    "Now I can finally create the stacked barplot. I will change the default ticks of the x axis using the parameter `xticks`, inside the function `set`. It is necessary to pass a list or array of values as the argument for the `xticks` parameter, so I used the `arange` function of the NumPy library to create an array starting from `0` up to `23` (exclusive), with a step of `2`. Look at the code cell below to see the result of that function."
   ]
  },
  {
   "cell_type": "code",
   "execution_count": 90,
   "metadata": {},
   "outputs": [
    {
     "data": {
      "text/plain": [
       "array([ 0,  2,  4,  6,  8, 10, 12, 14, 16, 18, 20, 22])"
      ]
     },
     "execution_count": 90,
     "metadata": {},
     "output_type": "execute_result"
    }
   ],
   "source": [
    "# Create an array starting from 0 up to 23 (exclusive) with a step of 2.\n",
    "np.arange(0, 23, 2)\n",
    "# This is the array used to define the ticks of the x axis in the graph"
   ]
  },
  {
   "cell_type": "code",
   "execution_count": 91,
   "metadata": {},
   "outputs": [
    {
     "data": {
      "image/png": "[encoded data removed]",
      "text/plain": [
       "<Figure size 720x504 with 1 Axes>"
      ]
     },
     "metadata": {},
     "output_type": "display_data"
    }
   ],
   "source": [
    "# Using the subplots function to plot 2 graphs in the same axis\n",
    "f, ax = plt.subplots(figsize=(10, 7))\n",
    "\n",
    "# The values for primary types stacked on top of secondary types = leg_total.values\n",
    "sns.barplot(y=leg_type1.index, x=leg_total.values, label='Primary types', color='black');\n",
    "\n",
    "# Values for the secondary types of Legendary Pokémon\n",
    "sns.barplot(y=leg_type2.index, x=leg_type2.values, label='Secondary types', color='gray');\n",
    "\n",
    "# Setting the legend, labels and title\n",
    "ax.legend();\n",
    "ax.set(xlabel='Number of Legendary Pokémon', ylabel='Pokémon type',\n",
    "       xticks=np.arange(0, 23, 2)); # Change ticks on x axis\n",
    "ax.set_title('Distribution of Pokémon types among Legendary Pokémon');"
   ]
  },
  {
   "cell_type": "markdown",
   "metadata": {},
   "source": [
    "> This graph shows the distribution of Pokémon types among Legendary Pokémon only. *The gray-colored bars represent the number of secondary Pokémon types in each category, and the black-colored bars represent the number of primary Pokémon types stacked on top of the secondary types.* **The total length of the bars represent the total number of Legendary Pokémon in each category, considering both primary and legendary types.**"
   ]
  },
  {
   "cell_type": "markdown",
   "metadata": {},
   "source": [
    "> **The psychic type is by far the most common type of Legendary Pokémon overall (considering both primary and secondary types). The dragon and flying types are in a tie for the second most common type overall. And in third place, there is the steel type.** It is interesting to notice that the distribution of Pokémon types among Legendary Pokémon *differs quite a bit* comparing to distribution of Pokémon types considering all Pokémon (more than 91% of Pokémon are **not** legendary). **For example, while dragon and steel types are common among Legendary Pokémon, they are very rare among all Pokémon. And while the normal type is very common among all Pokémon, it is very rare among Legendary Pokémon. The bug and poison types are somewhat common among all Pokémon, but very rare among Legendary Pokémon.** This shows that these two groups of Pokémon (Legendary Pokémon and \"normal\" Pokémon) are a lot different from each other when it comes to distribution of Pokémon types."
   ]
  },
  {
   "cell_type": "code",
   "execution_count": 92,
   "metadata": {},
   "outputs": [],
   "source": [
    "# import jovian\n",
    "# jovian.commit(project=project_name, environment=None)"
   ]
  },
  {
   "cell_type": "markdown",
   "metadata": {},
   "source": [
    "## Question 4: Are Legendary Pokémon \"stronger\" than \"normal\" Pokémon?"
   ]
  },
  {
   "cell_type": "markdown",
   "metadata": {},
   "source": [
    "Although there is no direct measure of raw strength in this Pokémon database, **I will consider here that \"strong\" Pokémon are Pokémon with a high base total**. The base total of a Pokémon consists of the sum of its base stats (which includes hp, attack, defense, special attack, special defense, and speed), and can be considered a general guideline to determine how \"strong\" a Pokémon is. *So, for now on, when I refer to \"stronger Pokémon\" I mean: \"Pokémon with a higher base total\"*. To answer this question, I will need to compare the base total of Legendary Pokémon with the base total of \"normal\" Pokémon, and find out if the base total of Legendary Pokémon is higher in general than the base total of \"normal\" Pokémon."
   ]
  },
  {
   "cell_type": "markdown",
   "metadata": {},
   "source": [
    "So first, I will plot the histograms of the distributions of base totals of legendary and \"normal\" Pokémon and compare both distributions on the same graph. But to do that, I will need to create new variables to separate legendary and normal Pokémon."
   ]
  },
  {
   "cell_type": "code",
   "execution_count": 93,
   "metadata": {},
   "outputs": [],
   "source": [
    "legendary_df = pok_df[pok_df.is_legendary == True]\n",
    "normal_df = pok_df[pok_df.is_legendary == False]"
   ]
  },
  {
   "cell_type": "code",
   "execution_count": 94,
   "metadata": {},
   "outputs": [
    {
     "data": {
      "text/html": [
       "<div>\n",
       "<style scoped>\n",
       "    .dataframe tbody tr th:only-of-type {\n",
       "        vertical-align: middle;\n",
       "    }\n",
       "\n",
       "    .dataframe tbody tr th {\n",
       "        vertical-align: top;\n",
       "    }\n",
       "\n",
       "    .dataframe thead th {\n",
       "        text-align: right;\n",
       "    }\n",
       "</style>\n",
       "<table border=\"1\" class=\"dataframe\">\n",
       "  <thead>\n",
       "    <tr style=\"text-align: right;\">\n",
       "      <th></th>\n",
       "      <th>attack</th>\n",
       "      <th>base_egg_steps</th>\n",
       "      <th>base_happiness</th>\n",
       "      <th>base_total</th>\n",
       "      <th>capture_rate</th>\n",
       "      <th>classification</th>\n",
       "      <th>defense</th>\n",
       "      <th>experience_growth</th>\n",
       "      <th>height_m</th>\n",
       "      <th>hp</th>\n",
       "      <th>...</th>\n",
       "      <th>percentage_male</th>\n",
       "      <th>pokedex_number</th>\n",
       "      <th>sp_attack</th>\n",
       "      <th>sp_defense</th>\n",
       "      <th>speed</th>\n",
       "      <th>type1</th>\n",
       "      <th>type2</th>\n",
       "      <th>weight_kg</th>\n",
       "      <th>generation</th>\n",
       "      <th>is_legendary</th>\n",
       "    </tr>\n",
       "  </thead>\n",
       "  <tbody>\n",
       "    <tr>\n",
       "      <th>143</th>\n",
       "      <td>85</td>\n",
       "      <td>20480</td>\n",
       "      <td>35</td>\n",
       "      <td>580</td>\n",
       "      <td>3</td>\n",
       "      <td>Freeze Pokémon</td>\n",
       "      <td>100</td>\n",
       "      <td>1250000</td>\n",
       "      <td>1.7</td>\n",
       "      <td>90</td>\n",
       "      <td>...</td>\n",
       "      <td>NaN</td>\n",
       "      <td>144</td>\n",
       "      <td>95</td>\n",
       "      <td>125</td>\n",
       "      <td>85</td>\n",
       "      <td>ice</td>\n",
       "      <td>flying</td>\n",
       "      <td>55.4</td>\n",
       "      <td>1</td>\n",
       "      <td>True</td>\n",
       "    </tr>\n",
       "    <tr>\n",
       "      <th>144</th>\n",
       "      <td>90</td>\n",
       "      <td>20480</td>\n",
       "      <td>35</td>\n",
       "      <td>580</td>\n",
       "      <td>3</td>\n",
       "      <td>Electric Pokémon</td>\n",
       "      <td>85</td>\n",
       "      <td>1250000</td>\n",
       "      <td>1.6</td>\n",
       "      <td>90</td>\n",
       "      <td>...</td>\n",
       "      <td>NaN</td>\n",
       "      <td>145</td>\n",
       "      <td>125</td>\n",
       "      <td>90</td>\n",
       "      <td>100</td>\n",
       "      <td>electric</td>\n",
       "      <td>flying</td>\n",
       "      <td>52.6</td>\n",
       "      <td>1</td>\n",
       "      <td>True</td>\n",
       "    </tr>\n",
       "    <tr>\n",
       "      <th>145</th>\n",
       "      <td>100</td>\n",
       "      <td>20480</td>\n",
       "      <td>35</td>\n",
       "      <td>580</td>\n",
       "      <td>3</td>\n",
       "      <td>Flame Pokémon</td>\n",
       "      <td>90</td>\n",
       "      <td>1250000</td>\n",
       "      <td>2.0</td>\n",
       "      <td>90</td>\n",
       "      <td>...</td>\n",
       "      <td>NaN</td>\n",
       "      <td>146</td>\n",
       "      <td>125</td>\n",
       "      <td>85</td>\n",
       "      <td>90</td>\n",
       "      <td>fire</td>\n",
       "      <td>flying</td>\n",
       "      <td>60.0</td>\n",
       "      <td>1</td>\n",
       "      <td>True</td>\n",
       "    </tr>\n",
       "    <tr>\n",
       "      <th>149</th>\n",
       "      <td>150</td>\n",
       "      <td>30720</td>\n",
       "      <td>0</td>\n",
       "      <td>780</td>\n",
       "      <td>3</td>\n",
       "      <td>Genetic Pokémon</td>\n",
       "      <td>70</td>\n",
       "      <td>1250000</td>\n",
       "      <td>2.0</td>\n",
       "      <td>106</td>\n",
       "      <td>...</td>\n",
       "      <td>NaN</td>\n",
       "      <td>150</td>\n",
       "      <td>194</td>\n",
       "      <td>120</td>\n",
       "      <td>140</td>\n",
       "      <td>psychic</td>\n",
       "      <td>NaN</td>\n",
       "      <td>122.0</td>\n",
       "      <td>1</td>\n",
       "      <td>True</td>\n",
       "    </tr>\n",
       "    <tr>\n",
       "      <th>150</th>\n",
       "      <td>100</td>\n",
       "      <td>30720</td>\n",
       "      <td>100</td>\n",
       "      <td>600</td>\n",
       "      <td>45</td>\n",
       "      <td>New Species Pokémon</td>\n",
       "      <td>100</td>\n",
       "      <td>1059860</td>\n",
       "      <td>0.4</td>\n",
       "      <td>100</td>\n",
       "      <td>...</td>\n",
       "      <td>NaN</td>\n",
       "      <td>151</td>\n",
       "      <td>100</td>\n",
       "      <td>100</td>\n",
       "      <td>100</td>\n",
       "      <td>psychic</td>\n",
       "      <td>NaN</td>\n",
       "      <td>4.0</td>\n",
       "      <td>1</td>\n",
       "      <td>True</td>\n",
       "    </tr>\n",
       "    <tr>\n",
       "      <th>...</th>\n",
       "      <td>...</td>\n",
       "      <td>...</td>\n",
       "      <td>...</td>\n",
       "      <td>...</td>\n",
       "      <td>...</td>\n",
       "      <td>...</td>\n",
       "      <td>...</td>\n",
       "      <td>...</td>\n",
       "      <td>...</td>\n",
       "      <td>...</td>\n",
       "      <td>...</td>\n",
       "      <td>...</td>\n",
       "      <td>...</td>\n",
       "      <td>...</td>\n",
       "      <td>...</td>\n",
       "      <td>...</td>\n",
       "      <td>...</td>\n",
       "      <td>...</td>\n",
       "      <td>...</td>\n",
       "      <td>...</td>\n",
       "      <td>...</td>\n",
       "    </tr>\n",
       "    <tr>\n",
       "      <th>796</th>\n",
       "      <td>101</td>\n",
       "      <td>30720</td>\n",
       "      <td>0</td>\n",
       "      <td>570</td>\n",
       "      <td>25</td>\n",
       "      <td>Launch Pokémon</td>\n",
       "      <td>103</td>\n",
       "      <td>1250000</td>\n",
       "      <td>9.2</td>\n",
       "      <td>97</td>\n",
       "      <td>...</td>\n",
       "      <td>NaN</td>\n",
       "      <td>797</td>\n",
       "      <td>107</td>\n",
       "      <td>101</td>\n",
       "      <td>61</td>\n",
       "      <td>steel</td>\n",
       "      <td>flying</td>\n",
       "      <td>999.9</td>\n",
       "      <td>7</td>\n",
       "      <td>True</td>\n",
       "    </tr>\n",
       "    <tr>\n",
       "      <th>797</th>\n",
       "      <td>181</td>\n",
       "      <td>30720</td>\n",
       "      <td>0</td>\n",
       "      <td>570</td>\n",
       "      <td>255</td>\n",
       "      <td>Drawn Sword Pokémon</td>\n",
       "      <td>131</td>\n",
       "      <td>1250000</td>\n",
       "      <td>0.3</td>\n",
       "      <td>59</td>\n",
       "      <td>...</td>\n",
       "      <td>NaN</td>\n",
       "      <td>798</td>\n",
       "      <td>59</td>\n",
       "      <td>31</td>\n",
       "      <td>109</td>\n",
       "      <td>grass</td>\n",
       "      <td>steel</td>\n",
       "      <td>0.1</td>\n",
       "      <td>7</td>\n",
       "      <td>True</td>\n",
       "    </tr>\n",
       "    <tr>\n",
       "      <th>798</th>\n",
       "      <td>101</td>\n",
       "      <td>30720</td>\n",
       "      <td>0</td>\n",
       "      <td>570</td>\n",
       "      <td>15</td>\n",
       "      <td>Junkivore Pokémon</td>\n",
       "      <td>53</td>\n",
       "      <td>1250000</td>\n",
       "      <td>5.5</td>\n",
       "      <td>223</td>\n",
       "      <td>...</td>\n",
       "      <td>NaN</td>\n",
       "      <td>799</td>\n",
       "      <td>97</td>\n",
       "      <td>53</td>\n",
       "      <td>43</td>\n",
       "      <td>dark</td>\n",
       "      <td>dragon</td>\n",
       "      <td>888.0</td>\n",
       "      <td>7</td>\n",
       "      <td>True</td>\n",
       "    </tr>\n",
       "    <tr>\n",
       "      <th>799</th>\n",
       "      <td>107</td>\n",
       "      <td>30720</td>\n",
       "      <td>0</td>\n",
       "      <td>600</td>\n",
       "      <td>3</td>\n",
       "      <td>Prism Pokémon</td>\n",
       "      <td>101</td>\n",
       "      <td>1250000</td>\n",
       "      <td>2.4</td>\n",
       "      <td>97</td>\n",
       "      <td>...</td>\n",
       "      <td>NaN</td>\n",
       "      <td>800</td>\n",
       "      <td>127</td>\n",
       "      <td>89</td>\n",
       "      <td>79</td>\n",
       "      <td>psychic</td>\n",
       "      <td>NaN</td>\n",
       "      <td>230.0</td>\n",
       "      <td>7</td>\n",
       "      <td>True</td>\n",
       "    </tr>\n",
       "    <tr>\n",
       "      <th>800</th>\n",
       "      <td>95</td>\n",
       "      <td>30720</td>\n",
       "      <td>0</td>\n",
       "      <td>600</td>\n",
       "      <td>3</td>\n",
       "      <td>Artificial Pokémon</td>\n",
       "      <td>115</td>\n",
       "      <td>1250000</td>\n",
       "      <td>1.0</td>\n",
       "      <td>80</td>\n",
       "      <td>...</td>\n",
       "      <td>NaN</td>\n",
       "      <td>801</td>\n",
       "      <td>130</td>\n",
       "      <td>115</td>\n",
       "      <td>65</td>\n",
       "      <td>steel</td>\n",
       "      <td>fairy</td>\n",
       "      <td>80.5</td>\n",
       "      <td>7</td>\n",
       "      <td>True</td>\n",
       "    </tr>\n",
       "  </tbody>\n",
       "</table>\n",
       "<p>70 rows × 21 columns</p>\n",
       "</div>"
      ],
      "text/plain": [
       "     attack  base_egg_steps  base_happiness  base_total capture_rate  \\\n",
       "143      85           20480              35         580            3   \n",
       "144      90           20480              35         580            3   \n",
       "145     100           20480              35         580            3   \n",
       "149     150           30720               0         780            3   \n",
       "150     100           30720             100         600           45   \n",
       "..      ...             ...             ...         ...          ...   \n",
       "796     101           30720               0         570           25   \n",
       "797     181           30720               0         570          255   \n",
       "798     101           30720               0         570           15   \n",
       "799     107           30720               0         600            3   \n",
       "800      95           30720               0         600            3   \n",
       "\n",
       "          classification  defense  experience_growth  height_m   hp  ...  \\\n",
       "143       Freeze Pokémon      100            1250000       1.7   90  ...   \n",
       "144     Electric Pokémon       85            1250000       1.6   90  ...   \n",
       "145        Flame Pokémon       90            1250000       2.0   90  ...   \n",
       "149      Genetic Pokémon       70            1250000       2.0  106  ...   \n",
       "150  New Species Pokémon      100            1059860       0.4  100  ...   \n",
       "..                   ...      ...                ...       ...  ...  ...   \n",
       "796       Launch Pokémon      103            1250000       9.2   97  ...   \n",
       "797  Drawn Sword Pokémon      131            1250000       0.3   59  ...   \n",
       "798    Junkivore Pokémon       53            1250000       5.5  223  ...   \n",
       "799        Prism Pokémon      101            1250000       2.4   97  ...   \n",
       "800   Artificial Pokémon      115            1250000       1.0   80  ...   \n",
       "\n",
       "    percentage_male  pokedex_number  sp_attack  sp_defense  speed     type1  \\\n",
       "143             NaN             144         95         125     85       ice   \n",
       "144             NaN             145        125          90    100  electric   \n",
       "145             NaN             146        125          85     90      fire   \n",
       "149             NaN             150        194         120    140   psychic   \n",
       "150             NaN             151        100         100    100   psychic   \n",
       "..              ...             ...        ...         ...    ...       ...   \n",
       "796             NaN             797        107         101     61     steel   \n",
       "797             NaN             798         59          31    109     grass   \n",
       "798             NaN             799         97          53     43      dark   \n",
       "799             NaN             800        127          89     79   psychic   \n",
       "800             NaN             801        130         115     65     steel   \n",
       "\n",
       "      type2 weight_kg  generation  is_legendary  \n",
       "143  flying      55.4           1          True  \n",
       "144  flying      52.6           1          True  \n",
       "145  flying      60.0           1          True  \n",
       "149     NaN     122.0           1          True  \n",
       "150     NaN       4.0           1          True  \n",
       "..      ...       ...         ...           ...  \n",
       "796  flying     999.9           7          True  \n",
       "797   steel       0.1           7          True  \n",
       "798  dragon     888.0           7          True  \n",
       "799     NaN     230.0           7          True  \n",
       "800   fairy      80.5           7          True  \n",
       "\n",
       "[70 rows x 21 columns]"
      ]
     },
     "execution_count": 94,
     "metadata": {},
     "output_type": "execute_result"
    }
   ],
   "source": [
    "legendary_df"
   ]
  },
  {
   "cell_type": "code",
   "execution_count": 95,
   "metadata": {},
   "outputs": [
    {
     "data": {
      "text/html": [
       "<div>\n",
       "<style scoped>\n",
       "    .dataframe tbody tr th:only-of-type {\n",
       "        vertical-align: middle;\n",
       "    }\n",
       "\n",
       "    .dataframe tbody tr th {\n",
       "        vertical-align: top;\n",
       "    }\n",
       "\n",
       "    .dataframe thead th {\n",
       "        text-align: right;\n",
       "    }\n",
       "</style>\n",
       "<table border=\"1\" class=\"dataframe\">\n",
       "  <thead>\n",
       "    <tr style=\"text-align: right;\">\n",
       "      <th></th>\n",
       "      <th>attack</th>\n",
       "      <th>base_egg_steps</th>\n",
       "      <th>base_happiness</th>\n",
       "      <th>base_total</th>\n",
       "      <th>capture_rate</th>\n",
       "      <th>classification</th>\n",
       "      <th>defense</th>\n",
       "      <th>experience_growth</th>\n",
       "      <th>height_m</th>\n",
       "      <th>hp</th>\n",
       "      <th>...</th>\n",
       "      <th>percentage_male</th>\n",
       "      <th>pokedex_number</th>\n",
       "      <th>sp_attack</th>\n",
       "      <th>sp_defense</th>\n",
       "      <th>speed</th>\n",
       "      <th>type1</th>\n",
       "      <th>type2</th>\n",
       "      <th>weight_kg</th>\n",
       "      <th>generation</th>\n",
       "      <th>is_legendary</th>\n",
       "    </tr>\n",
       "  </thead>\n",
       "  <tbody>\n",
       "    <tr>\n",
       "      <th>0</th>\n",
       "      <td>49</td>\n",
       "      <td>5120</td>\n",
       "      <td>70</td>\n",
       "      <td>318</td>\n",
       "      <td>45</td>\n",
       "      <td>Seed Pokémon</td>\n",
       "      <td>49</td>\n",
       "      <td>1059860</td>\n",
       "      <td>0.7</td>\n",
       "      <td>45</td>\n",
       "      <td>...</td>\n",
       "      <td>88.1</td>\n",
       "      <td>1</td>\n",
       "      <td>65</td>\n",
       "      <td>65</td>\n",
       "      <td>45</td>\n",
       "      <td>grass</td>\n",
       "      <td>poison</td>\n",
       "      <td>6.9</td>\n",
       "      <td>1</td>\n",
       "      <td>False</td>\n",
       "    </tr>\n",
       "    <tr>\n",
       "      <th>1</th>\n",
       "      <td>62</td>\n",
       "      <td>5120</td>\n",
       "      <td>70</td>\n",
       "      <td>405</td>\n",
       "      <td>45</td>\n",
       "      <td>Seed Pokémon</td>\n",
       "      <td>63</td>\n",
       "      <td>1059860</td>\n",
       "      <td>1.0</td>\n",
       "      <td>60</td>\n",
       "      <td>...</td>\n",
       "      <td>88.1</td>\n",
       "      <td>2</td>\n",
       "      <td>80</td>\n",
       "      <td>80</td>\n",
       "      <td>60</td>\n",
       "      <td>grass</td>\n",
       "      <td>poison</td>\n",
       "      <td>13.0</td>\n",
       "      <td>1</td>\n",
       "      <td>False</td>\n",
       "    </tr>\n",
       "    <tr>\n",
       "      <th>2</th>\n",
       "      <td>100</td>\n",
       "      <td>5120</td>\n",
       "      <td>70</td>\n",
       "      <td>625</td>\n",
       "      <td>45</td>\n",
       "      <td>Seed Pokémon</td>\n",
       "      <td>123</td>\n",
       "      <td>1059860</td>\n",
       "      <td>2.0</td>\n",
       "      <td>80</td>\n",
       "      <td>...</td>\n",
       "      <td>88.1</td>\n",
       "      <td>3</td>\n",
       "      <td>122</td>\n",
       "      <td>120</td>\n",
       "      <td>80</td>\n",
       "      <td>grass</td>\n",
       "      <td>poison</td>\n",
       "      <td>100.0</td>\n",
       "      <td>1</td>\n",
       "      <td>False</td>\n",
       "    </tr>\n",
       "    <tr>\n",
       "      <th>3</th>\n",
       "      <td>52</td>\n",
       "      <td>5120</td>\n",
       "      <td>70</td>\n",
       "      <td>309</td>\n",
       "      <td>45</td>\n",
       "      <td>Lizard Pokémon</td>\n",
       "      <td>43</td>\n",
       "      <td>1059860</td>\n",
       "      <td>0.6</td>\n",
       "      <td>39</td>\n",
       "      <td>...</td>\n",
       "      <td>88.1</td>\n",
       "      <td>4</td>\n",
       "      <td>60</td>\n",
       "      <td>50</td>\n",
       "      <td>65</td>\n",
       "      <td>fire</td>\n",
       "      <td>NaN</td>\n",
       "      <td>8.5</td>\n",
       "      <td>1</td>\n",
       "      <td>False</td>\n",
       "    </tr>\n",
       "    <tr>\n",
       "      <th>4</th>\n",
       "      <td>64</td>\n",
       "      <td>5120</td>\n",
       "      <td>70</td>\n",
       "      <td>405</td>\n",
       "      <td>45</td>\n",
       "      <td>Flame Pokémon</td>\n",
       "      <td>58</td>\n",
       "      <td>1059860</td>\n",
       "      <td>1.1</td>\n",
       "      <td>58</td>\n",
       "      <td>...</td>\n",
       "      <td>88.1</td>\n",
       "      <td>5</td>\n",
       "      <td>80</td>\n",
       "      <td>65</td>\n",
       "      <td>80</td>\n",
       "      <td>fire</td>\n",
       "      <td>NaN</td>\n",
       "      <td>19.0</td>\n",
       "      <td>1</td>\n",
       "      <td>False</td>\n",
       "    </tr>\n",
       "    <tr>\n",
       "      <th>...</th>\n",
       "      <td>...</td>\n",
       "      <td>...</td>\n",
       "      <td>...</td>\n",
       "      <td>...</td>\n",
       "      <td>...</td>\n",
       "      <td>...</td>\n",
       "      <td>...</td>\n",
       "      <td>...</td>\n",
       "      <td>...</td>\n",
       "      <td>...</td>\n",
       "      <td>...</td>\n",
       "      <td>...</td>\n",
       "      <td>...</td>\n",
       "      <td>...</td>\n",
       "      <td>...</td>\n",
       "      <td>...</td>\n",
       "      <td>...</td>\n",
       "      <td>...</td>\n",
       "      <td>...</td>\n",
       "      <td>...</td>\n",
       "      <td>...</td>\n",
       "    </tr>\n",
       "    <tr>\n",
       "      <th>779</th>\n",
       "      <td>60</td>\n",
       "      <td>5120</td>\n",
       "      <td>70</td>\n",
       "      <td>485</td>\n",
       "      <td>70</td>\n",
       "      <td>Placid Pokémon</td>\n",
       "      <td>85</td>\n",
       "      <td>1000000</td>\n",
       "      <td>3.0</td>\n",
       "      <td>78</td>\n",
       "      <td>...</td>\n",
       "      <td>50.0</td>\n",
       "      <td>780</td>\n",
       "      <td>135</td>\n",
       "      <td>91</td>\n",
       "      <td>36</td>\n",
       "      <td>normal</td>\n",
       "      <td>dragon</td>\n",
       "      <td>185.0</td>\n",
       "      <td>7</td>\n",
       "      <td>False</td>\n",
       "    </tr>\n",
       "    <tr>\n",
       "      <th>780</th>\n",
       "      <td>131</td>\n",
       "      <td>6400</td>\n",
       "      <td>70</td>\n",
       "      <td>517</td>\n",
       "      <td>25</td>\n",
       "      <td>Sea Creeper Pokémon</td>\n",
       "      <td>100</td>\n",
       "      <td>1000000</td>\n",
       "      <td>3.9</td>\n",
       "      <td>70</td>\n",
       "      <td>...</td>\n",
       "      <td>NaN</td>\n",
       "      <td>781</td>\n",
       "      <td>86</td>\n",
       "      <td>90</td>\n",
       "      <td>40</td>\n",
       "      <td>ghost</td>\n",
       "      <td>grass</td>\n",
       "      <td>210.0</td>\n",
       "      <td>7</td>\n",
       "      <td>False</td>\n",
       "    </tr>\n",
       "    <tr>\n",
       "      <th>781</th>\n",
       "      <td>55</td>\n",
       "      <td>10240</td>\n",
       "      <td>70</td>\n",
       "      <td>300</td>\n",
       "      <td>45</td>\n",
       "      <td>Scaly Pokémon</td>\n",
       "      <td>65</td>\n",
       "      <td>1250000</td>\n",
       "      <td>0.6</td>\n",
       "      <td>45</td>\n",
       "      <td>...</td>\n",
       "      <td>50.0</td>\n",
       "      <td>782</td>\n",
       "      <td>45</td>\n",
       "      <td>45</td>\n",
       "      <td>45</td>\n",
       "      <td>dragon</td>\n",
       "      <td>NaN</td>\n",
       "      <td>29.7</td>\n",
       "      <td>7</td>\n",
       "      <td>False</td>\n",
       "    </tr>\n",
       "    <tr>\n",
       "      <th>782</th>\n",
       "      <td>75</td>\n",
       "      <td>10240</td>\n",
       "      <td>70</td>\n",
       "      <td>420</td>\n",
       "      <td>45</td>\n",
       "      <td>Scaly Pokémon</td>\n",
       "      <td>90</td>\n",
       "      <td>1250000</td>\n",
       "      <td>1.2</td>\n",
       "      <td>55</td>\n",
       "      <td>...</td>\n",
       "      <td>50.0</td>\n",
       "      <td>783</td>\n",
       "      <td>65</td>\n",
       "      <td>70</td>\n",
       "      <td>65</td>\n",
       "      <td>dragon</td>\n",
       "      <td>fighting</td>\n",
       "      <td>47.0</td>\n",
       "      <td>7</td>\n",
       "      <td>False</td>\n",
       "    </tr>\n",
       "    <tr>\n",
       "      <th>783</th>\n",
       "      <td>110</td>\n",
       "      <td>10240</td>\n",
       "      <td>70</td>\n",
       "      <td>600</td>\n",
       "      <td>45</td>\n",
       "      <td>Scaly Pokémon</td>\n",
       "      <td>125</td>\n",
       "      <td>1250000</td>\n",
       "      <td>1.6</td>\n",
       "      <td>75</td>\n",
       "      <td>...</td>\n",
       "      <td>50.0</td>\n",
       "      <td>784</td>\n",
       "      <td>100</td>\n",
       "      <td>105</td>\n",
       "      <td>85</td>\n",
       "      <td>dragon</td>\n",
       "      <td>fighting</td>\n",
       "      <td>78.2</td>\n",
       "      <td>7</td>\n",
       "      <td>False</td>\n",
       "    </tr>\n",
       "  </tbody>\n",
       "</table>\n",
       "<p>731 rows × 21 columns</p>\n",
       "</div>"
      ],
      "text/plain": [
       "     attack  base_egg_steps  base_happiness  base_total capture_rate  \\\n",
       "0        49            5120              70         318           45   \n",
       "1        62            5120              70         405           45   \n",
       "2       100            5120              70         625           45   \n",
       "3        52            5120              70         309           45   \n",
       "4        64            5120              70         405           45   \n",
       "..      ...             ...             ...         ...          ...   \n",
       "779      60            5120              70         485           70   \n",
       "780     131            6400              70         517           25   \n",
       "781      55           10240              70         300           45   \n",
       "782      75           10240              70         420           45   \n",
       "783     110           10240              70         600           45   \n",
       "\n",
       "          classification  defense  experience_growth  height_m  hp  ...  \\\n",
       "0           Seed Pokémon       49            1059860       0.7  45  ...   \n",
       "1           Seed Pokémon       63            1059860       1.0  60  ...   \n",
       "2           Seed Pokémon      123            1059860       2.0  80  ...   \n",
       "3         Lizard Pokémon       43            1059860       0.6  39  ...   \n",
       "4          Flame Pokémon       58            1059860       1.1  58  ...   \n",
       "..                   ...      ...                ...       ...  ..  ...   \n",
       "779       Placid Pokémon       85            1000000       3.0  78  ...   \n",
       "780  Sea Creeper Pokémon      100            1000000       3.9  70  ...   \n",
       "781        Scaly Pokémon       65            1250000       0.6  45  ...   \n",
       "782        Scaly Pokémon       90            1250000       1.2  55  ...   \n",
       "783        Scaly Pokémon      125            1250000       1.6  75  ...   \n",
       "\n",
       "    percentage_male  pokedex_number  sp_attack  sp_defense  speed   type1  \\\n",
       "0              88.1               1         65          65     45   grass   \n",
       "1              88.1               2         80          80     60   grass   \n",
       "2              88.1               3        122         120     80   grass   \n",
       "3              88.1               4         60          50     65    fire   \n",
       "4              88.1               5         80          65     80    fire   \n",
       "..              ...             ...        ...         ...    ...     ...   \n",
       "779            50.0             780        135          91     36  normal   \n",
       "780             NaN             781         86          90     40   ghost   \n",
       "781            50.0             782         45          45     45  dragon   \n",
       "782            50.0             783         65          70     65  dragon   \n",
       "783            50.0             784        100         105     85  dragon   \n",
       "\n",
       "        type2 weight_kg  generation  is_legendary  \n",
       "0      poison       6.9           1         False  \n",
       "1      poison      13.0           1         False  \n",
       "2      poison     100.0           1         False  \n",
       "3         NaN       8.5           1         False  \n",
       "4         NaN      19.0           1         False  \n",
       "..        ...       ...         ...           ...  \n",
       "779    dragon     185.0           7         False  \n",
       "780     grass     210.0           7         False  \n",
       "781       NaN      29.7           7         False  \n",
       "782  fighting      47.0           7         False  \n",
       "783  fighting      78.2           7         False  \n",
       "\n",
       "[731 rows x 21 columns]"
      ]
     },
     "execution_count": 95,
     "metadata": {},
     "output_type": "execute_result"
    }
   ],
   "source": [
    "normal_df"
   ]
  },
  {
   "cell_type": "code",
   "execution_count": 96,
   "metadata": {},
   "outputs": [
    {
     "data": {
      "image/png": "[encoded data removed]",
      "text/plain": [
       "<Figure size 576x432 with 1 Axes>"
      ]
     },
     "metadata": {},
     "output_type": "display_data"
    }
   ],
   "source": [
    "# Plotting the histograms of distributions of base totals\n",
    "plt.figure(figsize=(8, 6))\n",
    "sns.histplot(normal_df.base_total, kde=True, color='blue', alpha=0.4, label='\"Normal\" Pokémon');\n",
    "sns.histplot(legendary_df.base_total, kde=True, color='red', alpha=0.4, label='Legendary Pokémon');\n",
    "plt.legend();\n",
    "plt.xlabel('Base total');\n",
    "plt.ylabel('Number of Pokémon');\n",
    "plt.title('Distribution of base totals of \"normal\" and Legendary Pokémon');"
   ]
  },
  {
   "cell_type": "markdown",
   "metadata": {},
   "source": [
    "The histogram of the base total of \"normal\" Pokémon follows a [bimodal distribution](https://www.statisticshowto.com/what-is-a-bimodal-distribution/) and has 2 peaks, one at roughly 300, and the other at roughly 500. **The distribution of the base total of Legendary Pokémon peaks at roughly 550 - 600**. There are very few Legendary Pokémon with a low base total (< 500), but they do exist. **The maximum values of the base total of \"normal\" Pokémon do not seem to go higher than 700, but there are a few Legendary Pokémon with base totals that exceeds 700. This graph indicates that Legendary Pokémon, in general, tend to be \"stronger\" than \"normal\" Pokémon.**"
   ]
  },
  {
   "cell_type": "markdown",
   "metadata": {},
   "source": [
    "But I feel like this is not enough to prove that Legendary Pokemon are \"stronger\" than normal Pokémon in general. So I will create a boxplot of Pokémon base totals for each generation, and compare Legendary *versus* \"normal\" Pokémon. According to Bulbapedia, \"*a generation is a grouping of the Pokémon games that separates them based on the Pokémon they include. In each generation, a new set of Pokémon, region, moves, and Abilities that did not exist in the previous generation are released*\" (Source: [Bulbapedia - Generation](https://bulbapedia.bulbagarden.net/wiki/Generation))."
   ]
  },
  {
   "cell_type": "code",
   "execution_count": 97,
   "metadata": {},
   "outputs": [
    {
     "data": {
      "image/png": "[encoded data removed]",
      "text/plain": [
       "<Figure size 864x576 with 1 Axes>"
      ]
     },
     "metadata": {},
     "output_type": "display_data"
    }
   ],
   "source": [
    "# This is to create the 2D artists for the legend\n",
    "art_normal_pokemon = matplotlib.patches.Patch(facecolor='steelblue', edgecolor='black',\n",
    "                                          label='\"Normal\" Pokémon', linewidth=1.2)\n",
    "art_legendary_pokemon = matplotlib.patches.Patch(facecolor='chocolate', edgecolor='black',\n",
    "                                             label='Legendary Pokémon', linewidth=1.2)\n",
    "\n",
    "# Plotting the boxplot\n",
    "plt.figure(figsize=(12,8))\n",
    "sns.boxplot(x=pok_df.generation, y=pok_df.base_total,\n",
    "            hue=pok_df.is_legendary, fliersize=7);\n",
    "\n",
    "# Plotting the axis labels and legend\n",
    "plt.xlabel('Pokémon generation');\n",
    "plt.ylabel('Pokémon base total');\n",
    "plt.legend(handles=[art_normal_pokemon, art_legendary_pokemon]);"
   ]
  },
  {
   "cell_type": "markdown",
   "metadata": {},
   "source": [
    "> This boxplot shows most \"normal\" Pokémon have a base total between 300 and 500, and there seems to be no significant differences among generations of \"normal\" Pokémon. Few \"normal\" Pokémon have a base total that exceeds 500, and even fewer have a base total that exceeds 600. But *no \"normal\" Pokémon exceeds 700 in its base total.*\n",
    "\n",
    "> Among **Legendary Pokémon**, most of them have a base total that exceeds 600, and *some of them even exceed 700 in their base total*. This indicates that **Legendary Pokémon do tend to be \"stronger\" in general than the vast majority of \"normal\" Pokémon, but that is not always true for all Legendary Pokémon.** For example, in the seventh generation there are two Legendary Pokémon with low base totals (at 400 and 200 base totals)."
   ]
  },
  {
   "cell_type": "code",
   "execution_count": 98,
   "metadata": {},
   "outputs": [
    {
     "data": {
      "text/html": [
       "<div>\n",
       "<style scoped>\n",
       "    .dataframe tbody tr th:only-of-type {\n",
       "        vertical-align: middle;\n",
       "    }\n",
       "\n",
       "    .dataframe tbody tr th {\n",
       "        vertical-align: top;\n",
       "    }\n",
       "\n",
       "    .dataframe thead th {\n",
       "        text-align: right;\n",
       "    }\n",
       "</style>\n",
       "<table border=\"1\" class=\"dataframe\">\n",
       "  <thead>\n",
       "    <tr style=\"text-align: right;\">\n",
       "      <th></th>\n",
       "      <th>name</th>\n",
       "      <th>classification</th>\n",
       "      <th>type1</th>\n",
       "      <th>type2</th>\n",
       "      <th>generation</th>\n",
       "      <th>base_total</th>\n",
       "      <th>pokedex_number</th>\n",
       "      <th>is_legendary</th>\n",
       "    </tr>\n",
       "  </thead>\n",
       "  <tbody>\n",
       "    <tr>\n",
       "      <th>788</th>\n",
       "      <td>Cosmog</td>\n",
       "      <td>Nebula Pokémon</td>\n",
       "      <td>psychic</td>\n",
       "      <td>NaN</td>\n",
       "      <td>7</td>\n",
       "      <td>200</td>\n",
       "      <td>789</td>\n",
       "      <td>True</td>\n",
       "    </tr>\n",
       "    <tr>\n",
       "      <th>789</th>\n",
       "      <td>Cosmoem</td>\n",
       "      <td>Protostar Pokémon</td>\n",
       "      <td>psychic</td>\n",
       "      <td>NaN</td>\n",
       "      <td>7</td>\n",
       "      <td>400</td>\n",
       "      <td>790</td>\n",
       "      <td>True</td>\n",
       "    </tr>\n",
       "  </tbody>\n",
       "</table>\n",
       "</div>"
      ],
      "text/plain": [
       "        name     classification    type1 type2  generation  base_total  \\\n",
       "788   Cosmog     Nebula Pokémon  psychic   NaN           7         200   \n",
       "789  Cosmoem  Protostar Pokémon  psychic   NaN           7         400   \n",
       "\n",
       "     pokedex_number  is_legendary  \n",
       "788             789          True  \n",
       "789             790          True  "
      ]
     },
     "execution_count": 98,
     "metadata": {},
     "output_type": "execute_result"
    }
   ],
   "source": [
    "# Here are informations about those two \"weaker\" Legendary Pokémon\n",
    "legendary_df[legendary_df.base_total < 500][['name', 'classification', 'type1', 'type2', 'generation',\n",
    "                                             'base_total', 'pokedex_number', 'is_legendary']]"
   ]
  },
  {
   "cell_type": "markdown",
   "metadata": {},
   "source": [
    "**In the cell below I show informations about Legendary Pokémon with a base total of over 700 (which are \"stronger\" than all \"normal\" Pokémon).**"
   ]
  },
  {
   "cell_type": "code",
   "execution_count": 99,
   "metadata": {},
   "outputs": [
    {
     "data": {
      "text/html": [
       "<div>\n",
       "<style scoped>\n",
       "    .dataframe tbody tr th:only-of-type {\n",
       "        vertical-align: middle;\n",
       "    }\n",
       "\n",
       "    .dataframe tbody tr th {\n",
       "        vertical-align: top;\n",
       "    }\n",
       "\n",
       "    .dataframe thead th {\n",
       "        text-align: right;\n",
       "    }\n",
       "</style>\n",
       "<table border=\"1\" class=\"dataframe\">\n",
       "  <thead>\n",
       "    <tr style=\"text-align: right;\">\n",
       "      <th></th>\n",
       "      <th>name</th>\n",
       "      <th>classification</th>\n",
       "      <th>type1</th>\n",
       "      <th>type2</th>\n",
       "      <th>generation</th>\n",
       "      <th>base_total</th>\n",
       "      <th>pokedex_number</th>\n",
       "      <th>is_legendary</th>\n",
       "    </tr>\n",
       "  </thead>\n",
       "  <tbody>\n",
       "    <tr>\n",
       "      <th>149</th>\n",
       "      <td>Mewtwo</td>\n",
       "      <td>Genetic Pokémon</td>\n",
       "      <td>psychic</td>\n",
       "      <td>NaN</td>\n",
       "      <td>1</td>\n",
       "      <td>780</td>\n",
       "      <td>150</td>\n",
       "      <td>True</td>\n",
       "    </tr>\n",
       "    <tr>\n",
       "      <th>381</th>\n",
       "      <td>Kyogre</td>\n",
       "      <td>Sea Basin Pokémon</td>\n",
       "      <td>water</td>\n",
       "      <td>NaN</td>\n",
       "      <td>3</td>\n",
       "      <td>770</td>\n",
       "      <td>382</td>\n",
       "      <td>True</td>\n",
       "    </tr>\n",
       "    <tr>\n",
       "      <th>382</th>\n",
       "      <td>Groudon</td>\n",
       "      <td>Continent Pokémon</td>\n",
       "      <td>ground</td>\n",
       "      <td>NaN</td>\n",
       "      <td>3</td>\n",
       "      <td>770</td>\n",
       "      <td>383</td>\n",
       "      <td>True</td>\n",
       "    </tr>\n",
       "    <tr>\n",
       "      <th>383</th>\n",
       "      <td>Rayquaza</td>\n",
       "      <td>Sky High Pokémon</td>\n",
       "      <td>dragon</td>\n",
       "      <td>flying</td>\n",
       "      <td>3</td>\n",
       "      <td>780</td>\n",
       "      <td>384</td>\n",
       "      <td>True</td>\n",
       "    </tr>\n",
       "    <tr>\n",
       "      <th>492</th>\n",
       "      <td>Arceus</td>\n",
       "      <td>Alpha Pokémon</td>\n",
       "      <td>normal</td>\n",
       "      <td>NaN</td>\n",
       "      <td>4</td>\n",
       "      <td>720</td>\n",
       "      <td>493</td>\n",
       "      <td>True</td>\n",
       "    </tr>\n",
       "    <tr>\n",
       "      <th>717</th>\n",
       "      <td>Zygarde</td>\n",
       "      <td>Order Pokémon</td>\n",
       "      <td>dragon</td>\n",
       "      <td>ground</td>\n",
       "      <td>6</td>\n",
       "      <td>708</td>\n",
       "      <td>718</td>\n",
       "      <td>True</td>\n",
       "    </tr>\n",
       "  </tbody>\n",
       "</table>\n",
       "</div>"
      ],
      "text/plain": [
       "         name     classification    type1   type2  generation  base_total  \\\n",
       "149    Mewtwo    Genetic Pokémon  psychic     NaN           1         780   \n",
       "381    Kyogre  Sea Basin Pokémon    water     NaN           3         770   \n",
       "382   Groudon  Continent Pokémon   ground     NaN           3         770   \n",
       "383  Rayquaza   Sky High Pokémon   dragon  flying           3         780   \n",
       "492    Arceus      Alpha Pokémon   normal     NaN           4         720   \n",
       "717   Zygarde      Order Pokémon   dragon  ground           6         708   \n",
       "\n",
       "     pokedex_number  is_legendary  \n",
       "149             150          True  \n",
       "381             382          True  \n",
       "382             383          True  \n",
       "383             384          True  \n",
       "492             493          True  \n",
       "717             718          True  "
      ]
     },
     "execution_count": 99,
     "metadata": {},
     "output_type": "execute_result"
    }
   ],
   "source": [
    "legendary_df[legendary_df.base_total > 700][['name', 'classification', 'type1', 'type2', 'generation',\n",
    "                                             'base_total', 'pokedex_number', 'is_legendary']]"
   ]
  },
  {
   "cell_type": "markdown",
   "metadata": {},
   "source": [
    "So only 6 out of 70 Legendary Pokémon exceed a base total of 700. These 6 Legendary Pokémon can be considered \"stronger\" than any \"normal\" Pokémon, since no \"normal\" Pokémon exceed a base total of 700. The output of the code cell below proves that statement (the output is a dataframe with zero rows)."
   ]
  },
  {
   "cell_type": "code",
   "execution_count": 100,
   "metadata": {},
   "outputs": [
    {
     "data": {
      "text/html": [
       "<div>\n",
       "<style scoped>\n",
       "    .dataframe tbody tr th:only-of-type {\n",
       "        vertical-align: middle;\n",
       "    }\n",
       "\n",
       "    .dataframe tbody tr th {\n",
       "        vertical-align: top;\n",
       "    }\n",
       "\n",
       "    .dataframe thead th {\n",
       "        text-align: right;\n",
       "    }\n",
       "</style>\n",
       "<table border=\"1\" class=\"dataframe\">\n",
       "  <thead>\n",
       "    <tr style=\"text-align: right;\">\n",
       "      <th></th>\n",
       "      <th>attack</th>\n",
       "      <th>base_egg_steps</th>\n",
       "      <th>base_happiness</th>\n",
       "      <th>base_total</th>\n",
       "      <th>capture_rate</th>\n",
       "      <th>classification</th>\n",
       "      <th>defense</th>\n",
       "      <th>experience_growth</th>\n",
       "      <th>height_m</th>\n",
       "      <th>hp</th>\n",
       "      <th>...</th>\n",
       "      <th>percentage_male</th>\n",
       "      <th>pokedex_number</th>\n",
       "      <th>sp_attack</th>\n",
       "      <th>sp_defense</th>\n",
       "      <th>speed</th>\n",
       "      <th>type1</th>\n",
       "      <th>type2</th>\n",
       "      <th>weight_kg</th>\n",
       "      <th>generation</th>\n",
       "      <th>is_legendary</th>\n",
       "    </tr>\n",
       "  </thead>\n",
       "  <tbody>\n",
       "  </tbody>\n",
       "</table>\n",
       "<p>0 rows × 21 columns</p>\n",
       "</div>"
      ],
      "text/plain": [
       "Empty DataFrame\n",
       "Columns: [attack, base_egg_steps, base_happiness, base_total, capture_rate, classification, defense, experience_growth, height_m, hp, name, percentage_male, pokedex_number, sp_attack, sp_defense, speed, type1, type2, weight_kg, generation, is_legendary]\n",
       "Index: []\n",
       "\n",
       "[0 rows x 21 columns]"
      ]
     },
     "execution_count": 100,
     "metadata": {},
     "output_type": "execute_result"
    }
   ],
   "source": [
    "normal_df[normal_df.base_total > 700]"
   ]
  },
  {
   "cell_type": "code",
   "execution_count": 101,
   "metadata": {},
   "outputs": [],
   "source": [
    "# import jovian\n",
    "# jovian.commit(project=project_name, environment=None)"
   ]
  },
  {
   "cell_type": "markdown",
   "metadata": {},
   "source": [
    "## Question 5: Are heavier Pokémon \"stronger\" than lighter Pokémon in general?"
   ]
  },
  {
   "cell_type": "markdown",
   "metadata": {},
   "source": [
    "In this question I will try to find if there is a positive relationship between the bodyweight and the base total of Pokémon. Once again, I am considering Pokémon with a higher base total as \"stronger\" Pokémon. For this analysis I will consider only non-legendary Pokémon (\"normal\" Pokémon). So, I will use the `normal_df` dataframe created in the previous question (which includes only \"normal\" Pokémon). I believe that creating a scatterplot of base total *v.s.* bodyweight would be the best way of finding the answer to this question."
   ]
  },
  {
   "cell_type": "markdown",
   "metadata": {},
   "source": [
    "In the code cell below, I define the ticks on the x axis manually (I wanted to include more ticks than the default). So I used the `xticks` function of matplotlib to manually specify the ticks on the x axis, and then I passed as the argument a numpy array starting at `0` with a step of `100`, and ending at `900`. To create this array, I used the function `arange(0, 901, 100)` from the numpy library."
   ]
  },
  {
   "cell_type": "code",
   "execution_count": 102,
   "metadata": {},
   "outputs": [
    {
     "data": {
      "image/png": "[encoded data removed]",
      "text/plain": [
       "<Figure size 720x504 with 1 Axes>"
      ]
     },
     "metadata": {},
     "output_type": "display_data"
    }
   ],
   "source": [
    "plt.figure(figsize=(10,7))\n",
    "plt.xlabel('Pokémon bodyweight (kg)')\n",
    "plt.ylabel('Pokémon base total')\n",
    "plt.xticks(np.arange(0, 901, 100)) # Define the ticks on x axis\n",
    "sns.scatterplot(x='weight_kg', y='base_total', data=normal_df);"
   ]
  },
  {
   "cell_type": "markdown",
   "metadata": {},
   "source": [
    "There seems to be some kind of relationship between the bodyweight and base total of Pokémon, but this relationship is not perfect, and it is **not linear**. Although there seems to be some outliers, the relationship between the base total and bodyweight of Pokémon seems to follow a [logarithmic function](https://www.mathsisfun.com/sets/function-logarithmic.html) or at least something close to it (more information on logarithms: [Wikipedia: logarithm](https://en.wikipedia.org/wiki/Logarithm)). One way of finding out if that holds true for the data being analyzed is to **convert one of the axis to the logarithmic scale (log scale), and then plot the data again.** If the new graph shows a pattern of a linear relationship, then it is very likely that the data does follow a logarithmic function. So I will plot the same data again, but with the bodyweight of Pokémon converted to their [natural logarithm](https://en.wikipedia.org/wiki/Natural_logarithm). For that, I will use the function `log` from the numpy library, which returns the natural logarithms of the values passed as the argument."
   ]
  },
  {
   "cell_type": "code",
   "execution_count": 103,
   "metadata": {},
   "outputs": [
    {
     "data": {
      "image/png": "[encoded data removed]",
      "text/plain": [
       "<Figure size 720x504 with 1 Axes>"
      ]
     },
     "metadata": {},
     "output_type": "display_data"
    }
   ],
   "source": [
    "plt.figure(figsize=(10,7))\n",
    "plt.xlabel('Pokémon bodyweight (log converted)')\n",
    "plt.ylabel('Pokémon base total')\n",
    "sns.scatterplot(x=np.log(normal_df.weight_kg), # x axis converted to the log scale\n",
    "                y=normal_df.base_total);"
   ]
  },
  {
   "cell_type": "markdown",
   "metadata": {},
   "source": [
    "There seems to be some outliers in this graph especially at the left side of the graph (most of the Pokémons with values of log-bodyweight lower than zero could be considered outliers). But in general, after converting the x axis into log scale, it is possible to visualize a linear relationship between log-bodyweight and base total (for Pokémon with a log-bodyweight higher than zero). This means that, **in general, Pokémon with heavier bodyweight tend to have a higher base total (i.e. tend to be \"stronger\") than Pokémon with lighter bodyweight, but this relationship is not linear, but rather logarithmic, and there are a few Pokémon that are exceptions to this rule (outliers).**"
   ]
  },
  {
   "cell_type": "markdown",
   "metadata": {},
   "source": [
    "This makes sense, since most of the subsequent evolutions of each Pokémon are generally bigger, heavier, and with higher base stats (which means higher base total) than the previous evolution. So a positive relationship between base total and bodyweight was already expected for most \"normal\" Pokémon (non-legendary), but I found this relationship is more likely a **logarithmic function**, rather than a linear function. This means that the base total of Pokémon does **not** increase in a linear way according to its bodyweight, but rather there are *diminishing returns* of the increase in base total with the increase in bodyweight."
   ]
  },
  {
   "cell_type": "code",
   "execution_count": 104,
   "metadata": {},
   "outputs": [],
   "source": [
    "# import jovian\n",
    "# jovian.commit(project=project_name, environment=None)"
   ]
  },
  {
   "cell_type": "markdown",
   "metadata": {},
   "source": [
    "# Inferences and Conclusion\n",
    "\n",
    "In this section I will make a summary of the main findings in my analysis and write a short conclusion about what I have learned during the analysis of this dataset."
   ]
  },
  {
   "cell_type": "markdown",
   "metadata": {},
   "source": [
    "> * When analysing Pokémon types, it is necessary to analyze both the primary and secondary types together, since more than half of Pokémon are dual-type, and since the distribution of Pokémon types is quite different looking separately at primary types *versus* secondary types. Therefore, any inferences about Pokémon types based only on the analysis of primary types or secondary types separately may be wrong or incomplete.\n",
    "\n",
    "> * The most common Pokémon types overall (considering both primary and secondary types) are water, normal, flying and grass. The rarest type overall is ice, followed by ghost, dragon and steel.\n",
    "\n",
    "> * The most common combination of Pokémon types is normal and flying (primary type and secondary type, respectively). The second most common combination is grass and poison, and the third is bug and flying.\n",
    "\n",
    "> * Legendary Pokémon represent only roughly 8.7% of all Pokémon, and the distribution of Pokémon types among them differs quite a bit from the distribution among all Pokémon. The most common Pokémon types among Legendary Pokémon are psychic, dragon, flying and steel. The dragon and steel types, despite being common among Legendary Pokémon, are quite rare among all Pokémon.\n",
    "\n",
    "> * Legendary Pokémon tend to have a higher base total than \"normal\" Pokémon in general. The base total of a Pokémon consists of the sum of its base stats (which includes hp, attack, defense, special attack, special defense, and speed), and can be considered a general guide to how \"strong\" a Pokémon is. That being said, not all Legendary Pokémon are \"stronger\" (i.e. have a higher base total) than all \"normal\" Pokémon. But a few Legendary Pokémon (six of them, to be precise) exceed 700 in their base total, a value of base total in which no \"normal\" Pokémon exceeds.\n",
    "\n",
    "> * Among \"normal\" Pokémon, excluding some outliers, there seems to be a positive relationship of bodyweight and base total in general. This means that heavier Pokémon tend to have higher base totals (i.e. tend to be \"stronger\") than lighter Pokémon, in general. This makes sense because the subsequent evolution of a Pokémon tends to have higher bodyweight and higher base total than the previous evolution, in general. But I found that this relationship between bodyweight and base total follows a logarithmic function, rather than a linear function. This implies that there are *diminishing returns* of the increase in base total with the increase in bodyweight of Pokémon."
   ]
  },
  {
   "cell_type": "markdown",
   "metadata": {},
   "source": [
    "Although some people may not like the idea of spending time analyzing fictional data from a video game/anime series, this project was an interesting and fun way to learn and practice important skills related to data manipulation, data analysis and data visualization using Python with many of its libraries, like NumPy, Pandas, Matplotlib and Seaborn."
   ]
  },
  {
   "cell_type": "code",
   "execution_count": 105,
   "metadata": {},
   "outputs": [],
   "source": [
    "# import jovian\n",
    "# jovian.commit(project=project_name, environment=None)"
   ]
  },
  {
   "cell_type": "markdown",
   "metadata": {},
   "source": [
    "# Ideas for future work and references\n",
    "\n",
    "In this section, I will share some ideas for future work for people interested in analyzing this Pokémon dataset. I will also share some links with useful information about Pokémon, as well as the links to the Python libraries and to the documentation of some functions used during this project as well."
   ]
  },
  {
   "cell_type": "markdown",
   "metadata": {},
   "source": [
    "### Ideas for future work\n",
    "> * Investigate why \"normal\" Pokémon have a bimodal distribution of base total. When I plotted the histogram of base total in **question 4**, I noticed that the base total follows a bimodal distribution for \"normal\" Pokémon, with two peaks, one at roughly 300, and the other at roughly 500. The bimodal distribution generally indicates that there are two distinct groups in your data. One idea for future work is finding out which are these two groups. That may be related to the Pokémon types.\n",
    "\n",
    "> * Explore whether there are some types of Pokémon which are \"stronger\" (i.e. have a higher base total) in general than other types.\n",
    "\n",
    "> * Explore which types of Pokémon have the highest base HP, or highest base attack, or highest base defense, or the highest base speed.\n",
    "\n",
    "> * Compare the base totals of Legendary and \"normal\" Pokémon, considering only psychic, dragon and steel Pokémon types separately, for example. And see if there are significant difference of base total between \"normal\" and Legendary Pokémon of the same type.\n",
    "\n",
    "> * Explore which types of Pokémon are the most susceptible to the attacks of other types (i.e. take more damage from the attacks of other Pokémon types) and which types are the least susceptible to the attacks of other types. It will be necessary to use the columns that starts with `against_` for this analysis."
   ]
  },
  {
   "cell_type": "markdown",
   "metadata": {},
   "source": [
    "### References\n",
    "**About Pokémon**\n",
    "* [Official Pokémon website](https://www.pokemon.com)\n",
    "* [Wikipedia: Pokémon](https://en.wikipedia.org/wiki/Pok%C3%A9mon)\n",
    "* [Bulbapedia website](https://bulbapedia.bulbagarden.net/wiki/Main_Page)\n",
    "* [Bulbapedia: Legendary Pokémon](https://bulbapedia.bulbagarden.net/wiki/Legendary_Pok%C3%A9mon)\n",
    "* [Bulbapedia: Pokémon generation](https://bulbapedia.bulbagarden.net/wiki/Generation)\n",
    "---\n",
    "**Python libraries**\n",
    "* [NumPy](https://numpy.org/)\n",
    "* [Pandas](https://pandas.pydata.org/)\n",
    "* [Matplotlib](https://matplotlib.org/)\n",
    "* [Seaborn](https://seaborn.pydata.org/)\n",
    "---\n",
    "**Functions documentation**\n",
    "* [numpy.arange](https://numpy.org/doc/stable/reference/generated/numpy.arange.html)\n",
    "* [numpy.log](https://numpy.org/doc/stable/reference/generated/numpy.log.html)\n",
    "* [pandas.isnull](https://pandas.pydata.org/pandas-docs/stable/reference/api/pandas.isnull.html)\n",
    "* [pandas.Series.values_counts](https://pandas.pydata.org/pandas-docs/stable/reference/api/pandas.Series.value_counts.html)\n",
    "* [pandas.DataFrame.groupby](https://pandas.pydata.org/pandas-docs/stable/reference/api/pandas.DataFrame.groupby.html)\n",
    "* [pandas.Series.sort_values](https://pandas.pydata.org/pandas-docs/stable/reference/api/pandas.Series.sort_values.html)\n",
    "* [pandas.Series.sort_index](https://pandas.pydata.org/pandas-docs/stable/reference/api/pandas.Series.sort_index.html)\n",
    "* [pandas.Series.reindex](https://pandas.pydata.org/pandas-docs/stable/reference/api/pandas.Series.reindex.html)\n",
    "* [pandas.Series](https://pandas.pydata.org/pandas-docs/stable/reference/api/pandas.Series.html)\n",
    "* [pandas.Series.append](https://pandas.pydata.org/pandas-docs/stable/reference/api/pandas.Series.append.html)\n",
    "* [matplotlib.pyplot.figure](https://matplotlib.org/3.3.2/api/_as_gen/matplotlib.pyplot.figure.html)\n",
    "* [matplotlib.pyplot.pie](https://matplotlib.org/3.1.1/api/_as_gen/matplotlib.pyplot.pie.html)\n",
    "* [matplotlib.pyplot.xticks](https://matplotlib.org/3.3.2/api/_as_gen/matplotlib.pyplot.xticks.html)\n",
    "* [matplotlib.pyplot.subplots](https://matplotlib.org/3.3.2/api/_as_gen/matplotlib.pyplot.subplots.html)\n",
    "* [matplotlib.patches.Patch](https://matplotlib.org/3.1.1/api/_as_gen/matplotlib.patches.Patch.html)\n",
    "* [matplotlib.pyplot.legend](https://matplotlib.org/3.3.2/api/_as_gen/matplotlib.pyplot.legend.html)\n",
    "* [seaborn.histplot](https://seaborn.pydata.org/generated/seaborn.histplot.html)\n",
    "* [seaborn.barplot](https://seaborn.pydata.org/generated/seaborn.barplot.html)\n",
    "* [seaborn.heatmap](https://seaborn.pydata.org/generated/seaborn.heatmap.html)\n",
    "* [seaborn.boxplot](https://seaborn.pydata.org/generated/seaborn.boxplot.html)\n",
    "* [seaborn.scatterplot](https://seaborn.pydata.org/generated/seaborn.scatterplot.html)\n",
    "---\n",
    "**Statistics and mathematics**\n",
    "* [Statistics How To: what is a bimodal distribution](https://www.statisticshowto.com/what-is-a-bimodal-distribution/)\n",
    "* [Math is fun: Logarithmic Function](https://www.mathsisfun.com/sets/function-logarithmic.html)\n",
    "* [Wikipedia: Logarithm](https://en.wikipedia.org/wiki/Logarithm)\n",
    "* [Wikipedia: Natural logarithm](https://en.wikipedia.org/wiki/Natural_logarithm)"
   ]
  },
  {
   "cell_type": "code",
   "execution_count": 110,
   "metadata": {},
   "outputs": [
    {
     "data": {
      "application/javascript": [
       "window.require && require([\"base/js/namespace\"],function(Jupyter){Jupyter.notebook.save_checkpoint()})"
      ],
      "text/plain": [
       "<IPython.core.display.Javascript object>"
      ]
     },
     "metadata": {},
     "output_type": "display_data"
    },
    {
     "name": "stdout",
     "output_type": "stream",
     "text": [
      "[jovian] Attempting to save notebook..\n",
      "[jovian] Updating notebook \"wagb2b2/course-project-pokemon-data-analysis\" on https://jovian.ml/\n",
      "[jovian] Uploading notebook..\n",
      "[jovian] Committed successfully! https://jovian.ml/wagb2b2/course-project-pokemon-data-analysis\n"
     ]
    },
    {
     "data": {
      "text/plain": [
       "'https://jovian.ml/wagb2b2/course-project-pokemon-data-analysis'"
      ]
     },
     "execution_count": 110,
     "metadata": {},
     "output_type": "execute_result"
    }
   ],
   "source": [
    "# import jovian\n",
    "# jovian.commit(project=project_name, environment=None)"
   ]
  },
  {
   "cell_type": "code",
   "execution_count": null,
   "metadata": {},
   "outputs": [],
   "source": []
  }
 ],
 "metadata": {
  "kernelspec": {
   "display_name": "Python 3",
   "language": "python",
   "name": "python3"
  },
  "language_info": {
   "codemirror_mode": {
    "name": "ipython",
    "version": 3
   },
   "file_extension": ".py",
   "mimetype": "text/x-python",
   "name": "python",
   "nbconvert_exporter": "python",
   "pygments_lexer": "ipython3",
   "version": "3.8.5"
  }
 },
 "nbformat": 4,
 "nbformat_minor": 4
}
